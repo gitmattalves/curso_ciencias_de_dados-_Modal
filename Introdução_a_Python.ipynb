{
  "nbformat": 4,
  "nbformat_minor": 0,
  "metadata": {
    "colab": {
      "name": "Introdução a Python.ipynb",
      "provenance": [],
      "authorship_tag": "ABX9TyMiNgtFK4dBFiR2Z78Zpnk1",
      "include_colab_link": true
    },
    "kernelspec": {
      "name": "python3",
      "display_name": "Python 3"
    },
    "language_info": {
      "name": "python"
    }
  },
  "cells": [
    {
      "cell_type": "markdown",
      "metadata": {
        "id": "view-in-github",
        "colab_type": "text"
      },
      "source": [
        "<a href=\"https://colab.research.google.com/github/gitmattalves/curso_ciencias_de_dados-_Modal/blob/main/Introdu%C3%A7%C3%A3o_a_Python.ipynb\" target=\"_parent\"><img src=\"https://colab.research.google.com/assets/colab-badge.svg\" alt=\"Open In Colab\"/></a>"
      ]
    },
    {
      "cell_type": "markdown",
      "source": [
        "#**Data Science com Python**\n",
        "\n",
        "## Módulo 01 - Introdução ao Python\n",
        "\n",
        "\n",
        "\n"
      ],
      "metadata": {
        "id": "IrnL4MsO4ADy"
      }
    },
    {
      "cell_type": "code",
      "source": [
        "print (\"Hello Word!!\")\n"
      ],
      "metadata": {
        "colab": {
          "base_uri": "https://localhost:8080/"
        },
        "id": "iQzRhxkm5EPj",
        "outputId": "ca02f299-0978-4d80-d955-e4a74800470f"
      },
      "execution_count": null,
      "outputs": [
        {
          "output_type": "stream",
          "name": "stdout",
          "text": [
            "Hello Word!!\n"
          ]
        }
      ]
    },
    {
      "cell_type": "markdown",
      "source": [
        "##1. Variáveis vs. Objetos\n",
        "###1.1. Tipos de variáveis"
      ],
      "metadata": {
        "id": "3FadxRZn--Ul"
      }
    },
    {
      "cell_type": "markdown",
      "source": [
        "###Tipos de variáveis\n",
        "integer (int): 2\n",
        "\n",
        "float: 1.45789\n",
        "\n",
        "string (str): \"PETR4\"\n",
        "\n",
        "boolean (bool): True ou False"
      ],
      "metadata": {
        "id": "jbsCkGhH_L_M"
      }
    },
    {
      "cell_type": "code",
      "source": [
        "a = 3\n"
      ],
      "metadata": {
        "id": "U0CCOl6p_pW-"
      },
      "execution_count": null,
      "outputs": []
    },
    {
      "cell_type": "code",
      "source": [
        "print (a)"
      ],
      "metadata": {
        "colab": {
          "base_uri": "https://localhost:8080/"
        },
        "id": "QedT3yHM_uZ2",
        "outputId": "15a5f218-17a9-40ac-8fcd-0fe0d424c8fd"
      },
      "execution_count": null,
      "outputs": [
        {
          "output_type": "stream",
          "name": "stdout",
          "text": [
            "3\n"
          ]
        }
      ]
    },
    {
      "cell_type": "code",
      "source": [
        "b = 7.5\n"
      ],
      "metadata": {
        "id": "w4SqGo-e-93N"
      },
      "execution_count": null,
      "outputs": []
    },
    {
      "cell_type": "code",
      "source": [
        "b"
      ],
      "metadata": {
        "colab": {
          "base_uri": "https://localhost:8080/"
        },
        "id": "fD66lyf2670W",
        "outputId": "1a1bc052-549f-4e6e-c58d-ea47da392a6d"
      },
      "execution_count": null,
      "outputs": [
        {
          "output_type": "execute_result",
          "data": {
            "text/plain": [
              "7.5"
            ]
          },
          "metadata": {},
          "execution_count": 10
        }
      ]
    },
    {
      "cell_type": "code",
      "source": [
        "print (b)"
      ],
      "metadata": {
        "colab": {
          "base_uri": "https://localhost:8080/"
        },
        "id": "V40BxZEF_jr-",
        "outputId": "466865e8-e965-409e-ad30-fa40bf58d3ab"
      },
      "execution_count": null,
      "outputs": [
        {
          "output_type": "stream",
          "name": "stdout",
          "text": [
            "7.5\n"
          ]
        }
      ]
    },
    {
      "cell_type": "code",
      "source": [
        " c = a + b\n",
        " print(c)"
      ],
      "metadata": {
        "colab": {
          "base_uri": "https://localhost:8080/"
        },
        "id": "QEAKOwEZ_xoe",
        "outputId": "5745098a-69a7-4fca-8021-dc34867b0c2b"
      },
      "execution_count": null,
      "outputs": [
        {
          "output_type": "stream",
          "name": "stdout",
          "text": [
            "10.5\n"
          ]
        }
      ]
    },
    {
      "cell_type": "code",
      "source": [
        "type (a)"
      ],
      "metadata": {
        "colab": {
          "base_uri": "https://localhost:8080/"
        },
        "id": "YKHqfxChDqTP",
        "outputId": "f2863fc2-85da-4276-cd5a-c74841a4035f"
      },
      "execution_count": null,
      "outputs": [
        {
          "output_type": "execute_result",
          "data": {
            "text/plain": [
              "int"
            ]
          },
          "metadata": {},
          "execution_count": 13
        }
      ]
    },
    {
      "cell_type": "code",
      "source": [
        "type (b)"
      ],
      "metadata": {
        "colab": {
          "base_uri": "https://localhost:8080/"
        },
        "id": "u3Zv4apcDqCu",
        "outputId": "d8b6e500-df66-4b59-d6a1-1311e3b7cc44"
      },
      "execution_count": null,
      "outputs": [
        {
          "output_type": "execute_result",
          "data": {
            "text/plain": [
              "float"
            ]
          },
          "metadata": {},
          "execution_count": 14
        }
      ]
    },
    {
      "cell_type": "code",
      "source": [
        "ativo = \"WEGE3\""
      ],
      "metadata": {
        "id": "9qALAFX_DyVQ"
      },
      "execution_count": null,
      "outputs": []
    },
    {
      "cell_type": "code",
      "source": [
        "type (ativo)"
      ],
      "metadata": {
        "colab": {
          "base_uri": "https://localhost:8080/"
        },
        "id": "YoatAEtgDySG",
        "outputId": "b862a8f0-796f-4e7e-f14a-5044cdb10d34"
      },
      "execution_count": null,
      "outputs": [
        {
          "output_type": "execute_result",
          "data": {
            "text/plain": [
              "str"
            ]
          },
          "metadata": {},
          "execution_count": 16
        }
      ]
    },
    {
      "cell_type": "code",
      "source": [
        "a == b"
      ],
      "metadata": {
        "colab": {
          "base_uri": "https://localhost:8080/"
        },
        "id": "rJNjFoZWD_wF",
        "outputId": "a020803c-da6b-43f8-d6db-538abe61d004"
      },
      "execution_count": null,
      "outputs": [
        {
          "output_type": "execute_result",
          "data": {
            "text/plain": [
              "False"
            ]
          },
          "metadata": {},
          "execution_count": 17
        }
      ]
    },
    {
      "cell_type": "code",
      "source": [
        "a = b"
      ],
      "metadata": {
        "id": "fOEiOTaGD_r0"
      },
      "execution_count": null,
      "outputs": []
    },
    {
      "cell_type": "code",
      "source": [
        "a == b"
      ],
      "metadata": {
        "colab": {
          "base_uri": "https://localhost:8080/"
        },
        "id": "EUMLRonGEG8g",
        "outputId": "9135ce4c-7f9a-4ba3-aca4-aa3ab8f08c98"
      },
      "execution_count": null,
      "outputs": [
        {
          "output_type": "execute_result",
          "data": {
            "text/plain": [
              "True"
            ]
          },
          "metadata": {},
          "execution_count": 23
        }
      ]
    },
    {
      "cell_type": "markdown",
      "source": [
        "#2. Operadores aritméticos\n",
        "\n",
        "* Soma +\n",
        "\n",
        "* Subtração -\n",
        "\n",
        "* Multiplicação *\n",
        "\n",
        "* Divisão /\n",
        "\n",
        "* Divisão // (parte inteira)\n",
        "\n",
        "* Resto das divisões\n",
        "\n",
        "* Potência **"
      ],
      "metadata": {
        "id": "VN8Z9I6RENf1"
      }
    },
    {
      "cell_type": "code",
      "source": [
        "d = a + b\n"
      ],
      "metadata": {
        "id": "oQ9Q2fdYEG5d"
      },
      "execution_count": null,
      "outputs": []
    },
    {
      "cell_type": "code",
      "source": [
        "d"
      ],
      "metadata": {
        "colab": {
          "base_uri": "https://localhost:8080/"
        },
        "id": "0p1haenSE1_O",
        "outputId": "52586a0d-b9c0-4307-d49a-643525236642"
      },
      "execution_count": null,
      "outputs": [
        {
          "output_type": "execute_result",
          "data": {
            "text/plain": [
              "11.0"
            ]
          },
          "metadata": {},
          "execution_count": 26
        }
      ]
    },
    {
      "cell_type": "code",
      "source": [
        "e = d + a + a + b "
      ],
      "metadata": {
        "id": "yUHA0vkmE18_"
      },
      "execution_count": null,
      "outputs": []
    },
    {
      "cell_type": "code",
      "source": [
        "e"
      ],
      "metadata": {
        "colab": {
          "base_uri": "https://localhost:8080/"
        },
        "id": "JyjJNyXWE16H",
        "outputId": "67e98130-ebb8-441a-e599-25b95db61ce8"
      },
      "execution_count": null,
      "outputs": [
        {
          "output_type": "execute_result",
          "data": {
            "text/plain": [
              "27.5"
            ]
          },
          "metadata": {},
          "execution_count": 28
        }
      ]
    },
    {
      "cell_type": "code",
      "source": [
        "e - d"
      ],
      "metadata": {
        "colab": {
          "base_uri": "https://localhost:8080/"
        },
        "id": "D_69CGV0E12m",
        "outputId": "44601a91-19b0-4d34-e0aa-bbed14466af3"
      },
      "execution_count": null,
      "outputs": [
        {
          "output_type": "execute_result",
          "data": {
            "text/plain": [
              "16.5"
            ]
          },
          "metadata": {},
          "execution_count": 29
        }
      ]
    },
    {
      "cell_type": "code",
      "source": [
        "a*b"
      ],
      "metadata": {
        "colab": {
          "base_uri": "https://localhost:8080/"
        },
        "id": "kwIU_66FFOkO",
        "outputId": "9a98b5cc-d12b-4e13-bcc3-fbc6839bf8e5"
      },
      "execution_count": null,
      "outputs": [
        {
          "output_type": "execute_result",
          "data": {
            "text/plain": [
              "30.25"
            ]
          },
          "metadata": {},
          "execution_count": 30
        }
      ]
    },
    {
      "cell_type": "code",
      "source": [
        "f = 10"
      ],
      "metadata": {
        "id": "CIsMbwrAFOOG"
      },
      "execution_count": null,
      "outputs": []
    },
    {
      "cell_type": "code",
      "source": [
        "e*f"
      ],
      "metadata": {
        "colab": {
          "base_uri": "https://localhost:8080/"
        },
        "id": "_4dSryjqFU2-",
        "outputId": "485e7fe8-37ba-4964-a5b6-e2a1ba2dbf12"
      },
      "execution_count": null,
      "outputs": [
        {
          "output_type": "execute_result",
          "data": {
            "text/plain": [
              "275.0"
            ]
          },
          "metadata": {},
          "execution_count": 32
        }
      ]
    },
    {
      "cell_type": "markdown",
      "source": [
        "Exemplo\n",
        "\n",
        "Qual o tamanho da minha posição em PETR4 dados o número de papéis que comprei e a cotação atual?"
      ],
      "metadata": {
        "id": "GAc6CNO6FeJF"
      }
    },
    {
      "cell_type": "code",
      "source": [
        "cotacao = 33.50\n",
        "papeis = 100"
      ],
      "metadata": {
        "id": "3hFmB71KFU0g"
      },
      "execution_count": null,
      "outputs": []
    },
    {
      "cell_type": "code",
      "source": [
        "patrimonio = cotacao*papeis\n",
        "print (patrimonio)"
      ],
      "metadata": {
        "colab": {
          "base_uri": "https://localhost:8080/"
        },
        "id": "yjov1hTyFUx6",
        "outputId": "a40199cc-611b-4561-e427-b3c85d69cdaa"
      },
      "execution_count": null,
      "outputs": [
        {
          "output_type": "stream",
          "name": "stdout",
          "text": [
            "3350.0\n"
          ]
        }
      ]
    },
    {
      "cell_type": "markdown",
      "source": [
        "Qual o preço atual?"
      ],
      "metadata": {
        "id": "-TGy9Y0YF9pu"
      }
    },
    {
      "cell_type": "code",
      "source": [
        "patrimonio/papeis"
      ],
      "metadata": {
        "colab": {
          "base_uri": "https://localhost:8080/"
        },
        "id": "jJrW_otEFUtm",
        "outputId": "c79e492f-8cd1-42e4-b6bf-5d7fff550338"
      },
      "execution_count": null,
      "outputs": [
        {
          "output_type": "execute_result",
          "data": {
            "text/plain": [
              "33.5"
            ]
          },
          "metadata": {},
          "execution_count": 21
        }
      ]
    },
    {
      "cell_type": "markdown",
      "source": [
        "Exemplo com VALE3  \n",
        "Qual o número de papéis que eu posso comprar?"
      ],
      "metadata": {
        "id": "1u5pTJ4UGHtu"
      }
    },
    {
      "cell_type": "code",
      "source": [
        "carteira = 5000"
      ],
      "metadata": {
        "id": "-yRxa7rxGHaI"
      },
      "execution_count": null,
      "outputs": []
    },
    {
      "cell_type": "code",
      "source": [
        "vale3 = 50.32"
      ],
      "metadata": {
        "id": "4innol7bGHNw"
      },
      "execution_count": null,
      "outputs": []
    },
    {
      "cell_type": "code",
      "source": [
        "carteira/vale3"
      ],
      "metadata": {
        "colab": {
          "base_uri": "https://localhost:8080/"
        },
        "id": "NgHNYvkfGWie",
        "outputId": "3328a14d-cb0b-4981-8bff-541798c766cc"
      },
      "execution_count": null,
      "outputs": [
        {
          "output_type": "execute_result",
          "data": {
            "text/plain": [
              "99.36406995230524"
            ]
          },
          "metadata": {},
          "execution_count": 40
        }
      ]
    },
    {
      "cell_type": "code",
      "source": [
        "carteira//vale3"
      ],
      "metadata": {
        "colab": {
          "base_uri": "https://localhost:8080/"
        },
        "id": "1quqloctGWWv",
        "outputId": "2276b771-218d-4514-9185-51405a035312"
      },
      "execution_count": null,
      "outputs": [
        {
          "output_type": "execute_result",
          "data": {
            "text/plain": [
              "99.0"
            ]
          },
          "metadata": {},
          "execution_count": 41
        }
      ]
    },
    {
      "cell_type": "markdown",
      "source": [
        "Divisão com inteiros"
      ],
      "metadata": {
        "id": "9_592sWNGoQH"
      }
    },
    {
      "cell_type": "code",
      "source": [
        "10//4"
      ],
      "metadata": {
        "colab": {
          "base_uri": "https://localhost:8080/"
        },
        "id": "j-naLIVIGkue",
        "outputId": "d912ccf8-757b-4b82-d54b-eecf63209e4f"
      },
      "execution_count": null,
      "outputs": [
        {
          "output_type": "execute_result",
          "data": {
            "text/plain": [
              "2"
            ]
          },
          "metadata": {},
          "execution_count": 42
        }
      ]
    },
    {
      "cell_type": "markdown",
      "source": [
        "Resto da Divisão\n",
        "\n",
        "o que vai restar na divisão"
      ],
      "metadata": {
        "id": "lFnKjfKSGvGf"
      }
    },
    {
      "cell_type": "code",
      "source": [
        "7%4"
      ],
      "metadata": {
        "colab": {
          "base_uri": "https://localhost:8080/"
        },
        "id": "yNtCuy1rGkrG",
        "outputId": "80d0d35d-c30a-4eb0-f18b-a8642b54df69"
      },
      "execution_count": null,
      "outputs": [
        {
          "output_type": "execute_result",
          "data": {
            "text/plain": [
              "3"
            ]
          },
          "metadata": {},
          "execution_count": 43
        }
      ]
    },
    {
      "cell_type": "code",
      "source": [
        "10%3"
      ],
      "metadata": {
        "colab": {
          "base_uri": "https://localhost:8080/"
        },
        "id": "EoA8rT_JG7Hq",
        "outputId": "39f3ef48-87ed-4f21-e92e-7b7d7d928955"
      },
      "execution_count": null,
      "outputs": [
        {
          "output_type": "execute_result",
          "data": {
            "text/plain": [
              "1"
            ]
          },
          "metadata": {},
          "execution_count": 44
        }
      ]
    },
    {
      "cell_type": "markdown",
      "source": [
        "Potenciação"
      ],
      "metadata": {
        "id": "CaRN7B4mG-St"
      }
    },
    {
      "cell_type": "code",
      "source": [
        "2**2"
      ],
      "metadata": {
        "colab": {
          "base_uri": "https://localhost:8080/"
        },
        "id": "ks74zmJzG-Dy",
        "outputId": "407bfdd0-1b3e-452e-9010-1d5bd99a07ba"
      },
      "execution_count": null,
      "outputs": [
        {
          "output_type": "execute_result",
          "data": {
            "text/plain": [
              "4"
            ]
          },
          "metadata": {},
          "execution_count": 45
        }
      ]
    },
    {
      "cell_type": "code",
      "source": [
        "9**2"
      ],
      "metadata": {
        "colab": {
          "base_uri": "https://localhost:8080/"
        },
        "id": "mHLTuTLrG-AR",
        "outputId": "8bc7c49a-d7e0-4f3a-f20b-81e059c3b67f"
      },
      "execution_count": null,
      "outputs": [
        {
          "output_type": "execute_result",
          "data": {
            "text/plain": [
              "81"
            ]
          },
          "metadata": {},
          "execution_count": 47
        }
      ]
    },
    {
      "cell_type": "markdown",
      "source": [
        "#3. Operadores lógicos\n",
        "3.1. Operadores comparativos\n",
        "\n",
        "* Igualdade ==\n",
        "\n",
        "* Diferença !=\n",
        "\n",
        "* Menor <\n",
        "\n",
        "* Maior >\n",
        "\n",
        "* Menor ou igual <=\n",
        "\n",
        "* Maior ou igual >="
      ],
      "metadata": {
        "id": "-9OswoGVHMKx"
      }
    },
    {
      "cell_type": "code",
      "source": [
        "e == f"
      ],
      "metadata": {
        "colab": {
          "base_uri": "https://localhost:8080/"
        },
        "id": "zYjo03ZLHJ8P",
        "outputId": "edb75e83-602d-4e08-b3d9-91a72abc466d"
      },
      "execution_count": null,
      "outputs": [
        {
          "output_type": "execute_result",
          "data": {
            "text/plain": [
              "False"
            ]
          },
          "metadata": {},
          "execution_count": 48
        }
      ]
    },
    {
      "cell_type": "code",
      "source": [
        "e != f"
      ],
      "metadata": {
        "colab": {
          "base_uri": "https://localhost:8080/"
        },
        "id": "uawhGIBhHJwf",
        "outputId": "8f020955-e706-4147-cc3b-1ca10beb87d3"
      },
      "execution_count": null,
      "outputs": [
        {
          "output_type": "execute_result",
          "data": {
            "text/plain": [
              "True"
            ]
          },
          "metadata": {},
          "execution_count": 50
        }
      ]
    },
    {
      "cell_type": "code",
      "source": [
        "print (e)\n",
        "print (f)\n"
      ],
      "metadata": {
        "colab": {
          "base_uri": "https://localhost:8080/"
        },
        "id": "UGQV0N7MHoEh",
        "outputId": "3d8c8e2c-56e9-48a3-dcbc-aff2581e8a0f"
      },
      "execution_count": null,
      "outputs": [
        {
          "output_type": "stream",
          "name": "stdout",
          "text": [
            "27.5\n",
            "10\n"
          ]
        }
      ]
    },
    {
      "cell_type": "code",
      "source": [
        "e < f"
      ],
      "metadata": {
        "colab": {
          "base_uri": "https://localhost:8080/"
        },
        "id": "emesavDdHoBp",
        "outputId": "45d1b4ac-8cc7-49b1-e54d-e53f4ff8abfd"
      },
      "execution_count": null,
      "outputs": [
        {
          "output_type": "execute_result",
          "data": {
            "text/plain": [
              "False"
            ]
          },
          "metadata": {},
          "execution_count": 53
        }
      ]
    },
    {
      "cell_type": "code",
      "source": [
        "e > f"
      ],
      "metadata": {
        "colab": {
          "base_uri": "https://localhost:8080/"
        },
        "id": "FKyiM3gJH2N_",
        "outputId": "4f7a9706-c792-460f-e0ef-8cc65fb61f53"
      },
      "execution_count": null,
      "outputs": [
        {
          "output_type": "execute_result",
          "data": {
            "text/plain": [
              "True"
            ]
          },
          "metadata": {},
          "execution_count": 54
        }
      ]
    },
    {
      "cell_type": "code",
      "source": [
        "g = 5\n",
        "h = 5"
      ],
      "metadata": {
        "id": "Usn2ee_YH9mn"
      },
      "execution_count": null,
      "outputs": []
    },
    {
      "cell_type": "code",
      "source": [
        "g >= h"
      ],
      "metadata": {
        "colab": {
          "base_uri": "https://localhost:8080/"
        },
        "id": "Gw6plkJgH9jv",
        "outputId": "8d2b7088-059e-4236-af03-a8d8fefefbaa"
      },
      "execution_count": null,
      "outputs": [
        {
          "output_type": "execute_result",
          "data": {
            "text/plain": [
              "True"
            ]
          },
          "metadata": {},
          "execution_count": 56
        }
      ]
    },
    {
      "cell_type": "code",
      "source": [
        "g <= h"
      ],
      "metadata": {
        "colab": {
          "base_uri": "https://localhost:8080/"
        },
        "id": "ff2CMwkdIGhg",
        "outputId": "c19d39a6-0eea-463a-f6d4-59ab66d1e3ff"
      },
      "execution_count": null,
      "outputs": [
        {
          "output_type": "execute_result",
          "data": {
            "text/plain": [
              "True"
            ]
          },
          "metadata": {},
          "execution_count": 57
        }
      ]
    },
    {
      "cell_type": "code",
      "source": [
        "papel1 = \"VALE3\"\n",
        "papel2 = \"PETR4\""
      ],
      "metadata": {
        "id": "JKibahr1IK7H"
      },
      "execution_count": null,
      "outputs": []
    },
    {
      "cell_type": "code",
      "source": [
        "papel1 == papel2"
      ],
      "metadata": {
        "colab": {
          "base_uri": "https://localhost:8080/"
        },
        "id": "XdSfZVCJIWhP",
        "outputId": "e79a736f-97e9-46d6-d0f5-0e0066776648"
      },
      "execution_count": null,
      "outputs": [
        {
          "output_type": "execute_result",
          "data": {
            "text/plain": [
              "False"
            ]
          },
          "metadata": {},
          "execution_count": 62
        }
      ]
    },
    {
      "cell_type": "code",
      "source": [
        "papel1 != papel2"
      ],
      "metadata": {
        "colab": {
          "base_uri": "https://localhost:8080/"
        },
        "id": "H_SeA6IBIhZH",
        "outputId": "25005112-87c5-421d-c8b3-a63901d09fa6"
      },
      "execution_count": null,
      "outputs": [
        {
          "output_type": "execute_result",
          "data": {
            "text/plain": [
              "True"
            ]
          },
          "metadata": {},
          "execution_count": 63
        }
      ]
    },
    {
      "cell_type": "markdown",
      "source": [
        "##Operadores Condicionais\n",
        "\n",
        "* and - ***exige que as duas condições seja verdaderias***\n",
        "\n",
        "* or - ***somente uma condição precisa ser verdadeora***"
      ],
      "metadata": {
        "id": "QTJ34ivpN74p"
      }
    },
    {
      "cell_type": "code",
      "source": [
        "e > f and g >= h"
      ],
      "metadata": {
        "colab": {
          "base_uri": "https://localhost:8080/"
        },
        "id": "wgGp25gcN7ng",
        "outputId": "809648de-b9d7-43a6-bf1b-68cee0e88385"
      },
      "execution_count": null,
      "outputs": [
        {
          "output_type": "execute_result",
          "data": {
            "text/plain": [
              "True"
            ]
          },
          "metadata": {},
          "execution_count": 66
        }
      ]
    },
    {
      "cell_type": "code",
      "source": [
        "e < f and g >= h"
      ],
      "metadata": {
        "colab": {
          "base_uri": "https://localhost:8080/"
        },
        "id": "XAlZKatZN7TY",
        "outputId": "b9595e13-4ae5-49fe-b220-689836d1c993"
      },
      "execution_count": null,
      "outputs": [
        {
          "output_type": "execute_result",
          "data": {
            "text/plain": [
              "False"
            ]
          },
          "metadata": {},
          "execution_count": 67
        }
      ]
    },
    {
      "cell_type": "code",
      "source": [
        "e < f or g >= h"
      ],
      "metadata": {
        "colab": {
          "base_uri": "https://localhost:8080/"
        },
        "id": "W9VAL6wAOvVx",
        "outputId": "e5322f5d-07a6-4f23-b579-775f204c628b"
      },
      "execution_count": null,
      "outputs": [
        {
          "output_type": "execute_result",
          "data": {
            "text/plain": [
              "True"
            ]
          },
          "metadata": {},
          "execution_count": 68
        }
      ]
    },
    {
      "cell_type": "code",
      "source": [
        "e < f and g > h"
      ],
      "metadata": {
        "colab": {
          "base_uri": "https://localhost:8080/"
        },
        "id": "mVHrvdmjO2cX",
        "outputId": "b614bc57-427c-4806-d26a-0f79df21c65b"
      },
      "execution_count": null,
      "outputs": [
        {
          "output_type": "execute_result",
          "data": {
            "text/plain": [
              "False"
            ]
          },
          "metadata": {},
          "execution_count": 69
        }
      ]
    },
    {
      "cell_type": "markdown",
      "source": [
        "#4. Strings\n"
      ],
      "metadata": {
        "id": "QiIIegGJVjVI"
      }
    },
    {
      "cell_type": "markdown",
      "source": [
        "##4.1 Indexação e 'slicing' (fatiamento)"
      ],
      "metadata": {
        "id": "FfPCl9CBW7AP"
      }
    },
    {
      "cell_type": "code",
      "source": [
        "acao = \"PETR4\""
      ],
      "metadata": {
        "id": "PPwSl9r9VrUH"
      },
      "execution_count": null,
      "outputs": []
    },
    {
      "cell_type": "code",
      "source": [
        "type (acao)"
      ],
      "metadata": {
        "colab": {
          "base_uri": "https://localhost:8080/"
        },
        "id": "PW2zv2AUV0tJ",
        "outputId": "8cf158c1-fff3-4298-97b6-45cf0daa66c7"
      },
      "execution_count": null,
      "outputs": [
        {
          "output_type": "execute_result",
          "data": {
            "text/plain": [
              "str"
            ]
          },
          "metadata": {},
          "execution_count": 2
        }
      ]
    },
    {
      "cell_type": "code",
      "source": [
        "manchete = \"PETR4 vai aumentar o preço da gasolina\""
      ],
      "metadata": {
        "id": "YLSJDyY8WnIf"
      },
      "execution_count": null,
      "outputs": []
    },
    {
      "cell_type": "code",
      "source": [
        "print (manchete)"
      ],
      "metadata": {
        "colab": {
          "base_uri": "https://localhost:8080/"
        },
        "id": "QBI3yrA1W9qx",
        "outputId": "5af79886-8194-4d47-d200-760cf7539ce8"
      },
      "execution_count": null,
      "outputs": [
        {
          "output_type": "stream",
          "name": "stdout",
          "text": [
            "PETR4 vai aumentar o preço da gasolina\n"
          ]
        }
      ]
    },
    {
      "cell_type": "code",
      "source": [
        "# Comprimento (length) do objeto, némuro de caracteres\n",
        "\n",
        "len(manchete)"
      ],
      "metadata": {
        "colab": {
          "base_uri": "https://localhost:8080/"
        },
        "id": "V70A1C4qXEf3",
        "outputId": "fba72a68-34f3-4acf-bb8a-ccdf1ebcb088"
      },
      "execution_count": null,
      "outputs": [
        {
          "output_type": "execute_result",
          "data": {
            "text/plain": [
              "38"
            ]
          },
          "metadata": {},
          "execution_count": 6
        }
      ]
    },
    {
      "cell_type": "code",
      "source": [
        "manchete [0]"
      ],
      "metadata": {
        "colab": {
          "base_uri": "https://localhost:8080/",
          "height": 35
        },
        "id": "MYICeXZFXr-X",
        "outputId": "7e475f50-f568-4c3f-d6c9-b21a45813003"
      },
      "execution_count": null,
      "outputs": [
        {
          "output_type": "execute_result",
          "data": {
            "text/plain": [
              "'P'"
            ],
            "application/vnd.google.colaboratory.intrinsic+json": {
              "type": "string"
            }
          },
          "metadata": {},
          "execution_count": 7
        }
      ]
    },
    {
      "cell_type": "code",
      "source": [
        "# Espaço vazio taqmbem conta e vai ser ''.\n",
        "manchete [5]"
      ],
      "metadata": {
        "colab": {
          "base_uri": "https://localhost:8080/",
          "height": 35
        },
        "id": "Rg72xNUoXr7S",
        "outputId": "60e24bc9-5f45-4d41-c843-bfd4f917ee54"
      },
      "execution_count": null,
      "outputs": [
        {
          "output_type": "execute_result",
          "data": {
            "text/plain": [
              "' '"
            ],
            "application/vnd.google.colaboratory.intrinsic+json": {
              "type": "string"
            }
          },
          "metadata": {},
          "execution_count": 8
        }
      ]
    },
    {
      "cell_type": "code",
      "source": [
        "#Determinar o espaço desejado, sempre vsi contar um a menos do numero final\n",
        "manchete [0:5]"
      ],
      "metadata": {
        "colab": {
          "base_uri": "https://localhost:8080/",
          "height": 35
        },
        "id": "FXZ_PnqYXr4m",
        "outputId": "bac19fb4-3870-4ce2-91da-1d50f0cfd579"
      },
      "execution_count": null,
      "outputs": [
        {
          "output_type": "execute_result",
          "data": {
            "text/plain": [
              "'PETR4'"
            ],
            "application/vnd.google.colaboratory.intrinsic+json": {
              "type": "string"
            }
          },
          "metadata": {},
          "execution_count": 11
        }
      ]
    },
    {
      "cell_type": "code",
      "source": [
        "acao = manchete [0:5]"
      ],
      "metadata": {
        "id": "PXOcHQsgXr1s"
      },
      "execution_count": null,
      "outputs": []
    },
    {
      "cell_type": "code",
      "source": [
        "acao"
      ],
      "metadata": {
        "colab": {
          "base_uri": "https://localhost:8080/",
          "height": 35
        },
        "id": "Pg5orjXFXry3",
        "outputId": "cfe5caf7-bbc4-4ffd-f86c-7d6b9c14d19f"
      },
      "execution_count": null,
      "outputs": [
        {
          "output_type": "execute_result",
          "data": {
            "text/plain": [
              "'PETR4'"
            ],
            "application/vnd.google.colaboratory.intrinsic+json": {
              "type": "string"
            }
          },
          "metadata": {},
          "execution_count": 13
        }
      ]
    },
    {
      "cell_type": "code",
      "source": [
        "# Vai do caractere desejado até o fim\n",
        "manchete [5:]"
      ],
      "metadata": {
        "colab": {
          "base_uri": "https://localhost:8080/",
          "height": 35
        },
        "id": "W71-iJ92XrrI",
        "outputId": "77e164ca-ee93-46dc-daae-17e619afd7d0"
      },
      "execution_count": null,
      "outputs": [
        {
          "output_type": "execute_result",
          "data": {
            "text/plain": [
              "' vai aumentar o preço da gasolina'"
            ],
            "application/vnd.google.colaboratory.intrinsic+json": {
              "type": "string"
            }
          },
          "metadata": {},
          "execution_count": 14
        }
      ]
    },
    {
      "cell_type": "code",
      "source": [
        "# Do início até o caracterer desejado\n",
        "manchete [:10]"
      ],
      "metadata": {
        "colab": {
          "base_uri": "https://localhost:8080/",
          "height": 35
        },
        "id": "zYeju9owZ0SO",
        "outputId": "8766edeb-9823-407d-bd8f-0eb79e791ca0"
      },
      "execution_count": null,
      "outputs": [
        {
          "output_type": "execute_result",
          "data": {
            "text/plain": [
              "'PETR4 vai '"
            ],
            "application/vnd.google.colaboratory.intrinsic+json": {
              "type": "string"
            }
          },
          "metadata": {},
          "execution_count": 15
        }
      ]
    },
    {
      "cell_type": "code",
      "source": [
        "# Do início até o fim\n",
        "manchete [::]"
      ],
      "metadata": {
        "colab": {
          "base_uri": "https://localhost:8080/",
          "height": 35
        },
        "id": "nHEa5I5pZz92",
        "outputId": "a249dd97-db73-4eed-e865-b0fda4a2e1e6"
      },
      "execution_count": null,
      "outputs": [
        {
          "output_type": "execute_result",
          "data": {
            "text/plain": [
              "'PETR4 vai aumentar o preço da gasolina'"
            ],
            "application/vnd.google.colaboratory.intrinsic+json": {
              "type": "string"
            }
          },
          "metadata": {},
          "execution_count": 17
        }
      ]
    },
    {
      "cell_type": "code",
      "source": [
        "# A operação de indexing (indexação) tambem pode começar 'de trás pra frente'. Basta utilizar indices negativos.\n",
        "manchete [:-1]\n",
        "\n"
      ],
      "metadata": {
        "colab": {
          "base_uri": "https://localhost:8080/",
          "height": 35
        },
        "id": "zDB1ppNsZzxX",
        "outputId": "929cd03d-c0af-4861-c342-6617114eecd2"
      },
      "execution_count": null,
      "outputs": [
        {
          "output_type": "execute_result",
          "data": {
            "text/plain": [
              "'PETR4 vai aumentar o preço da gasolin'"
            ],
            "application/vnd.google.colaboratory.intrinsic+json": {
              "type": "string"
            }
          },
          "metadata": {},
          "execution_count": 23
        }
      ]
    },
    {
      "cell_type": "code",
      "source": [
        "manchete [5:-8]"
      ],
      "metadata": {
        "colab": {
          "base_uri": "https://localhost:8080/",
          "height": 35
        },
        "id": "MKbz7PKua6E-",
        "outputId": "971f7db3-8e39-405b-9821-c28647b897f3"
      },
      "execution_count": null,
      "outputs": [
        {
          "output_type": "execute_result",
          "data": {
            "text/plain": [
              "' vai aumentar o preço da '"
            ],
            "application/vnd.google.colaboratory.intrinsic+json": {
              "type": "string"
            }
          },
          "metadata": {},
          "execution_count": 24
        }
      ]
    },
    {
      "cell_type": "markdown",
      "source": [
        "Agora temos um segundo '.'\n",
        "\n",
        "Ele indica de quantos em quantos carateres devemos pecorrer o intervalo"
      ],
      "metadata": {
        "id": "L5BUNaxobu5h"
      }
    },
    {
      "cell_type": "code",
      "source": [
        "# Neste caso, pecorremos todo o intervalo, mas indo de 1 em 1, ou 2 em 2, conforme especificar\n",
        "\n",
        "manchete [::2]"
      ],
      "metadata": {
        "colab": {
          "base_uri": "https://localhost:8080/",
          "height": 35
        },
        "id": "_HFYE85Oa57-",
        "outputId": "d38c0a64-b70c-461f-a6a9-fcf4574332ed"
      },
      "execution_count": null,
      "outputs": [
        {
          "output_type": "execute_result",
          "data": {
            "text/plain": [
              "'PT4viamna  rç agsln'"
            ],
            "application/vnd.google.colaboratory.intrinsic+json": {
              "type": "string"
            }
          },
          "metadata": {},
          "execution_count": 29
        }
      ]
    },
    {
      "cell_type": "code",
      "source": [
        "num = \"123456789\""
      ],
      "metadata": {
        "id": "AalCGa10clVQ"
      },
      "execution_count": null,
      "outputs": []
    },
    {
      "cell_type": "code",
      "source": [
        "num [::2]"
      ],
      "metadata": {
        "colab": {
          "base_uri": "https://localhost:8080/",
          "height": 35
        },
        "id": "kVDd9d-2cypY",
        "outputId": "3d4a39d1-e959-43f1-ffd6-55de28d60e66"
      },
      "execution_count": null,
      "outputs": [
        {
          "output_type": "execute_result",
          "data": {
            "text/plain": [
              "'13579'"
            ],
            "application/vnd.google.colaboratory.intrinsic+json": {
              "type": "string"
            }
          },
          "metadata": {},
          "execution_count": 32
        }
      ]
    },
    {
      "cell_type": "code",
      "source": [
        "# Neste exemplo vai inverter a ordem\n",
        "manchete [::-1]"
      ],
      "metadata": {
        "colab": {
          "base_uri": "https://localhost:8080/",
          "height": 35
        },
        "id": "q96UEDu0cabf",
        "outputId": "13108c3d-4285-4532-96e7-f3612ae36618"
      },
      "execution_count": null,
      "outputs": [
        {
          "output_type": "execute_result",
          "data": {
            "text/plain": [
              "'anilosag ad oçerp o ratnemua iav 4RTEP'"
            ],
            "application/vnd.google.colaboratory.intrinsic+json": {
              "type": "string"
            }
          },
          "metadata": {},
          "execution_count": 28
        }
      ]
    },
    {
      "cell_type": "code",
      "source": [
        "acao [::-1]"
      ],
      "metadata": {
        "colab": {
          "base_uri": "https://localhost:8080/",
          "height": 35
        },
        "id": "wnSwhkVNdLCN",
        "outputId": "63ccb89c-c2e2-4bd3-fc97-c6bb13348082"
      },
      "execution_count": null,
      "outputs": [
        {
          "output_type": "execute_result",
          "data": {
            "text/plain": [
              "'4RTEP'"
            ],
            "application/vnd.google.colaboratory.intrinsic+json": {
              "type": "string"
            }
          },
          "metadata": {},
          "execution_count": 33
        }
      ]
    },
    {
      "cell_type": "code",
      "source": [
        "manchete [5::-1]"
      ],
      "metadata": {
        "colab": {
          "base_uri": "https://localhost:8080/",
          "height": 35
        },
        "id": "qu84M-JqdK8h",
        "outputId": "cc84e0fd-5cbd-42f3-ce97-5202e453bbdf"
      },
      "execution_count": null,
      "outputs": [
        {
          "output_type": "execute_result",
          "data": {
            "text/plain": [
              "' 4RTEP'"
            ],
            "application/vnd.google.colaboratory.intrinsic+json": {
              "type": "string"
            }
          },
          "metadata": {},
          "execution_count": 34
        }
      ]
    },
    {
      "cell_type": "markdown",
      "source": [
        "string[a:b:c]\n",
        "\n",
        "Resumindo o slicing:\n",
        "\n",
        "Uma forma de definirmos as notações string[a:b:c] seria algo como: Execute um comando de fatiamento da string em\n",
        "intervalos de ‘c’, a partir de ‘a’ (incluso) até ‘b’ (não incluso). Se ‘c’ for negativo, contamos de trás para frente. Quando ‘c’ não\n",
        "está presente no código, o padrão é 1 (i.e., fatiar de 1 em 1 caractere). Se ‘a’ não está presente, então você começa o mais\n",
        "distante possível na direção que você está contando (i.e., se ‘c’ é positivo, começa no primeiro caractere. Se ‘c’ é negativo,\n",
        "começa no último caractere). Se ‘b’ não está presente, então você termina o mais distante possível na direção que está\n",
        "contando (i.e., se ‘c’ é positivo, termina no último caractere. Se ‘c’ é negativo, termina no primeiro caractere)."
      ],
      "metadata": {
        "id": "O6C7z4I5drdI"
      }
    },
    {
      "cell_type": "markdown",
      "source": [
        "##4.2. Propriedades das strings\n",
        "+ Imutabilidade\n",
        "+ Adição\n",
        "+ Modificação de upper e lower case"
      ],
      "metadata": {
        "id": "Y5soT_m0eo8P"
      }
    },
    {
      "cell_type": "code",
      "source": [
        "manchete"
      ],
      "metadata": {
        "colab": {
          "base_uri": "https://localhost:8080/",
          "height": 35
        },
        "id": "ODranu5kdnfH",
        "outputId": "db166bfb-2cad-40b5-9df8-7e1fadcd9e3f"
      },
      "execution_count": null,
      "outputs": [
        {
          "output_type": "execute_result",
          "data": {
            "text/plain": [
              "'PETR4 vai aumentar o preço da gasolina'"
            ],
            "application/vnd.google.colaboratory.intrinsic+json": {
              "type": "string"
            }
          },
          "metadata": {},
          "execution_count": 35
        }
      ]
    },
    {
      "cell_type": "code",
      "source": [
        "manchete [4:5]"
      ],
      "metadata": {
        "colab": {
          "base_uri": "https://localhost:8080/",
          "height": 35
        },
        "id": "hS8DNAKsdnX1",
        "outputId": "948e037d-59d1-4600-b968-8cefa8e6cabd"
      },
      "execution_count": null,
      "outputs": [
        {
          "output_type": "execute_result",
          "data": {
            "text/plain": [
              "'4'"
            ],
            "application/vnd.google.colaboratory.intrinsic+json": {
              "type": "string"
            }
          },
          "metadata": {},
          "execution_count": 36
        }
      ]
    },
    {
      "cell_type": "code",
      "source": [
        "# Output é um erro, já que a string é imutável, ou seja, não consigo substituir o '4' pelo '3' em 'PETR4'\n",
        "manchete[4:5] = '3'"
      ],
      "metadata": {
        "colab": {
          "base_uri": "https://localhost:8080/",
          "height": 183
        },
        "id": "O1JpXXUudnUu",
        "outputId": "d5ea94a8-d691-44ac-dd95-eab241f9b201"
      },
      "execution_count": null,
      "outputs": [
        {
          "output_type": "error",
          "ename": "TypeError",
          "evalue": "ignored",
          "traceback": [
            "\u001b[0;31m---------------------------------------------------------------------------\u001b[0m",
            "\u001b[0;31mTypeError\u001b[0m                                 Traceback (most recent call last)",
            "\u001b[0;32m<ipython-input-37-ee89dbcf2288>\u001b[0m in \u001b[0;36m<module>\u001b[0;34m()\u001b[0m\n\u001b[1;32m      1\u001b[0m \u001b[0;31m# Output é um erro, já que a string é imutável, ou seja, não consigo substituir o '4' pelo '3' em 'PETR4'\u001b[0m\u001b[0;34m\u001b[0m\u001b[0;34m\u001b[0m\u001b[0;34m\u001b[0m\u001b[0m\n\u001b[0;32m----> 2\u001b[0;31m \u001b[0mmanchete\u001b[0m\u001b[0;34m[\u001b[0m\u001b[0;36m4\u001b[0m\u001b[0;34m:\u001b[0m\u001b[0;36m5\u001b[0m\u001b[0;34m]\u001b[0m \u001b[0;34m=\u001b[0m \u001b[0;34m'3'\u001b[0m\u001b[0;34m\u001b[0m\u001b[0;34m\u001b[0m\u001b[0m\n\u001b[0m",
            "\u001b[0;31mTypeError\u001b[0m: 'str' object does not support item assignment"
          ]
        }
      ]
    },
    {
      "cell_type": "code",
      "source": [
        "# Da mesma forma, não conseguimos substituir mais de um caractere na string\n",
        "manchete[0:5] = 'VALE3'"
      ],
      "metadata": {
        "colab": {
          "base_uri": "https://localhost:8080/",
          "height": 183
        },
        "id": "Q37kDjc_dnRv",
        "outputId": "75c76d25-2bb1-478a-928f-48c439aa2ed0"
      },
      "execution_count": null,
      "outputs": [
        {
          "output_type": "error",
          "ename": "TypeError",
          "evalue": "ignored",
          "traceback": [
            "\u001b[0;31m---------------------------------------------------------------------------\u001b[0m",
            "\u001b[0;31mTypeError\u001b[0m                                 Traceback (most recent call last)",
            "\u001b[0;32m<ipython-input-38-e39caaec220c>\u001b[0m in \u001b[0;36m<module>\u001b[0;34m()\u001b[0m\n\u001b[1;32m      1\u001b[0m \u001b[0;31m# Da mesma forma, não conseguimos substituir mais de um caractere na string\u001b[0m\u001b[0;34m\u001b[0m\u001b[0;34m\u001b[0m\u001b[0;34m\u001b[0m\u001b[0m\n\u001b[0;32m----> 2\u001b[0;31m \u001b[0mmanchete\u001b[0m\u001b[0;34m[\u001b[0m\u001b[0;36m0\u001b[0m\u001b[0;34m:\u001b[0m\u001b[0;36m5\u001b[0m\u001b[0;34m]\u001b[0m \u001b[0;34m=\u001b[0m \u001b[0;34m'VALE3'\u001b[0m\u001b[0;34m\u001b[0m\u001b[0;34m\u001b[0m\u001b[0m\n\u001b[0m",
            "\u001b[0;31mTypeError\u001b[0m: 'str' object does not support item assignment"
          ]
        }
      ]
    },
    {
      "cell_type": "code",
      "source": [
        "#concatenação\n",
        "manchete + ' por causa da alta do petróleo'"
      ],
      "metadata": {
        "colab": {
          "base_uri": "https://localhost:8080/",
          "height": 35
        },
        "id": "UMzjR-B_fsp5",
        "outputId": "c2b7e9b8-0945-42ce-fdc5-9277b9919e2b"
      },
      "execution_count": null,
      "outputs": [
        {
          "output_type": "execute_result",
          "data": {
            "text/plain": [
              "'PETR4 vai aumentar o preço da gasolina por causa da alta do petróleo'"
            ],
            "application/vnd.google.colaboratory.intrinsic+json": {
              "type": "string"
            }
          },
          "metadata": {},
          "execution_count": 40
        }
      ]
    },
    {
      "cell_type": "code",
      "source": [
        "complemento = ' por causa da alta do petróleo'"
      ],
      "metadata": {
        "id": "sn5HmhncgA8t"
      },
      "execution_count": null,
      "outputs": []
    },
    {
      "cell_type": "code",
      "source": [
        "manchete + complemento"
      ],
      "metadata": {
        "colab": {
          "base_uri": "https://localhost:8080/",
          "height": 35
        },
        "id": "LQrJcnW3gKJs",
        "outputId": "a5a62247-f68d-425c-b8c7-419b8360f1b2"
      },
      "execution_count": null,
      "outputs": [
        {
          "output_type": "execute_result",
          "data": {
            "text/plain": [
              "'PETR4 vai aumentar o preço da gasolina por causa da alta do petróleo'"
            ],
            "application/vnd.google.colaboratory.intrinsic+json": {
              "type": "string"
            }
          },
          "metadata": {},
          "execution_count": 42
        }
      ]
    },
    {
      "cell_type": "code",
      "source": [
        "frase_completa = manchete + complemento"
      ],
      "metadata": {
        "id": "5raSbM1NgXOJ"
      },
      "execution_count": null,
      "outputs": []
    },
    {
      "cell_type": "code",
      "source": [
        "frase_completa"
      ],
      "metadata": {
        "colab": {
          "base_uri": "https://localhost:8080/",
          "height": 35
        },
        "id": "u7AwRfxmgXLY",
        "outputId": "2d65daa7-b20b-4ae7-d944-76808dc93eb3"
      },
      "execution_count": null,
      "outputs": [
        {
          "output_type": "execute_result",
          "data": {
            "text/plain": [
              "'PETR4 vai aumentar o preço da gasolina por causa da alta do petróleo'"
            ],
            "application/vnd.google.colaboratory.intrinsic+json": {
              "type": "string"
            }
          },
          "metadata": {},
          "execution_count": 44
        }
      ]
    },
    {
      "cell_type": "code",
      "source": [
        "# Método upper: transforma tudo em maiúsculo\n",
        "frase_completa.upper()"
      ],
      "metadata": {
        "colab": {
          "base_uri": "https://localhost:8080/",
          "height": 35
        },
        "id": "YgmZOrBRgXIT",
        "outputId": "b4718528-e466-4117-9aeb-aff8a3b4fcb5"
      },
      "execution_count": null,
      "outputs": [
        {
          "output_type": "execute_result",
          "data": {
            "text/plain": [
              "'PETR4 VAI AUMENTAR O PREÇO DA GASOLINA POR CAUSA DA ALTA DO PETRÓLEO'"
            ],
            "application/vnd.google.colaboratory.intrinsic+json": {
              "type": "string"
            }
          },
          "metadata": {},
          "execution_count": 45
        }
      ]
    },
    {
      "cell_type": "code",
      "source": [
        "# Método lower: modifica todos os caracteres para minúsculos\n",
        "frase_completa.lower()"
      ],
      "metadata": {
        "colab": {
          "base_uri": "https://localhost:8080/",
          "height": 35
        },
        "id": "vim7GRLQgXDY",
        "outputId": "d730b502-950b-407d-96eb-70b34f0296b5"
      },
      "execution_count": null,
      "outputs": [
        {
          "output_type": "execute_result",
          "data": {
            "text/plain": [
              "'petr4 vai aumentar o preço da gasolina por causa da alta do petróleo'"
            ],
            "application/vnd.google.colaboratory.intrinsic+json": {
              "type": "string"
            }
          },
          "metadata": {},
          "execution_count": 46
        }
      ]
    },
    {
      "cell_type": "markdown",
      "source": [
        "Separar as palavras dentro de uma string com o método 'split'"
      ],
      "metadata": {
        "id": "EHFgvTohhDJd"
      }
    },
    {
      "cell_type": "code",
      "source": [
        "# Por padrão, vai separar onde tiver espaços vazios e vai trasnformar em lista\n",
        "frase_separada = frase_completa.split()"
      ],
      "metadata": {
        "id": "Ce8hdNBZgyil"
      },
      "execution_count": null,
      "outputs": []
    },
    {
      "cell_type": "code",
      "source": [
        "frase_separada"
      ],
      "metadata": {
        "colab": {
          "base_uri": "https://localhost:8080/"
        },
        "id": "tFhxJT7ugyQP",
        "outputId": "de640305-b638-4664-b450-645449a04506"
      },
      "execution_count": null,
      "outputs": [
        {
          "output_type": "execute_result",
          "data": {
            "text/plain": [
              "['PETR4',\n",
              " 'vai',\n",
              " 'aumentar',\n",
              " 'o',\n",
              " 'preço',\n",
              " 'da',\n",
              " 'gasolina',\n",
              " 'por',\n",
              " 'causa',\n",
              " 'da',\n",
              " 'alta',\n",
              " 'do',\n",
              " 'petróleo']"
            ]
          },
          "metadata": {},
          "execution_count": 48
        }
      ]
    },
    {
      "cell_type": "code",
      "source": [
        "# Podemos escolher onde desejamos separar\n",
        "frase_completa.split('a')"
      ],
      "metadata": {
        "colab": {
          "base_uri": "https://localhost:8080/"
        },
        "id": "qpEolqhngyFH",
        "outputId": "c49dc2fc-c9b9-45a3-9cbc-aa1e8de803d0"
      },
      "execution_count": null,
      "outputs": [
        {
          "output_type": "execute_result",
          "data": {
            "text/plain": [
              "['PETR4 v',\n",
              " 'i ',\n",
              " 'ument',\n",
              " 'r o preço d',\n",
              " ' g',\n",
              " 'solin',\n",
              " ' por c',\n",
              " 'us',\n",
              " ' d',\n",
              " ' ',\n",
              " 'lt',\n",
              " ' do petróleo']"
            ]
          },
          "metadata": {},
          "execution_count": 53
        }
      ]
    },
    {
      "cell_type": "code",
      "source": [
        "type (frase_separada)"
      ],
      "metadata": {
        "colab": {
          "base_uri": "https://localhost:8080/"
        },
        "id": "GPEHPMs9h9m4",
        "outputId": "30d797bc-f26b-4527-ca0a-45e6a4bc9439"
      },
      "execution_count": null,
      "outputs": [
        {
          "output_type": "execute_result",
          "data": {
            "text/plain": [
              "list"
            ]
          },
          "metadata": {},
          "execution_count": 55
        }
      ]
    },
    {
      "cell_type": "code",
      "source": [
        "# Primeira palavra\n",
        "frase_separada[0]"
      ],
      "metadata": {
        "id": "GbBJ0B8diagu"
      },
      "execution_count": null,
      "outputs": []
    },
    {
      "cell_type": "code",
      "source": [
        "# Última palavra\n",
        "frase_separada[-1]"
      ],
      "metadata": {
        "colab": {
          "base_uri": "https://localhost:8080/",
          "height": 35
        },
        "id": "ia-U_gG7iMyp",
        "outputId": "9bd4e522-f369-4560-c2f1-a0f3a7b9ea52"
      },
      "execution_count": null,
      "outputs": [
        {
          "output_type": "execute_result",
          "data": {
            "text/plain": [
              "'petróleo'"
            ],
            "application/vnd.google.colaboratory.intrinsic+json": {
              "type": "string"
            }
          },
          "metadata": {},
          "execution_count": 56
        }
      ]
    },
    {
      "cell_type": "markdown",
      "source": [
        "#5. Listas\n"
      ],
      "metadata": {
        "id": "4bBVl1AYinoF"
      }
    },
    {
      "cell_type": "code",
      "source": [
        "# Listas são marcadas pelos colchetes e permitem alocação de itens (ou elementos) repetidos\n",
        "# Estão entre os objetos mais fáceis de manipulação pois aceitam substituições, adições, repetições...\n",
        "\n",
        "nomes = ['André', 'João', 'José']"
      ],
      "metadata": {
        "id": "Gl7h48i6iMkw"
      },
      "execution_count": null,
      "outputs": []
    },
    {
      "cell_type": "code",
      "source": [
        "nomes"
      ],
      "metadata": {
        "colab": {
          "base_uri": "https://localhost:8080/"
        },
        "id": "WOsNQ0hWi7pY",
        "outputId": "45476a64-e22c-48bd-ea3a-2e7e43e1d6d3"
      },
      "execution_count": null,
      "outputs": [
        {
          "output_type": "execute_result",
          "data": {
            "text/plain": [
              "['André', 'João', 'José']"
            ]
          },
          "metadata": {},
          "execution_count": 59
        }
      ]
    },
    {
      "cell_type": "code",
      "source": [
        "type(nomes)"
      ],
      "metadata": {
        "colab": {
          "base_uri": "https://localhost:8080/"
        },
        "id": "8nVS9pKKi7mg",
        "outputId": "b24ee9eb-1a44-4c99-fd2b-0afdc6135b97"
      },
      "execution_count": null,
      "outputs": [
        {
          "output_type": "execute_result",
          "data": {
            "text/plain": [
              "list"
            ]
          },
          "metadata": {},
          "execution_count": 60
        }
      ]
    },
    {
      "cell_type": "code",
      "source": [
        "# Permitem misturar strings com números\n",
        "\n",
        "lista_misturada = ['André', 'João', 'José', 30, 29, 28]"
      ],
      "metadata": {
        "id": "4VvH15TEjEwq"
      },
      "execution_count": null,
      "outputs": []
    },
    {
      "cell_type": "code",
      "source": [
        "lista_misturada"
      ],
      "metadata": {
        "colab": {
          "base_uri": "https://localhost:8080/"
        },
        "id": "2CfZ-8CZjEuK",
        "outputId": "12149c38-a0ed-4500-9ea7-3dacd6b0e095"
      },
      "execution_count": null,
      "outputs": [
        {
          "output_type": "execute_result",
          "data": {
            "text/plain": [
              "['André', 'João', 'José', 30, 29, 28]"
            ]
          },
          "metadata": {},
          "execution_count": 62
        }
      ]
    },
    {
      "cell_type": "code",
      "source": [
        "type(lista_misturada)"
      ],
      "metadata": {
        "colab": {
          "base_uri": "https://localhost:8080/"
        },
        "id": "yTaaJH_6jTYd",
        "outputId": "9f332229-1f83-4a58-b424-367f227d09df"
      },
      "execution_count": null,
      "outputs": [
        {
          "output_type": "execute_result",
          "data": {
            "text/plain": [
              "list"
            ]
          },
          "metadata": {},
          "execution_count": 63
        }
      ]
    },
    {
      "cell_type": "code",
      "source": [
        "lista_misturada[4]"
      ],
      "metadata": {
        "colab": {
          "base_uri": "https://localhost:8080/"
        },
        "id": "QJ9REj6FjXbx",
        "outputId": "67647b7f-d9da-41a3-b05f-f23e3722d5a1"
      },
      "execution_count": null,
      "outputs": [
        {
          "output_type": "execute_result",
          "data": {
            "text/plain": [
              "29"
            ]
          },
          "metadata": {},
          "execution_count": 65
        }
      ]
    },
    {
      "cell_type": "code",
      "source": [
        "lista_misturada[1]"
      ],
      "metadata": {
        "colab": {
          "base_uri": "https://localhost:8080/",
          "height": 35
        },
        "id": "ep37BZbajXZY",
        "outputId": "6f611eab-53fd-4e5d-e011-f0d069f3c08d"
      },
      "execution_count": null,
      "outputs": [
        {
          "output_type": "execute_result",
          "data": {
            "text/plain": [
              "'João'"
            ],
            "application/vnd.google.colaboratory.intrinsic+json": {
              "type": "string"
            }
          },
          "metadata": {},
          "execution_count": 66
        }
      ]
    },
    {
      "cell_type": "code",
      "source": [
        "# Listas seguem o mesmo padrão de indexação e slicing. Cada elemento é separado por ',' (vírgula)\n",
        "type(lista_misturada[0])"
      ],
      "metadata": {
        "colab": {
          "base_uri": "https://localhost:8080/"
        },
        "id": "IG9UGUMijXWw",
        "outputId": "d19beb88-af0c-4a9a-dd30-a4d811a81f3e"
      },
      "execution_count": null,
      "outputs": [
        {
          "output_type": "execute_result",
          "data": {
            "text/plain": [
              "str"
            ]
          },
          "metadata": {},
          "execution_count": 67
        }
      ]
    },
    {
      "cell_type": "code",
      "source": [
        "# Note que o elemento de índice '3' (30) é um número inteiro\n",
        "type(lista_misturada[3])"
      ],
      "metadata": {
        "colab": {
          "base_uri": "https://localhost:8080/"
        },
        "id": "pHUtfsRXjsOp",
        "outputId": "3be31b4a-8169-4ad5-e023-ff73e2350a4e"
      },
      "execution_count": null,
      "outputs": [
        {
          "output_type": "execute_result",
          "data": {
            "text/plain": [
              "int"
            ]
          },
          "metadata": {},
          "execution_count": 68
        }
      ]
    },
    {
      "cell_type": "code",
      "source": [
        "# Conseguimos criar novas strings resultantes de operações com outras strings, inclusive procedentes de lista\n",
        "\n",
        "'Os aprovados foram ' + nomes[0] + ' e ' + nomes[2]"
      ],
      "metadata": {
        "colab": {
          "base_uri": "https://localhost:8080/",
          "height": 35
        },
        "id": "krk-VBBRkCuH",
        "outputId": "307645aa-e0f1-4fa6-9f3b-1b29566f2c63"
      },
      "execution_count": null,
      "outputs": [
        {
          "output_type": "execute_result",
          "data": {
            "text/plain": [
              "'Os aprovados foram André e José'"
            ],
            "application/vnd.google.colaboratory.intrinsic+json": {
              "type": "string"
            }
          },
          "metadata": {},
          "execution_count": 78
        }
      ]
    },
    {
      "cell_type": "code",
      "source": [
        "# Nesse caso, embora sejam números, estão entre aspas e portanto, são lidos como strings\n",
        "\n",
        "lista = ['28', '29', '30']"
      ],
      "metadata": {
        "id": "LA8X2ygikLUd"
      },
      "execution_count": null,
      "outputs": []
    },
    {
      "cell_type": "code",
      "source": [
        "lista[0]"
      ],
      "metadata": {
        "colab": {
          "base_uri": "https://localhost:8080/",
          "height": 35
        },
        "id": "0MjOeNwUmf_F",
        "outputId": "39ed4e72-43c7-4514-bb1f-0e277dcefe33"
      },
      "execution_count": null,
      "outputs": [
        {
          "output_type": "execute_result",
          "data": {
            "text/plain": [
              "'28'"
            ],
            "application/vnd.google.colaboratory.intrinsic+json": {
              "type": "string"
            }
          },
          "metadata": {},
          "execution_count": 83
        }
      ]
    },
    {
      "cell_type": "code",
      "source": [
        "type(lista[0])"
      ],
      "metadata": {
        "colab": {
          "base_uri": "https://localhost:8080/"
        },
        "id": "Gkgr2qXRmf8d",
        "outputId": "03e7a71d-3f6b-42d3-8940-e2678d3c6d7b"
      },
      "execution_count": null,
      "outputs": [
        {
          "output_type": "execute_result",
          "data": {
            "text/plain": [
              "str"
            ]
          },
          "metadata": {},
          "execution_count": 84
        }
      ]
    },
    {
      "cell_type": "code",
      "source": [
        "'A minha idade é ' + lista[2]"
      ],
      "metadata": {
        "colab": {
          "base_uri": "https://localhost:8080/",
          "height": 35
        },
        "id": "_voibXmimtOM",
        "outputId": "b8c2fdff-eb7f-4df0-c248-23b8e0aaa7db"
      },
      "execution_count": null,
      "outputs": [
        {
          "output_type": "execute_result",
          "data": {
            "text/plain": [
              "'A minha idade é 30'"
            ],
            "application/vnd.google.colaboratory.intrinsic+json": {
              "type": "string"
            }
          },
          "metadata": {},
          "execution_count": 86
        }
      ]
    },
    {
      "cell_type": "code",
      "source": [
        "lista[1]"
      ],
      "metadata": {
        "colab": {
          "base_uri": "https://localhost:8080/",
          "height": 35
        },
        "id": "3TpV9ghZmtLG",
        "outputId": "31931601-665f-44d2-b658-ee247bf2f5d7"
      },
      "execution_count": null,
      "outputs": [
        {
          "output_type": "execute_result",
          "data": {
            "text/plain": [
              "'29'"
            ],
            "application/vnd.google.colaboratory.intrinsic+json": {
              "type": "string"
            }
          },
          "metadata": {},
          "execution_count": 87
        }
      ]
    },
    {
      "cell_type": "code",
      "source": [
        "# As listas são mutáveis, ao contrário das strings\n",
        "\n",
        "lista[2] = '31'\n"
      ],
      "metadata": {
        "id": "lQW_qHFImtIZ"
      },
      "execution_count": null,
      "outputs": []
    },
    {
      "cell_type": "code",
      "source": [
        "lista"
      ],
      "metadata": {
        "colab": {
          "base_uri": "https://localhost:8080/"
        },
        "id": "XGXRlqsmnHqN",
        "outputId": "36617355-12ac-41a6-a3f1-a970b7768205"
      },
      "execution_count": null,
      "outputs": [
        {
          "output_type": "execute_result",
          "data": {
            "text/plain": [
              "['28', '29', '31']"
            ]
          },
          "metadata": {},
          "execution_count": 89
        }
      ]
    },
    {
      "cell_type": "code",
      "source": [
        "# Também podem ser aditivas\n",
        "\n",
        "nova_lista = nomes + lista"
      ],
      "metadata": {
        "id": "Pgp2BFnnnHnL"
      },
      "execution_count": null,
      "outputs": []
    },
    {
      "cell_type": "code",
      "source": [
        "nova_lista"
      ],
      "metadata": {
        "colab": {
          "base_uri": "https://localhost:8080/"
        },
        "id": "AlWT_FNQngMh",
        "outputId": "5c071ba3-502b-4061-8135-bd4fcca3ed2c"
      },
      "execution_count": null,
      "outputs": [
        {
          "output_type": "execute_result",
          "data": {
            "text/plain": [
              "['André', 'João', 'José', '28', '29', '31']"
            ]
          },
          "metadata": {},
          "execution_count": 92
        }
      ]
    },
    {
      "cell_type": "code",
      "source": [
        "# Repetir a lista 2 vezes, duplicar\n",
        "\n",
        "nova_lista*2"
      ],
      "metadata": {
        "colab": {
          "base_uri": "https://localhost:8080/"
        },
        "id": "xtzuOYvino3y",
        "outputId": "7fda72d0-2b97-4355-d010-1cf73146c331"
      },
      "execution_count": null,
      "outputs": [
        {
          "output_type": "execute_result",
          "data": {
            "text/plain": [
              "['André',\n",
              " 'João',\n",
              " 'José',\n",
              " '28',\n",
              " '29',\n",
              " '31',\n",
              " 'André',\n",
              " 'João',\n",
              " 'José',\n",
              " '28',\n",
              " '29',\n",
              " '31']"
            ]
          },
          "metadata": {},
          "execution_count": 93
        }
      ]
    },
    {
      "cell_type": "code",
      "source": [
        "# Adicionar um novo elemento à lista. Método 'append'\n",
        "# Note que estou incluindo um item numérico (integer)\n",
        "\n",
        "lista.append('30')"
      ],
      "metadata": {
        "id": "oFNShm1Pno1A"
      },
      "execution_count": null,
      "outputs": []
    },
    {
      "cell_type": "code",
      "source": [
        "lista"
      ],
      "metadata": {
        "colab": {
          "base_uri": "https://localhost:8080/"
        },
        "id": "6kQdXgEynowC",
        "outputId": "c4d9be73-8890-4384-ef64-2f3732147c2c"
      },
      "execution_count": null,
      "outputs": [
        {
          "output_type": "execute_result",
          "data": {
            "text/plain": [
              "['28', '29', '31', 30, '30', '30']"
            ]
          },
          "metadata": {},
          "execution_count": 105
        }
      ]
    },
    {
      "cell_type": "code",
      "source": [
        "type(lista[5])"
      ],
      "metadata": {
        "colab": {
          "base_uri": "https://localhost:8080/"
        },
        "id": "fRo1lBzanotn",
        "outputId": "cec2f4b4-b2c9-45ce-8ac7-7546cda19702"
      },
      "execution_count": null,
      "outputs": [
        {
          "output_type": "execute_result",
          "data": {
            "text/plain": [
              "str"
            ]
          },
          "metadata": {},
          "execution_count": 104
        }
      ]
    },
    {
      "cell_type": "code",
      "source": [
        "# Método 'pop' remove o último item\n",
        "lista.pop()"
      ],
      "metadata": {
        "colab": {
          "base_uri": "https://localhost:8080/"
        },
        "id": "L5axAeZEnoqe",
        "outputId": "c5357dc7-7f90-496b-f5d9-1e716680f43f"
      },
      "execution_count": null,
      "outputs": [
        {
          "output_type": "execute_result",
          "data": {
            "text/plain": [
              "30"
            ]
          },
          "metadata": {},
          "execution_count": 113
        }
      ]
    },
    {
      "cell_type": "code",
      "source": [
        "lista"
      ],
      "metadata": {
        "colab": {
          "base_uri": "https://localhost:8080/"
        },
        "id": "id764dljpALS",
        "outputId": "47ca78e2-7e22-48c4-d7f1-8186073d1cfa"
      },
      "execution_count": null,
      "outputs": [
        {
          "output_type": "execute_result",
          "data": {
            "text/plain": [
              "['28', '29', '31']"
            ]
          },
          "metadata": {},
          "execution_count": 114
        }
      ]
    },
    {
      "cell_type": "code",
      "source": [
        "#Lista apenas com itens númericos\n",
        "\n",
        "idade = [4, 54, 65, 34, 29, 78, 38]"
      ],
      "metadata": {
        "id": "sqyM2gFlpKNu"
      },
      "execution_count": null,
      "outputs": []
    },
    {
      "cell_type": "code",
      "source": [
        "# Método sort para classificar por ordem crescente (no caso de strings será por ordem alfabética)\n",
        "\n",
        "idade.sort()"
      ],
      "metadata": {
        "id": "_1bJ5dUvpKK5"
      },
      "execution_count": null,
      "outputs": []
    },
    {
      "cell_type": "code",
      "source": [
        "idade"
      ],
      "metadata": {
        "colab": {
          "base_uri": "https://localhost:8080/"
        },
        "id": "u5pB2ndypKHh",
        "outputId": "35d7c901-b1de-4e0e-a649-87e3e9683c9f"
      },
      "execution_count": null,
      "outputs": [
        {
          "output_type": "execute_result",
          "data": {
            "text/plain": [
              "[4, 29, 34, 38, 54, 65, 78]"
            ]
          },
          "metadata": {},
          "execution_count": 117
        }
      ]
    },
    {
      "cell_type": "code",
      "source": [
        "# Método reverse para classificar por ordem decrescente (ordem alfabética invertida)\n",
        "\n",
        "idade.reverse()"
      ],
      "metadata": {
        "id": "VH7-KUEWpKE2"
      },
      "execution_count": null,
      "outputs": []
    },
    {
      "cell_type": "code",
      "source": [
        "idade"
      ],
      "metadata": {
        "colab": {
          "base_uri": "https://localhost:8080/"
        },
        "id": "QeBGbGEnpnvX",
        "outputId": "c095c4e2-1af7-4955-dfd8-925a4697878c"
      },
      "execution_count": null,
      "outputs": [
        {
          "output_type": "execute_result",
          "data": {
            "text/plain": [
              "[78, 65, 54, 38, 34, 29, 4]"
            ]
          },
          "metadata": {},
          "execution_count": 120
        }
      ]
    },
    {
      "cell_type": "code",
      "source": [
        "# Criar três listas\n",
        "\n",
        "lista1 = [0,1,2]\n",
        "lista2 = [4,5,6]\n",
        "lista3 = [7,8,9]"
      ],
      "metadata": {
        "id": "iruxfJKlpnso"
      },
      "execution_count": null,
      "outputs": []
    },
    {
      "cell_type": "code",
      "source": [
        "# Unir as três listas em uma só (lista de lista)\n",
        "\n",
        "matriz = [lista1, lista2, lista3]"
      ],
      "metadata": {
        "id": "IedRZnHtpnpy"
      },
      "execution_count": null,
      "outputs": []
    },
    {
      "cell_type": "code",
      "source": [
        "matriz"
      ],
      "metadata": {
        "colab": {
          "base_uri": "https://localhost:8080/"
        },
        "id": "PgGiryMpqb2N",
        "outputId": "42f73a00-7ddd-4838-b749-dd576ca82977"
      },
      "execution_count": null,
      "outputs": [
        {
          "output_type": "execute_result",
          "data": {
            "text/plain": [
              "[[0, 1, 2], [4, 5, 6], [7, 8, 9]]"
            ]
          },
          "metadata": {},
          "execution_count": 123
        }
      ]
    },
    {
      "cell_type": "code",
      "source": [
        "# Acessar a lista indexada como 1 (segunda lista) e seu item 0 (primeiro item)\n",
        "\n",
        "matriz[1][0]"
      ],
      "metadata": {
        "colab": {
          "base_uri": "https://localhost:8080/"
        },
        "id": "KnZAE4KEqbzm",
        "outputId": "74f1204c-9f42-4a24-af73-214ad979d784"
      },
      "execution_count": null,
      "outputs": [
        {
          "output_type": "execute_result",
          "data": {
            "text/plain": [
              "4"
            ]
          },
          "metadata": {},
          "execution_count": 125
        }
      ]
    },
    {
      "cell_type": "code",
      "source": [
        "# Primeira lista e primeiro elemento\n",
        "\n",
        "matriz[0][0]"
      ],
      "metadata": {
        "colab": {
          "base_uri": "https://localhost:8080/"
        },
        "id": "PK5t8I4Vqbwg",
        "outputId": "96f00705-4600-48c5-9be8-293fad2b6e7a"
      },
      "execution_count": null,
      "outputs": [
        {
          "output_type": "execute_result",
          "data": {
            "text/plain": [
              "0"
            ]
          },
          "metadata": {},
          "execution_count": 130
        }
      ]
    },
    {
      "cell_type": "markdown",
      "source": [
        "#6. Dicionários\n",
        "Os dicionários representam uma estrutura de dados mais complexos que as listas, capazes de relacionar pares de dados (um\n",
        "dado que pode representar outro dado). Ao invés de colchetes, como as listas, são definidos pelas chaves. Em outras\n",
        "linguagens, poderia ser relacionado às \"arrays associativas\". A estrutura básica dos dicionários é \"{key: value}\""
      ],
      "metadata": {
        "id": "BYFXdOqZwULu"
      }
    },
    {
      "cell_type": "code",
      "source": [
        "precos = {'PETR4': 30, \n",
        "          'VALE3': 102,\n",
        "          'WEGE3': 34 }"
      ],
      "metadata": {
        "id": "OUe62ZaIqbtu"
      },
      "execution_count": null,
      "outputs": []
    },
    {
      "cell_type": "code",
      "source": [
        "type(precos)"
      ],
      "metadata": {
        "colab": {
          "base_uri": "https://localhost:8080/"
        },
        "id": "IM72CzyUw2-4",
        "outputId": "a9fc0a51-d6a4-4482-87af-0bc4583f0c8c"
      },
      "execution_count": null,
      "outputs": [
        {
          "output_type": "execute_result",
          "data": {
            "text/plain": [
              "dict"
            ]
          },
          "metadata": {},
          "execution_count": 133
        }
      ]
    },
    {
      "cell_type": "code",
      "source": [
        "# Listar apenas as chaves (keys) do dicionário\n",
        "\n",
        "precos.keys()"
      ],
      "metadata": {
        "colab": {
          "base_uri": "https://localhost:8080/"
        },
        "id": "99ekaRQrw27w",
        "outputId": "dcf81528-3e3a-435b-83a4-b4305207400d"
      },
      "execution_count": null,
      "outputs": [
        {
          "output_type": "execute_result",
          "data": {
            "text/plain": [
              "dict_keys(['PETR4', 'VALE3', 'WEGE3'])"
            ]
          },
          "metadata": {},
          "execution_count": 134
        }
      ]
    },
    {
      "cell_type": "code",
      "source": [
        "# Listar apenas os valores do dicionário\n",
        "\n",
        "precos.values()"
      ],
      "metadata": {
        "colab": {
          "base_uri": "https://localhost:8080/"
        },
        "id": "e7m_4IVzw9Jp",
        "outputId": "9c6345ca-9777-4ee8-8d12-3cfab442cb74"
      },
      "execution_count": null,
      "outputs": [
        {
          "output_type": "execute_result",
          "data": {
            "text/plain": [
              "dict_values([30, 102, 34])"
            ]
          },
          "metadata": {},
          "execution_count": 137
        }
      ]
    },
    {
      "cell_type": "code",
      "source": [
        "# Listar os pares de itens do dicionário\n",
        "\n",
        "precos.items()"
      ],
      "metadata": {
        "colab": {
          "base_uri": "https://localhost:8080/"
        },
        "id": "njkn38Plw9G0",
        "outputId": "e745452d-9ad0-4a6c-9200-4213995ac5c3"
      },
      "execution_count": null,
      "outputs": [
        {
          "output_type": "execute_result",
          "data": {
            "text/plain": [
              "dict_items([('PETR4', 30), ('VALE3', 102), ('WEGE3', 34)])"
            ]
          },
          "metadata": {},
          "execution_count": 138
        }
      ]
    },
    {
      "cell_type": "code",
      "source": [
        "# Indexação é feito pelas chaves e não pelos índices numéricos (como listas)\n",
        "\n",
        "['PETR4']"
      ],
      "metadata": {
        "colab": {
          "base_uri": "https://localhost:8080/"
        },
        "id": "MoFZDFv4w9Du",
        "outputId": "53776cfa-4528-46fe-c990-1ef8c2198005"
      },
      "execution_count": null,
      "outputs": [
        {
          "output_type": "execute_result",
          "data": {
            "text/plain": [
              "30"
            ]
          },
          "metadata": {},
          "execution_count": 140
        }
      ]
    },
    {
      "cell_type": "code",
      "source": [
        "precos['VALE3']"
      ],
      "metadata": {
        "colab": {
          "base_uri": "https://localhost:8080/"
        },
        "id": "p2NftDksxbFx",
        "outputId": "fb9f2a98-c27b-48d8-e7b3-bc46710784f3"
      },
      "execution_count": null,
      "outputs": [
        {
          "output_type": "execute_result",
          "data": {
            "text/plain": [
              "102"
            ]
          },
          "metadata": {},
          "execution_count": 143
        }
      ]
    },
    {
      "cell_type": "code",
      "source": [
        "# Os dicionários são bem flexíveis quanto aos \"values\". Poderia ser uma string, uma lista...\n",
        "\n",
        "precos = {'PETR4': '30', \n",
        "          'VALE3': [102,103,104,105],\n",
        "          'WEGE3': 34 }"
      ],
      "metadata": {
        "id": "44o96LzjxbC-"
      },
      "execution_count": null,
      "outputs": []
    },
    {
      "cell_type": "code",
      "source": [
        "precos['PETR4']"
      ],
      "metadata": {
        "colab": {
          "base_uri": "https://localhost:8080/",
          "height": 35
        },
        "id": "lbltviYlyfNP",
        "outputId": "6b70eb19-87b3-4ab9-e4d0-23e6ea958ad6"
      },
      "execution_count": null,
      "outputs": [
        {
          "output_type": "execute_result",
          "data": {
            "text/plain": [
              "'30'"
            ],
            "application/vnd.google.colaboratory.intrinsic+json": {
              "type": "string"
            }
          },
          "metadata": {},
          "execution_count": 145
        }
      ]
    },
    {
      "cell_type": "code",
      "source": [
        "precos['VALE3']"
      ],
      "metadata": {
        "colab": {
          "base_uri": "https://localhost:8080/"
        },
        "id": "MP6inWXuyfKN",
        "outputId": "de270eb5-4e3a-41c7-9bce-8a2a06bae637"
      },
      "execution_count": null,
      "outputs": [
        {
          "output_type": "execute_result",
          "data": {
            "text/plain": [
              "[102, 103, 104, 105]"
            ]
          },
          "metadata": {},
          "execution_count": 146
        }
      ]
    },
    {
      "cell_type": "code",
      "source": [
        "# São mutáveis, assim como as listas\n",
        "\n",
        "precos['WEGE3'] = 30"
      ],
      "metadata": {
        "id": "JmIlCHCMyfHV"
      },
      "execution_count": null,
      "outputs": []
    },
    {
      "cell_type": "code",
      "source": [
        "precos"
      ],
      "metadata": {
        "colab": {
          "base_uri": "https://localhost:8080/"
        },
        "id": "60aTgThRyfEG",
        "outputId": "81c3c963-d259-4786-94ed-d9ea808c179b"
      },
      "execution_count": null,
      "outputs": [
        {
          "output_type": "execute_result",
          "data": {
            "text/plain": [
              "{'PETR4': '30', 'VALE3': [102, 103, 104, 105], 'WEGE3': 30}"
            ]
          },
          "metadata": {},
          "execution_count": 149
        }
      ]
    },
    {
      "cell_type": "code",
      "source": [
        "# Também permitem adição de novos itens\n",
        "\n",
        "precos['GOAU4'] = 20"
      ],
      "metadata": {
        "id": "aCp7DG7Gy6fY"
      },
      "execution_count": null,
      "outputs": []
    },
    {
      "cell_type": "code",
      "source": [
        "precos"
      ],
      "metadata": {
        "colab": {
          "base_uri": "https://localhost:8080/"
        },
        "id": "1xbJ_W3Cy6ci",
        "outputId": "c1be26ad-8226-4eaa-ce6e-d51ce5cc79d5"
      },
      "execution_count": null,
      "outputs": [
        {
          "output_type": "execute_result",
          "data": {
            "text/plain": [
              "{'GOAU4': 20, 'PETR4': '30', 'VALE3': [102, 103, 104, 105], 'WEGE3': 30}"
            ]
          },
          "metadata": {},
          "execution_count": 152
        }
      ]
    },
    {
      "cell_type": "code",
      "source": [
        "lista = []"
      ],
      "metadata": {
        "id": "4-JQm5SNy6Zl"
      },
      "execution_count": null,
      "outputs": []
    },
    {
      "cell_type": "code",
      "source": [
        "diccionarios = {}"
      ],
      "metadata": {
        "id": "D4-3T37gzhXl"
      },
      "execution_count": null,
      "outputs": []
    },
    {
      "cell_type": "code",
      "source": [
        ""
      ],
      "metadata": {
        "id": "yLSK83Ijz-oo"
      },
      "execution_count": null,
      "outputs": []
    },
    {
      "cell_type": "markdown",
      "source": [
        "#7. Tuplas\n",
        "As tuplas são criadas utilizando parênteses. Indexação e slicing similares aos de strings e listas. \n",
        "\n",
        "Estão entre as estruturas de\n",
        "dados mais simples (ex., são imutáveis e nao permitem adições), porém com pouca flexibilidade."
      ],
      "metadata": {
        "id": "npJCAJXj0A9A"
      }
    },
    {
      "cell_type": "code",
      "source": [
        "tupla = ()"
      ],
      "metadata": {
        "id": "Z37Jjxp8z-ls"
      },
      "execution_count": null,
      "outputs": []
    },
    {
      "cell_type": "code",
      "source": [
        "type(tupla)"
      ],
      "metadata": {
        "colab": {
          "base_uri": "https://localhost:8080/"
        },
        "id": "FfGyS9pyz-i3",
        "outputId": "4a67dcef-0c9f-4a4e-9f0c-7a6fabed5d67"
      },
      "execution_count": null,
      "outputs": [
        {
          "output_type": "execute_result",
          "data": {
            "text/plain": [
              "tuple"
            ]
          },
          "metadata": {},
          "execution_count": 156
        }
      ]
    },
    {
      "cell_type": "code",
      "source": [
        "# Exemplo de uma tupla (permite valores repetidos)\n",
        "\n",
        "tupla1 = (1,1,2,2,4,6,15)"
      ],
      "metadata": {
        "id": "9moSG4mjz-SR"
      },
      "execution_count": null,
      "outputs": []
    },
    {
      "cell_type": "code",
      "source": [
        "tupla1"
      ],
      "metadata": {
        "colab": {
          "base_uri": "https://localhost:8080/"
        },
        "id": "7Bh_3Dp31qSK",
        "outputId": "0e736fb6-0287-40db-9860-b1c34b65c61a"
      },
      "execution_count": null,
      "outputs": [
        {
          "output_type": "execute_result",
          "data": {
            "text/plain": [
              "(1, 1, 2, 2, 4, 6, 15)"
            ]
          },
          "metadata": {},
          "execution_count": 160
        }
      ]
    },
    {
      "cell_type": "code",
      "source": [
        "type(tupla1)"
      ],
      "metadata": {
        "colab": {
          "base_uri": "https://localhost:8080/"
        },
        "id": "2CDllm8Z1qPe",
        "outputId": "99a12517-2fc4-47ad-8020-6a16a937ee84"
      },
      "execution_count": null,
      "outputs": [
        {
          "output_type": "execute_result",
          "data": {
            "text/plain": [
              "tuple"
            ]
          },
          "metadata": {},
          "execution_count": 161
        }
      ]
    },
    {
      "cell_type": "code",
      "source": [
        "# Comprimento da tupla = número de itens\n",
        "len(tupla1)"
      ],
      "metadata": {
        "colab": {
          "base_uri": "https://localhost:8080/"
        },
        "id": "xasbCn-S1qKN",
        "outputId": "de450019-8aae-4de6-bd42-d575172c12bd"
      },
      "execution_count": null,
      "outputs": [
        {
          "output_type": "execute_result",
          "data": {
            "text/plain": [
              "7"
            ]
          },
          "metadata": {},
          "execution_count": 162
        }
      ]
    },
    {
      "cell_type": "code",
      "source": [
        "# Indexação similar a listas\n",
        "tupla1[2]"
      ],
      "metadata": {
        "colab": {
          "base_uri": "https://localhost:8080/"
        },
        "id": "KOwcnpLh1-ad",
        "outputId": "095cbc4b-30b6-4b58-e9d3-2e679460e523"
      },
      "execution_count": null,
      "outputs": [
        {
          "output_type": "execute_result",
          "data": {
            "text/plain": [
              "2"
            ]
          },
          "metadata": {},
          "execution_count": 163
        }
      ]
    },
    {
      "cell_type": "code",
      "source": [
        "# Fatiamento similar às listas e strings\n",
        "tupla1[2:6]"
      ],
      "metadata": {
        "colab": {
          "base_uri": "https://localhost:8080/"
        },
        "id": "avdCREQB1-XZ",
        "outputId": "2e4a195b-02e2-4b1d-b561-de87341eef4f"
      },
      "execution_count": null,
      "outputs": [
        {
          "output_type": "execute_result",
          "data": {
            "text/plain": [
              "(2, 2, 4, 6)"
            ]
          },
          "metadata": {},
          "execution_count": 164
        }
      ]
    },
    {
      "cell_type": "code",
      "source": [
        "# Tuplas possuem alguns métodos simples, como determinar o índice referente a um item específico (itens repetidos retornarão o índice do primeiro item)\n"
      ],
      "metadata": {
        "colab": {
          "base_uri": "https://localhost:8080/"
        },
        "id": "G6vsY2Zj2I23",
        "outputId": "c6461695-bc2a-4920-8c30-1bc71d497a45"
      },
      "execution_count": null,
      "outputs": [
        {
          "output_type": "execute_result",
          "data": {
            "text/plain": [
              "6"
            ]
          },
          "metadata": {},
          "execution_count": 165
        }
      ]
    },
    {
      "cell_type": "code",
      "source": [
        "tupla1.index(1)"
      ],
      "metadata": {
        "colab": {
          "base_uri": "https://localhost:8080/"
        },
        "id": "F99jdrtr2Iz7",
        "outputId": "9bb0da3a-3d82-409b-8a9e-85d2d39a19fa"
      },
      "execution_count": null,
      "outputs": [
        {
          "output_type": "execute_result",
          "data": {
            "text/plain": [
              "0"
            ]
          },
          "metadata": {},
          "execution_count": 166
        }
      ]
    },
    {
      "cell_type": "code",
      "source": [
        "# Método contagem de itens iguais\n",
        "\n",
        "tupla1.count(1)"
      ],
      "metadata": {
        "colab": {
          "base_uri": "https://localhost:8080/"
        },
        "id": "Yx1jb1yQ2opq",
        "outputId": "5e3c1c8d-2c37-4086-9675-28d1ba0403f0"
      },
      "execution_count": null,
      "outputs": [
        {
          "output_type": "execute_result",
          "data": {
            "text/plain": [
              "2"
            ]
          },
          "metadata": {},
          "execution_count": 168
        }
      ]
    },
    {
      "cell_type": "code",
      "source": [
        "# Elas são imutáveis\n",
        "\n",
        "tupla1[0] = 3"
      ],
      "metadata": {
        "colab": {
          "base_uri": "https://localhost:8080/",
          "height": 200
        },
        "id": "uo26QTtj2omJ",
        "outputId": "bbc9bc0e-81a8-4bcf-cef8-d396ada873c4"
      },
      "execution_count": null,
      "outputs": [
        {
          "output_type": "error",
          "ename": "TypeError",
          "evalue": "ignored",
          "traceback": [
            "\u001b[0;31m---------------------------------------------------------------------------\u001b[0m",
            "\u001b[0;31mTypeError\u001b[0m                                 Traceback (most recent call last)",
            "\u001b[0;32m<ipython-input-169-691d869ebab3>\u001b[0m in \u001b[0;36m<module>\u001b[0;34m()\u001b[0m\n\u001b[1;32m      1\u001b[0m \u001b[0;31m# Elas são imutáveis\u001b[0m\u001b[0;34m\u001b[0m\u001b[0;34m\u001b[0m\u001b[0;34m\u001b[0m\u001b[0m\n\u001b[1;32m      2\u001b[0m \u001b[0;34m\u001b[0m\u001b[0m\n\u001b[0;32m----> 3\u001b[0;31m \u001b[0mtupla1\u001b[0m\u001b[0;34m[\u001b[0m\u001b[0;36m0\u001b[0m\u001b[0;34m]\u001b[0m \u001b[0;34m=\u001b[0m \u001b[0;36m3\u001b[0m\u001b[0;34m\u001b[0m\u001b[0;34m\u001b[0m\u001b[0m\n\u001b[0m",
            "\u001b[0;31mTypeError\u001b[0m: 'tuple' object does not support item assignment"
          ]
        }
      ]
    },
    {
      "cell_type": "code",
      "source": [
        "tupla1[5]"
      ],
      "metadata": {
        "colab": {
          "base_uri": "https://localhost:8080/"
        },
        "id": "3mmpXT5L2oL6",
        "outputId": "5b660a15-61f1-4916-e8e4-37f95a0feafa"
      },
      "execution_count": null,
      "outputs": [
        {
          "output_type": "execute_result",
          "data": {
            "text/plain": [
              "6"
            ]
          },
          "metadata": {},
          "execution_count": 170
        }
      ]
    },
    {
      "cell_type": "markdown",
      "source": [
        "#8. Conjuntos\n",
        "Um conjunto (set), assim como a tupla, é criado utilizando parênteses. Não existe indexação ou slicing, ou seja, não seguem\n",
        "uma ordem (nesse caso mais similares aos dicionários). \n",
        "\n",
        "Permitem adições mas não permitem itens repetidos."
      ],
      "metadata": {
        "id": "Yxd90mUc3OAu"
      }
    },
    {
      "cell_type": "code",
      "source": [
        "conjunto1 = set()"
      ],
      "metadata": {
        "id": "24u1kiAW3Dj7"
      },
      "execution_count": null,
      "outputs": []
    },
    {
      "cell_type": "code",
      "source": [
        "conjunto1 "
      ],
      "metadata": {
        "colab": {
          "base_uri": "https://localhost:8080/"
        },
        "id": "A1OB7zub3c1G",
        "outputId": "0e4f984e-305e-4ca1-8691-2fc43a3b8212"
      },
      "execution_count": null,
      "outputs": [
        {
          "output_type": "execute_result",
          "data": {
            "text/plain": [
              "set()"
            ]
          },
          "metadata": {},
          "execution_count": 175
        }
      ]
    },
    {
      "cell_type": "code",
      "source": [
        "type(conjunto1)"
      ],
      "metadata": {
        "colab": {
          "base_uri": "https://localhost:8080/"
        },
        "id": "xLVYQ_mz3cuu",
        "outputId": "5d950f80-d547-4ecd-9ab2-236e83cc118d"
      },
      "execution_count": null,
      "outputs": [
        {
          "output_type": "execute_result",
          "data": {
            "text/plain": [
              "set"
            ]
          },
          "metadata": {},
          "execution_count": 176
        }
      ]
    },
    {
      "cell_type": "code",
      "source": [
        "# Método \"add\" para adicionar um novo item\n",
        "conjunto1.add(9)"
      ],
      "metadata": {
        "id": "3bERpBgI3cr9"
      },
      "execution_count": null,
      "outputs": []
    },
    {
      "cell_type": "code",
      "source": [
        "conjunto1"
      ],
      "metadata": {
        "colab": {
          "base_uri": "https://localhost:8080/"
        },
        "id": "j8ZVqGZH35hY",
        "outputId": "fa96706a-bbe1-49ce-90ba-f6093b4d9c7a"
      },
      "execution_count": null,
      "outputs": [
        {
          "output_type": "execute_result",
          "data": {
            "text/plain": [
              "{9}"
            ]
          },
          "metadata": {},
          "execution_count": 178
        }
      ]
    },
    {
      "cell_type": "code",
      "source": [
        "# Não consideram itens repetidos (pode ser usado para remover duplicatas)\n",
        "# Veja que vamos adicionar o mesmo número várias vezes, mas é contabilizado apenas uma vez\n",
        "\n",
        "conjunto1.add(9)\n",
        "conjunto1.add(9)\n",
        "conjunto1.add(9)\n",
        "conjunto1.add(1)\n",
        "conjunto1.add(1)\n",
        "conjunto1.add(2)\n",
        "conjunto1.add('PETR4')"
      ],
      "metadata": {
        "id": "yUYXe5O335e3"
      },
      "execution_count": null,
      "outputs": []
    },
    {
      "cell_type": "code",
      "source": [
        "conjunto1"
      ],
      "metadata": {
        "colab": {
          "base_uri": "https://localhost:8080/"
        },
        "id": "N3-ufD2H35b4",
        "outputId": "660c1e9b-0301-449f-9eee-b23ac775b717"
      },
      "execution_count": null,
      "outputs": [
        {
          "output_type": "execute_result",
          "data": {
            "text/plain": [
              "{1, 2, 9, 'PETR4'}"
            ]
          },
          "metadata": {},
          "execution_count": 184
        }
      ]
    },
    {
      "cell_type": "code",
      "source": [
        "len(conjunto1)"
      ],
      "metadata": {
        "colab": {
          "base_uri": "https://localhost:8080/"
        },
        "id": "zwUf6_DQ4Zsx",
        "outputId": "a8496c79-de0a-4771-cb10-0f61492d468e"
      },
      "execution_count": null,
      "outputs": [
        {
          "output_type": "execute_result",
          "data": {
            "text/plain": [
              "4"
            ]
          },
          "metadata": {},
          "execution_count": 185
        }
      ]
    },
    {
      "cell_type": "code",
      "source": [
        "# Não são indexáveis, ou seja, não seguem uma ordem como as listas ou tuplas\n",
        "# Portanto, este comando vai resultar em erro\n",
        "\n",
        "conjunto1[0]"
      ],
      "metadata": {
        "colab": {
          "base_uri": "https://localhost:8080/",
          "height": 200
        },
        "id": "RRG_ZYNH4Zp-",
        "outputId": "fda778d8-48dc-4450-b1b4-0c91a361fb25"
      },
      "execution_count": null,
      "outputs": [
        {
          "output_type": "error",
          "ename": "TypeError",
          "evalue": "ignored",
          "traceback": [
            "\u001b[0;31m---------------------------------------------------------------------------\u001b[0m",
            "\u001b[0;31mTypeError\u001b[0m                                 Traceback (most recent call last)",
            "\u001b[0;32m<ipython-input-186-0e5325f575e8>\u001b[0m in \u001b[0;36m<module>\u001b[0;34m()\u001b[0m\n\u001b[1;32m      2\u001b[0m \u001b[0;31m# Portanto, este comando vai resultar em erro\u001b[0m\u001b[0;34m\u001b[0m\u001b[0;34m\u001b[0m\u001b[0;34m\u001b[0m\u001b[0m\n\u001b[1;32m      3\u001b[0m \u001b[0;34m\u001b[0m\u001b[0m\n\u001b[0;32m----> 4\u001b[0;31m \u001b[0mconjunto1\u001b[0m\u001b[0;34m[\u001b[0m\u001b[0;36m0\u001b[0m\u001b[0;34m]\u001b[0m\u001b[0;34m\u001b[0m\u001b[0;34m\u001b[0m\u001b[0m\n\u001b[0m",
            "\u001b[0;31mTypeError\u001b[0m: 'set' object is not subscriptable"
          ]
        }
      ]
    },
    {
      "cell_type": "markdown",
      "source": [
        "#9. Declarações condicionais\n",
        "\n",
        "Em linguagens de programação, frequentemente devemos criar estruturas e comandos para atuar de acordo com condições\n",
        "específicas, ou seja, apenas se alguma condição for satisfeita."
      ],
      "metadata": {
        "id": "DXV2TQR14Jm7"
      }
    },
    {
      "cell_type": "code",
      "source": [
        "# Exemplo: Determinar o preço atual de um ativo e o seu preço alvo de compra\n",
        "\n",
        "preco_azul = 20\n",
        "preco_alvo = 30"
      ],
      "metadata": {
        "id": "3PUv49yR4dxc"
      },
      "execution_count": null,
      "outputs": []
    },
    {
      "cell_type": "code",
      "source": [
        "# Comando if (\"se\", em portugues), estabelecendo uma declaração condicional. Importante destacar a indentação das declarações\n",
        "# elif é uma contração do else if\n",
        "\n",
        "if preco_azul <30:\n",
        "    print('Compre, preço muito descontado!')\n",
        "elif preco_azul < 33:\n",
        "    print('Ainda em tendência de queda, espere um pouco mais!')\n",
        "elif preco_azul <= 36:\n",
        "    print('Iniciou a tendência de queda, espere cair até 30!') \n",
        "else: \n",
        "    print('Espere!')       "
      ],
      "metadata": {
        "colab": {
          "base_uri": "https://localhost:8080/"
        },
        "id": "sGcYQ3zy5ilK",
        "outputId": "85de889d-aa1c-4acc-e63b-6813db2abd2c"
      },
      "execution_count": null,
      "outputs": [
        {
          "output_type": "stream",
          "name": "stdout",
          "text": [
            "Compre, preço muito descontado!\n"
          ]
        }
      ]
    },
    {
      "cell_type": "code",
      "source": [
        "preco_wege = 19"
      ],
      "metadata": {
        "id": "Y-OkyJkl5ihy"
      },
      "execution_count": null,
      "outputs": []
    },
    {
      "cell_type": "code",
      "source": [
        "preco_alvo = 33"
      ],
      "metadata": {
        "id": "pNxW1-785ieZ"
      },
      "execution_count": null,
      "outputs": []
    },
    {
      "cell_type": "code",
      "source": [
        "# Ressaltando a estrutura da declaração condicional -> if seguido da condição e \":\" no fim.\n",
        "# Na linha seguinte, identação e comando caso a condição seja verdadeira\n",
        "\n",
        "if preco_wege < preco_alvo:\n",
        "    print('Espere!')\n",
        "else:\n",
        "    print('Compre!')"
      ],
      "metadata": {
        "colab": {
          "base_uri": "https://localhost:8080/"
        },
        "id": "B2PGRAUK7itD",
        "outputId": "94d25e20-0ae2-4585-fcd3-e66ae0dcebf4"
      },
      "execution_count": null,
      "outputs": [
        {
          "output_type": "stream",
          "name": "stdout",
          "text": [
            "Espere!\n"
          ]
        }
      ]
    },
    {
      "cell_type": "code",
      "source": [
        "# Importante observar que as condições vão sendo checadas pela ordem em que foram declaradas.\n",
        "# Assim que uma delas é satisfeita, as demais não são executadas mais\n",
        "\n",
        "if preco_wege < 25:\n",
        "    print('Commpre, preço muito descontado!')\n",
        "elif preco_wege < 30:\n",
        "    print('Ainda em tendência de queda, espere um pouco mais!')\n",
        "elif preco_wege <= 32:\n",
        "    print('Iniciou a tendencia de queda, espere cair até 25!')\n",
        "else:\n",
        "    print('Compre!')"
      ],
      "metadata": {
        "colab": {
          "base_uri": "https://localhost:8080/"
        },
        "id": "LK6apbVr7ip8",
        "outputId": "101fb41d-4482-4e69-eeac-223ff88825f2"
      },
      "execution_count": null,
      "outputs": [
        {
          "output_type": "stream",
          "name": "stdout",
          "text": [
            "Commpre, preço muito descontado!\n"
          ]
        }
      ]
    },
    {
      "cell_type": "code",
      "source": [
        "# Trocando a ordem das declarações. Note que assim que atendeu a primeira, as demais são ignoradas\n",
        "\n",
        "if preco_wege < 30:\n",
        "    print('Ainda em tendência de queda, espere um pouco mais!')\n",
        "elif preco_wege < 25:\n",
        "    print('Commpre, preço muito descontado!')\n",
        "elif preco_wege <= 32:\n",
        "    print('Iniciou a tendencia de queda, espere cair até 25!')\n",
        "else:\n",
        "    print('Espere!')"
      ],
      "metadata": {
        "colab": {
          "base_uri": "https://localhost:8080/"
        },
        "id": "iZU2zC8l7imF",
        "outputId": "d986e3d1-11ff-486f-cf29-02d2ad9e4815"
      },
      "execution_count": null,
      "outputs": [
        {
          "output_type": "stream",
          "name": "stdout",
          "text": [
            "Ainda em tendência de queda, espere um pouco mais!\n"
          ]
        }
      ]
    },
    {
      "cell_type": "markdown",
      "source": [
        "#10. Estruturas de repetição\n",
        "Além das estruturas (ou declarações) condicionais, as estruturas de repetição são muito importantes na sintaxe de qualquer\n",
        "linguagem de programação. Imagine que você queira automatizar uma tarefa, informando que ela deve ocorrer por\n",
        "determinadas vezes ou até que outra alguma outra condição seja estabelecida\n",
        "\n",
        "##10.1. For"
      ],
      "metadata": {
        "id": "bqmT9cpk-Zpq"
      }
    },
    {
      "cell_type": "code",
      "source": [
        "lista = ['João', 'José', 'André', 'Marcos']"
      ],
      "metadata": {
        "id": "0tNoxI7V-Zbq"
      },
      "execution_count": null,
      "outputs": []
    },
    {
      "cell_type": "code",
      "source": [
        "# Para cada item dentro da lista, imprima o item. Essa automação também é conhecida como loop\n",
        "# O item é um coringa, pode ser qualquer nome no lugar dele, desde que esteja dentro do () também\n",
        "\n",
        "for item in lista:\n",
        "    print(item)"
      ],
      "metadata": {
        "colab": {
          "base_uri": "https://localhost:8080/"
        },
        "id": "REUYwoPC-pB7",
        "outputId": "58b3f9e0-fda8-41fa-f8ac-97ec8dc4c01f"
      },
      "execution_count": null,
      "outputs": [
        {
          "output_type": "stream",
          "name": "stdout",
          "text": [
            "João\n",
            "José\n",
            "André\n",
            "Marcos\n"
          ]
        }
      ]
    },
    {
      "cell_type": "code",
      "source": [
        "# Embora tenha usado a palavra item, o Python compreende que estou determinando elementos/itens de uma lista.\n",
        "for propietario_automovel in lista:\n",
        "    print(propietario_automovel)"
      ],
      "metadata": {
        "colab": {
          "base_uri": "https://localhost:8080/"
        },
        "id": "hVshjCmwAc_0",
        "outputId": "1db82000-c161-4a2b-b46d-430ebba9381f"
      },
      "execution_count": null,
      "outputs": [
        {
          "output_type": "stream",
          "name": "stdout",
          "text": [
            "João\n",
            "José\n",
            "André\n",
            "Marcos\n"
          ]
        }
      ]
    },
    {
      "cell_type": "code",
      "source": [
        "lista_ativos = ['PETR4.SA', 'WEGE3.SA', 'MGLU3.SA', 'LREN3.SA', 'RENT3.SA', 'VALE3.SA']"
      ],
      "metadata": {
        "id": "bptu0GMpAtQh"
      },
      "execution_count": null,
      "outputs": []
    },
    {
      "cell_type": "code",
      "source": [
        "lista_ativos"
      ],
      "metadata": {
        "colab": {
          "base_uri": "https://localhost:8080/"
        },
        "id": "M5mA8NEJAtGB",
        "outputId": "5341bab8-affc-4e32-fd91-89f8a3bcd074"
      },
      "execution_count": null,
      "outputs": [
        {
          "output_type": "execute_result",
          "data": {
            "text/plain": [
              "['PETR4.SA', 'WEGE3.SA', 'MGLU3.SA', 'LREN3.SA', 'RENT3.SA', 'VALE3.SA']"
            ]
          },
          "metadata": {},
          "execution_count": 40
        }
      ]
    },
    {
      "cell_type": "code",
      "source": [
        "# Criando uma automação para que pegue cada item da lista e adicione a frase \"é um ativo da B3\".\n",
        "\n",
        "for acoes in lista_ativos:\n",
        "    print(acoes, ' é um ativo da B3' )"
      ],
      "metadata": {
        "colab": {
          "base_uri": "https://localhost:8080/"
        },
        "id": "CJpcAN42BScu",
        "outputId": "b04ecd48-da8c-4408-f0a8-ce1fd952e3c0"
      },
      "execution_count": null,
      "outputs": [
        {
          "output_type": "stream",
          "name": "stdout",
          "text": [
            "PETR4.SA  é um ativo da B3\n",
            "WEGE3.SA  é um ativo da B3\n",
            "MGLU3.SA  é um ativo da B3\n",
            "LREN3.SA  é um ativo da B3\n",
            "RENT3.SA  é um ativo da B3\n",
            "VALE3.SA  é um ativo da B3\n"
          ]
        }
      ]
    },
    {
      "cell_type": "code",
      "source": [
        "# Automação usando a função break para interromper o loop assim que uma condição for satisfeita (integrando 'f\n",
        "# Atenção à identação correta\n",
        "\n",
        "for acoes in lista_ativos:\n",
        "    print(acoes, ' é um ativo da B3' )\n",
        "    if acoes == 'LREN3.SA':\n",
        "        break"
      ],
      "metadata": {
        "colab": {
          "base_uri": "https://localhost:8080/"
        },
        "id": "UimOxxGUBRNA",
        "outputId": "5ca1f647-b912-48bb-ed26-1403207b9af9"
      },
      "execution_count": null,
      "outputs": [
        {
          "output_type": "stream",
          "name": "stdout",
          "text": [
            "PETR4.SA  é um ativo da B3\n",
            "WEGE3.SA  é um ativo da B3\n",
            "MGLU3.SA  é um ativo da B3\n",
            "LREN3.SA  é um ativo da B3\n"
          ]
        }
      ]
    },
    {
      "cell_type": "code",
      "source": [
        "precos = {'PETR4':30,\n",
        "          'VALE3': 102,\n",
        "          'WEGE3': 34}"
      ],
      "metadata": {
        "id": "1lZvgj_FAtDC"
      },
      "execution_count": null,
      "outputs": []
    },
    {
      "cell_type": "code",
      "source": [
        "precos"
      ],
      "metadata": {
        "colab": {
          "base_uri": "https://localhost:8080/"
        },
        "id": "xHjkbBQ-Duk8",
        "outputId": "5fe029d7-a264-43cd-f8c4-111b5f092c74"
      },
      "execution_count": null,
      "outputs": [
        {
          "output_type": "execute_result",
          "data": {
            "text/plain": [
              "{'PETR4': 30, 'VALE3': 102, 'WEGE3': 34}"
            ]
          },
          "metadata": {},
          "execution_count": 46
        }
      ]
    },
    {
      "cell_type": "code",
      "source": [
        "len(precos)"
      ],
      "metadata": {
        "colab": {
          "base_uri": "https://localhost:8080/"
        },
        "id": "CL2RXC7cDqEj",
        "outputId": "2c76eebd-22c1-4678-9a8b-3f18acd09086"
      },
      "execution_count": null,
      "outputs": [
        {
          "output_type": "execute_result",
          "data": {
            "text/plain": [
              "3"
            ]
          },
          "metadata": {},
          "execution_count": 45
        }
      ]
    },
    {
      "cell_type": "code",
      "source": [
        "\n",
        "'PETR4' + ' está com o preço de' + ' 30 ' + ' Neste momento'"
      ],
      "metadata": {
        "colab": {
          "base_uri": "https://localhost:8080/",
          "height": 35
        },
        "id": "YbyeEPwhDqBb",
        "outputId": "81a6d03a-06bc-4bd8-cafc-e2415039def9"
      },
      "execution_count": null,
      "outputs": [
        {
          "output_type": "execute_result",
          "data": {
            "text/plain": [
              "'PETR4 está com o preço de 30  Neste momento'"
            ],
            "application/vnd.google.colaboratory.intrinsic+json": {
              "type": "string"
            }
          },
          "metadata": {},
          "execution_count": 47
        }
      ]
    },
    {
      "cell_type": "code",
      "source": [
        "list(precos.keys())"
      ],
      "metadata": {
        "colab": {
          "base_uri": "https://localhost:8080/"
        },
        "id": "EzwwvaLyEbaU",
        "outputId": "bc7d3cfe-0656-4f6f-e40c-effd14197619"
      },
      "execution_count": null,
      "outputs": [
        {
          "output_type": "execute_result",
          "data": {
            "text/plain": [
              "['PETR4', 'VALE3', 'WEGE3']"
            ]
          },
          "metadata": {},
          "execution_count": 50
        }
      ]
    },
    {
      "cell_type": "code",
      "source": [
        "list(precos.values())"
      ],
      "metadata": {
        "colab": {
          "base_uri": "https://localhost:8080/"
        },
        "id": "XQ5NpdzrEbSR",
        "outputId": "5cc9a9ce-4735-48ee-ef52-9c512e0fd774"
      },
      "execution_count": null,
      "outputs": [
        {
          "output_type": "execute_result",
          "data": {
            "text/plain": [
              "[30, 102, 34]"
            ]
          },
          "metadata": {},
          "execution_count": 51
        }
      ]
    },
    {
      "cell_type": "code",
      "source": [
        "range(0,len(precos))"
      ],
      "metadata": {
        "colab": {
          "base_uri": "https://localhost:8080/"
        },
        "id": "AqNPCbw5GKO2",
        "outputId": "a0d6c975-7808-4703-c87f-bea9e2ecddcd"
      },
      "execution_count": null,
      "outputs": [
        {
          "output_type": "execute_result",
          "data": {
            "text/plain": [
              "[0, 1, 2]"
            ]
          },
          "metadata": {},
          "execution_count": 55
        }
      ]
    },
    {
      "cell_type": "code",
      "source": [
        "for i in range(0,len(precos)):\n",
        "    print(list(precos.keys())[i], 'está com o preco de', list(precos.values())[i], 'neste momento' )"
      ],
      "metadata": {
        "colab": {
          "base_uri": "https://localhost:8080/"
        },
        "id": "NWTlHLEWEbOz",
        "outputId": "38a99f15-5da7-4877-b617-f66cbcc4ac57"
      },
      "execution_count": null,
      "outputs": [
        {
          "output_type": "stream",
          "name": "stdout",
          "text": [
            "PETR4 está com o preco de 30 neste momento\n",
            "VALE3 está com o preco de 102 neste momento\n",
            "WEGE3 está com o preco de 34 neste momento\n"
          ]
        }
      ]
    },
    {
      "cell_type": "markdown",
      "source": [
        "#10.2. While\n",
        "A estrutura do while (enquanto, em português) se refere a outra repetição (loop) que ocorrerá enquanto a condição for\n",
        "verdadeira. \n",
        "\n",
        "Poderia ser pensada de uma maneira análoga ao uso do 'for' e 'if' integrados."
      ],
      "metadata": {
        "id": "BEPZGEimX2gn"
      }
    },
    {
      "cell_type": "code",
      "source": [
        "preco_weg = 30"
      ],
      "metadata": {
        "id": "M1gB6pODEbJs"
      },
      "execution_count": null,
      "outputs": []
    },
    {
      "cell_type": "code",
      "source": [
        "# Enquanto o preço for menor que 39, imprima a frase \"Ainda não atingiu o preço alvo, espere. O preço atual é\n",
        "# Caso a condição pare de ser verdadeira (preço_weg seja >= 39) imprima esta outra frase: \"Preço alvo atingido\"\n",
        "\n",
        "while preco_weg < 39:\n",
        "    print('Ainda não antingiu o preço alvo, espere! O preço atual é: ', round(preco_weg,2))\n",
        "    preco_weg = preco_weg*1.01\n",
        "\n",
        "else:\n",
        "    print(\"Preço alvo atingido, hora de vender! Preço da venda: \", round(preco_weg, 2))"
      ],
      "metadata": {
        "colab": {
          "base_uri": "https://localhost:8080/"
        },
        "id": "P2Cyfq73YFFw",
        "outputId": "90dfa01e-2b5c-49d5-bbc3-aff3b8a4773a"
      },
      "execution_count": null,
      "outputs": [
        {
          "output_type": "stream",
          "name": "stdout",
          "text": [
            "Ainda não antingiu o preço alvo, espere! O preço atual é:  30\n",
            "Ainda não antingiu o preço alvo, espere! O preço atual é:  30.3\n",
            "Ainda não antingiu o preço alvo, espere! O preço atual é:  30.6\n",
            "Ainda não antingiu o preço alvo, espere! O preço atual é:  30.91\n",
            "Ainda não antingiu o preço alvo, espere! O preço atual é:  31.22\n",
            "Ainda não antingiu o preço alvo, espere! O preço atual é:  31.53\n",
            "Ainda não antingiu o preço alvo, espere! O preço atual é:  31.85\n",
            "Ainda não antingiu o preço alvo, espere! O preço atual é:  32.16\n",
            "Ainda não antingiu o preço alvo, espere! O preço atual é:  32.49\n",
            "Ainda não antingiu o preço alvo, espere! O preço atual é:  32.81\n",
            "Ainda não antingiu o preço alvo, espere! O preço atual é:  33.14\n",
            "Ainda não antingiu o preço alvo, espere! O preço atual é:  33.47\n",
            "Ainda não antingiu o preço alvo, espere! O preço atual é:  33.8\n",
            "Ainda não antingiu o preço alvo, espere! O preço atual é:  34.14\n",
            "Ainda não antingiu o preço alvo, espere! O preço atual é:  34.48\n",
            "Ainda não antingiu o preço alvo, espere! O preço atual é:  34.83\n",
            "Ainda não antingiu o preço alvo, espere! O preço atual é:  35.18\n",
            "Ainda não antingiu o preço alvo, espere! O preço atual é:  35.53\n",
            "Ainda não antingiu o preço alvo, espere! O preço atual é:  35.88\n",
            "Ainda não antingiu o preço alvo, espere! O preço atual é:  36.24\n",
            "Ainda não antingiu o preço alvo, espere! O preço atual é:  36.61\n",
            "Ainda não antingiu o preço alvo, espere! O preço atual é:  36.97\n",
            "Ainda não antingiu o preço alvo, espere! O preço atual é:  37.34\n",
            "Ainda não antingiu o preço alvo, espere! O preço atual é:  37.71\n",
            "Ainda não antingiu o preço alvo, espere! O preço atual é:  38.09\n",
            "Ainda não antingiu o preço alvo, espere! O preço atual é:  38.47\n",
            "Ainda não antingiu o preço alvo, espere! O preço atual é:  38.86\n",
            "Preço alvo atingido, hora de vender! Preço da venda:  39.25\n"
          ]
        }
      ]
    },
    {
      "cell_type": "code",
      "source": [
        "# Outro exemplo de uso do while. Imagine que tem disponível 10000 reais para investir. \n",
        "#A cada operação, será computado o valor alocado nesta operação (chamaremos de 'investimento_unitario') e o total já investido ('investimento_total')\n",
        "# A função input interage com o usuario, recebendo um objeto (numérico, string...) e armazenando em uma variável\n",
        "\n",
        "investimento_unitario = 0\n",
        "investimento_total = 0"
      ],
      "metadata": {
        "id": "sc0o2D3cYFDB"
      },
      "execution_count": null,
      "outputs": []
    },
    {
      "cell_type": "code",
      "source": [
        "# Enquanto o valor alocado for menor que 10000 a condição do while será executada. Quando essa condição\n",
        "\n",
        "while investimento_total < 10000:\n",
        "    investimento_unitario = int(input('Digite o valor investido na operação: '))\n",
        "    investimento_total = investimento_total + investimento_unitario\n",
        "\n",
        "else:\n",
        "    print('Limite total previsto para investir foi atingido!')\n",
        "    print('Você excedeu', investimento_total - 10000, ' do valor previsto')\n",
        "\n",
        "    print('Você investiu o tatal de R$', investimento_total)"
      ],
      "metadata": {
        "colab": {
          "base_uri": "https://localhost:8080/"
        },
        "id": "tc67EA9TYFAg",
        "outputId": "9b8da78d-9d95-4ba1-9dda-f812dbed3b7b"
      },
      "execution_count": null,
      "outputs": [
        {
          "output_type": "stream",
          "name": "stdout",
          "text": [
            "Digite o valor investido na operação: 5000\n",
            "Digite o valor investido na operação: 7000\n",
            "Limite total previsto para investir foi atingido!\n",
            "Você excedeu 2000  do valor previsto\n",
            "Você investiu o tatal de R$ 12000\n"
          ]
        }
      ]
    },
    {
      "cell_type": "code",
      "source": [
        ""
      ],
      "metadata": {
        "id": "88FBC1cMYE96"
      },
      "execution_count": null,
      "outputs": []
    },
    {
      "cell_type": "markdown",
      "source": [
        "#11. Alguns outros operadores\n",
        "Alguns operadores são muito úteis para execução de estruturas condicionais e de repetição. Dentre eles:\n",
        "##11.1. Range\n",
        "Indica um intervalo entre dois números. Segue o padrão da indexação (primeiro argumento inclusivo e segundo argumento\n",
        "não inclusivo)"
      ],
      "metadata": {
        "id": "9eYz-8owkPuR"
      }
    },
    {
      "cell_type": "code",
      "source": [
        "# Intervalo entre 0 (inclusivo) e 11 (exclusivo)\n",
        "# O output não lista todos os números, reduzindo gastos com memória\n",
        "\n",
        "range(0,11)"
      ],
      "metadata": {
        "colab": {
          "base_uri": "https://localhost:8080/"
        },
        "id": "dKUTSFmHYEyv",
        "outputId": "b77c207d-681a-465f-aa2c-c5ef50015cb5"
      },
      "execution_count": null,
      "outputs": [
        {
          "output_type": "execute_result",
          "data": {
            "text/plain": [
              "range(0, 11)"
            ]
          },
          "metadata": {},
          "execution_count": 84
        }
      ]
    },
    {
      "cell_type": "code",
      "source": [
        "#Nesse caso, listará todos os elementos\n",
        "\n",
        "list(range(0,11))"
      ],
      "metadata": {
        "colab": {
          "base_uri": "https://localhost:8080/"
        },
        "id": "TXs2ndcUkdqD",
        "outputId": "6cf735a3-8e6e-48b1-bbb4-9c840304f950"
      },
      "execution_count": null,
      "outputs": [
        {
          "output_type": "execute_result",
          "data": {
            "text/plain": [
              "[0, 1, 2, 3, 4, 5, 6, 7, 8, 9, 10]"
            ]
          },
          "metadata": {},
          "execution_count": 85
        }
      ]
    },
    {
      "cell_type": "code",
      "source": [
        "for i in range(0,11):\n",
        "    print(i)"
      ],
      "metadata": {
        "colab": {
          "base_uri": "https://localhost:8080/"
        },
        "id": "9Cfao4UakdnA",
        "outputId": "63ff52cb-294f-489b-80c9-08267724d13a"
      },
      "execution_count": null,
      "outputs": [
        {
          "output_type": "stream",
          "name": "stdout",
          "text": [
            "0\n",
            "1\n",
            "2\n",
            "3\n",
            "4\n",
            "5\n",
            "6\n",
            "7\n",
            "8\n",
            "9\n",
            "10\n"
          ]
        }
      ]
    },
    {
      "cell_type": "code",
      "source": [
        "# Também pode ser usado especificando um intervalo entre os números dentro do intervalo estabelecido, similar ao slicing\n",
        "\n",
        "for i in range(0,11,2):\n",
        "    print(i)"
      ],
      "metadata": {
        "colab": {
          "base_uri": "https://localhost:8080/"
        },
        "id": "8azEUD4Gk8gt",
        "outputId": "80a79607-6883-4b85-ea0a-4b8de8953da4"
      },
      "execution_count": null,
      "outputs": [
        {
          "output_type": "stream",
          "name": "stdout",
          "text": [
            "0\n",
            "2\n",
            "4\n",
            "6\n",
            "8\n",
            "10\n"
          ]
        }
      ]
    },
    {
      "cell_type": "markdown",
      "source": [
        "##11.2. Enumerate\n",
        "Função que transforma uma coleção de dados (lista, tupla, string) em um objeto enumerado de cada item da coleção"
      ],
      "metadata": {
        "id": "V8dcsOPfmAta"
      }
    },
    {
      "cell_type": "code",
      "source": [
        "lista_ativos = ['PETR4.SA', 'WEGE3.SA', 'MGLU3.SA', 'LREN3.SA', 'RENT3.SA', 'VALE3.SA']"
      ],
      "metadata": {
        "id": "Jdcgqeklk8dp"
      },
      "execution_count": null,
      "outputs": []
    },
    {
      "cell_type": "code",
      "source": [
        "# O output não enumera todos os itens, reduzindo gastos com memória\n",
        "\n",
        "enumerate(lista_ativos)"
      ],
      "metadata": {
        "colab": {
          "base_uri": "https://localhost:8080/"
        },
        "id": "LX0zMtgnk8W2",
        "outputId": "90bbab90-858d-4a4e-ce93-d87068ee5a0e"
      },
      "execution_count": null,
      "outputs": [
        {
          "output_type": "execute_result",
          "data": {
            "text/plain": [
              "<enumerate at 0x7f7c3933a690>"
            ]
          },
          "metadata": {},
          "execution_count": 89
        }
      ]
    },
    {
      "cell_type": "code",
      "source": [
        "# Nessa caso, irá enumerar todos os elementos\n",
        "\n",
        "list(enumerate(lista_ativos))"
      ],
      "metadata": {
        "colab": {
          "base_uri": "https://localhost:8080/"
        },
        "id": "vv3-8LuamRGE",
        "outputId": "e0321dc4-a4f3-439a-c171-9905d87e950b"
      },
      "execution_count": null,
      "outputs": [
        {
          "output_type": "execute_result",
          "data": {
            "text/plain": [
              "[(0, 'PETR4.SA'),\n",
              " (1, 'WEGE3.SA'),\n",
              " (2, 'MGLU3.SA'),\n",
              " (3, 'LREN3.SA'),\n",
              " (4, 'RENT3.SA'),\n",
              " (5, 'VALE3.SA')]"
            ]
          },
          "metadata": {},
          "execution_count": 91
        }
      ]
    },
    {
      "cell_type": "code",
      "source": [
        "# Podemos começar a enumeração a partir de outro número que não o 0\n",
        "\n",
        "list(enumerate(lista_ativos,3))"
      ],
      "metadata": {
        "colab": {
          "base_uri": "https://localhost:8080/"
        },
        "id": "_vzLzpF8mRCw",
        "outputId": "089d7252-c2bf-4cda-e986-773cf593bd19"
      },
      "execution_count": null,
      "outputs": [
        {
          "output_type": "execute_result",
          "data": {
            "text/plain": [
              "[(3, 'PETR4.SA'),\n",
              " (4, 'WEGE3.SA'),\n",
              " (5, 'MGLU3.SA'),\n",
              " (6, 'LREN3.SA'),\n",
              " (7, 'RENT3.SA'),\n",
              " (8, 'VALE3.SA')]"
            ]
          },
          "metadata": {},
          "execution_count": 92
        }
      ]
    },
    {
      "cell_type": "code",
      "source": [
        "# Exemplo usando uma string\n",
        "\n",
        "acao = 'PETR4'"
      ],
      "metadata": {
        "id": "nW6qM2MOmQ9a"
      },
      "execution_count": null,
      "outputs": []
    },
    {
      "cell_type": "code",
      "source": [
        "list(enumerate(acao))"
      ],
      "metadata": {
        "colab": {
          "base_uri": "https://localhost:8080/"
        },
        "id": "0v2ZMGIrnBrC",
        "outputId": "4ed296d3-4dd4-4cfa-c314-10a2707543e0"
      },
      "execution_count": null,
      "outputs": [
        {
          "output_type": "execute_result",
          "data": {
            "text/plain": [
              "[(0, 'P'), (1, 'E'), (2, 'T'), (3, 'R'), (4, '4')]"
            ]
          },
          "metadata": {},
          "execution_count": 96
        }
      ]
    },
    {
      "cell_type": "code",
      "source": [
        "for numero, letra in enumerate(acao):\n",
        "    print('No índice ', numero, 'o caractere é', letra)"
      ],
      "metadata": {
        "colab": {
          "base_uri": "https://localhost:8080/"
        },
        "id": "82iIN1v_nBpE",
        "outputId": "9ae06541-65d1-4ffe-85b2-97f6af7a28ee"
      },
      "execution_count": null,
      "outputs": [
        {
          "output_type": "stream",
          "name": "stdout",
          "text": [
            "No índice  0 o caractere é P\n",
            "No índice  1 o caractere é E\n",
            "No índice  2 o caractere é T\n",
            "No índice  3 o caractere é R\n",
            "No índice  4 o caractere é 4\n"
          ]
        }
      ]
    },
    {
      "cell_type": "code",
      "source": [
        "# Note que neste caso, o enumerate fez a mesma função da estrutura 'for' a seguir\n",
        "\n",
        "index_count = 0\n",
        "\n",
        "for i in acao:\n",
        "    print('No índice ', index_count, 'o caractere é', i)\n",
        "    index_count += 1\n"
      ],
      "metadata": {
        "colab": {
          "base_uri": "https://localhost:8080/"
        },
        "id": "RypiA6S9nBlh",
        "outputId": "81aff1a4-e14a-4715-b877-3437f3c2d530"
      },
      "execution_count": null,
      "outputs": [
        {
          "output_type": "stream",
          "name": "stdout",
          "text": [
            "No índice  0 o caractere é P\n",
            "No índice  1 o caractere é E\n",
            "No índice  2 o caractere é T\n",
            "No índice  3 o caractere é R\n",
            "No índice  4 o caractere é 4\n"
          ]
        }
      ]
    },
    {
      "cell_type": "markdown",
      "source": [
        "##11.3. Zip & in\n",
        "A função zip consegue executar interações entre listas. \n",
        "\n",
        "O operador in (dentro/pertencente em português) permite a leitura\n",
        "sequencial de objetos zip (assim como de listas), fundamental nas estruturas 'for'"
      ],
      "metadata": {
        "id": "QPJ13YY2poSB"
      }
    },
    {
      "cell_type": "code",
      "source": [
        "acoes = ['PETR4', 'WEGE3', 'MGLU3', 'JHSF3', 'GOAU4']\n",
        "setores = ['Petróleo', 'Motores', 'Varejo', 'Construção', 'Metalurgia']"
      ],
      "metadata": {
        "id": "oj-EwntMnBio"
      },
      "execution_count": null,
      "outputs": []
    },
    {
      "cell_type": "code",
      "source": [
        "# Criar uma relação entre as duas listas acima. Output reduzido assim como os anteriores range e enumerate\n",
        "\n",
        "zip(acoes, setores)"
      ],
      "metadata": {
        "colab": {
          "base_uri": "https://localhost:8080/"
        },
        "id": "N3zr5nJZqh7V",
        "outputId": "ec2596c6-71ca-408f-8b05-4938adade249"
      },
      "execution_count": null,
      "outputs": [
        {
          "output_type": "execute_result",
          "data": {
            "text/plain": [
              "<zip at 0x7f7c37ad3190>"
            ]
          },
          "metadata": {},
          "execution_count": 110
        }
      ]
    },
    {
      "cell_type": "code",
      "source": [
        "# Note que é uma lista de tuplas\n",
        "\n",
        "list(zip(acoes, setores))"
      ],
      "metadata": {
        "colab": {
          "base_uri": "https://localhost:8080/"
        },
        "id": "rdbcWW-Hqhvg",
        "outputId": "f906c9df-e992-4c19-93d5-bae165207dbd"
      },
      "execution_count": null,
      "outputs": [
        {
          "output_type": "execute_result",
          "data": {
            "text/plain": [
              "[('PETR4', 'Petróleo'),\n",
              " ('WEGE3', 'Motores'),\n",
              " ('MGLU3', 'Varejo'),\n",
              " ('JHSF3', 'Construção'),\n",
              " ('GOAU4', 'Metalurgia')]"
            ]
          },
          "metadata": {},
          "execution_count": 123
        }
      ]
    },
    {
      "cell_type": "code",
      "source": [
        "# Leitura sequencial do zip usando o in\n",
        "\n",
        "for acao, setor in list(zip(acoes, setores)):\n",
        "    print('O papel', acao, 'pertence ao setor de ', setor)"
      ],
      "metadata": {
        "colab": {
          "base_uri": "https://localhost:8080/"
        },
        "id": "CnuKzeoOqhtA",
        "outputId": "40eecf66-ccdc-40b1-aba6-d36bdb6c62e2"
      },
      "execution_count": null,
      "outputs": [
        {
          "output_type": "stream",
          "name": "stdout",
          "text": [
            "O papel PETR4 pertence ao setor de  Petróleo\n",
            "O papel WEGE3 pertence ao setor de  Motores\n",
            "O papel MGLU3 pertence ao setor de  Varejo\n",
            "O papel JHSF3 pertence ao setor de  Construção\n",
            "O papel GOAU4 pertence ao setor de  Metalurgia\n"
          ]
        }
      ]
    },
    {
      "cell_type": "code",
      "source": [
        "#Mostrando o operador f'', que será útil no exemplo seguinte\n",
        "# Esse operador admite que usemos variáveis dentro das aspas, desde que essas variáveis estejam por sua vez dentro\n",
        "# de chaves, como no exemplo abaixo\n",
        "\n",
        "papel = 'PETR3'\n",
        "setor = 'Petróleo'"
      ],
      "metadata": {
        "id": "JcTaQ2Xcqhpx"
      },
      "execution_count": null,
      "outputs": []
    },
    {
      "cell_type": "code",
      "source": [
        "f'A {papel} está no setor de {setor}'"
      ],
      "metadata": {
        "colab": {
          "base_uri": "https://localhost:8080/",
          "height": 35
        },
        "id": "v6hmq839qhmo",
        "outputId": "bf6c2821-5b43-4eda-cd32-35c9398b74f4"
      },
      "execution_count": null,
      "outputs": [
        {
          "output_type": "execute_result",
          "data": {
            "text/plain": [
              "'A PETR3 está no setor de Petróleo'"
            ],
            "application/vnd.google.colaboratory.intrinsic+json": {
              "type": "string"
            }
          },
          "metadata": {},
          "execution_count": 118
        }
      ]
    },
    {
      "cell_type": "code",
      "source": [
        "# Uma outra forma de escrever o mesmo loop acima, desta dez usando o operador f''\n",
        "\n",
        "for acao, setor in list(zip(acoes, setores)):\n",
        "    print(f'O papel {acao} está no setor de {setor}')"
      ],
      "metadata": {
        "colab": {
          "base_uri": "https://localhost:8080/"
        },
        "id": "Za0N5jHOtPig",
        "outputId": "962e55f0-17b5-476a-a76a-b180f6281ebe"
      },
      "execution_count": null,
      "outputs": [
        {
          "output_type": "stream",
          "name": "stdout",
          "text": [
            "O papel PETR4 está no setor de Petróleo\n",
            "O papel WEGE3 está no setor de Motores\n",
            "O papel MGLU3 está no setor de Varejo\n",
            "O papel JHSF3 está no setor de Construção\n",
            "O papel GOAU4 está no setor de Metalurgia\n"
          ]
        }
      ]
    },
    {
      "cell_type": "code",
      "source": [
        "'VIVR3' in acoes"
      ],
      "metadata": {
        "colab": {
          "base_uri": "https://localhost:8080/"
        },
        "id": "MVamNoQxtPfv",
        "outputId": "0b9d7d35-3a65-4549-bf5b-7be6f4cd6c37"
      },
      "execution_count": null,
      "outputs": [
        {
          "output_type": "execute_result",
          "data": {
            "text/plain": [
              "False"
            ]
          },
          "metadata": {},
          "execution_count": 126
        }
      ]
    },
    {
      "cell_type": "code",
      "source": [
        "'WEGE3' in acoes"
      ],
      "metadata": {
        "colab": {
          "base_uri": "https://localhost:8080/"
        },
        "id": "TT0GqrU3tPdX",
        "outputId": "27d3b463-9c07-4c9a-e307-29faa186faa6"
      },
      "execution_count": null,
      "outputs": [
        {
          "output_type": "execute_result",
          "data": {
            "text/plain": [
              "True"
            ]
          },
          "metadata": {},
          "execution_count": 127
        }
      ]
    },
    {
      "cell_type": "markdown",
      "source": [
        "##11.4. Random\n",
        "Este operador pode ser utilizado para obter números aleatórios de acordo com alguma condição pré-determinada."
      ],
      "metadata": {
        "id": "dxlhbIzItoJ_"
      }
    },
    {
      "cell_type": "code",
      "source": [
        "from random import randint, shuffle"
      ],
      "metadata": {
        "id": "Z8mUxOYHug5a"
      },
      "execution_count": null,
      "outputs": []
    },
    {
      "cell_type": "markdown",
      "source": [
        "A função randint() retorna um número aleatório dentro de um intervalo específico"
      ],
      "metadata": {
        "id": "8OjB1dHyus8m"
      }
    },
    {
      "cell_type": "code",
      "source": [
        "randint(0,10)"
      ],
      "metadata": {
        "colab": {
          "base_uri": "https://localhost:8080/"
        },
        "id": "iCd9RhKjuwiS",
        "outputId": "1d027c70-e848-400d-b03a-d4b697a15f57"
      },
      "execution_count": null,
      "outputs": [
        {
          "output_type": "execute_result",
          "data": {
            "text/plain": [
              "7"
            ]
          },
          "metadata": {},
          "execution_count": 2
        }
      ]
    },
    {
      "cell_type": "code",
      "source": [
        "# Vamos gerar uma lista com 10 números aleatórios que sejam entre 10 e 100\n",
        "\n",
        "list_rand = []\n",
        "\n",
        "for i in range(0,10):\n",
        "    list_rand.append(randint(10,100))"
      ],
      "metadata": {
        "id": "ZIvxUPfuu-sw"
      },
      "execution_count": null,
      "outputs": []
    },
    {
      "cell_type": "code",
      "source": [
        "list_rand"
      ],
      "metadata": {
        "colab": {
          "base_uri": "https://localhost:8080/"
        },
        "id": "G_zfox2Au-p9",
        "outputId": "d553afc1-27c3-4f07-a59e-6140b8aca834"
      },
      "execution_count": null,
      "outputs": [
        {
          "output_type": "execute_result",
          "data": {
            "text/plain": [
              "[84, 46, 54, 56, 34, 99, 70, 10, 27, 20]"
            ]
          },
          "metadata": {},
          "execution_count": 21
        }
      ]
    },
    {
      "cell_type": "code",
      "source": [
        "list_rand.sort()"
      ],
      "metadata": {
        "id": "QOB6JLUnu-nR"
      },
      "execution_count": null,
      "outputs": []
    },
    {
      "cell_type": "code",
      "source": [
        "list_rand"
      ],
      "metadata": {
        "colab": {
          "base_uri": "https://localhost:8080/"
        },
        "id": "fwTHLlpMu-ku",
        "outputId": "6284e2b4-6c19-4cf4-924c-a3891bf1c64c"
      },
      "execution_count": null,
      "outputs": [
        {
          "output_type": "execute_result",
          "data": {
            "text/plain": [
              "[10, 20, 27, 34, 46, 54, 56, 70, 84, 99]"
            ]
          },
          "metadata": {},
          "execution_count": 23
        }
      ]
    },
    {
      "cell_type": "code",
      "source": [
        "list_rand.reverse()"
      ],
      "metadata": {
        "id": "b_1V_ORqwZ1Y"
      },
      "execution_count": null,
      "outputs": []
    },
    {
      "cell_type": "code",
      "source": [
        "list_rand"
      ],
      "metadata": {
        "colab": {
          "base_uri": "https://localhost:8080/"
        },
        "id": "d4Q4O2xpwZy1",
        "outputId": "fe353857-68a1-4984-a934-f0f833dbbffd"
      },
      "execution_count": null,
      "outputs": [
        {
          "output_type": "execute_result",
          "data": {
            "text/plain": [
              "[99, 84, 70, 56, 54, 46, 34, 27, 20, 10]"
            ]
          },
          "metadata": {},
          "execution_count": 25
        }
      ]
    },
    {
      "cell_type": "code",
      "source": [
        "shuffle(list_rand)"
      ],
      "metadata": {
        "id": "UPUnyL_LwZv5"
      },
      "execution_count": null,
      "outputs": []
    },
    {
      "cell_type": "code",
      "source": [
        "list_rand"
      ],
      "metadata": {
        "colab": {
          "base_uri": "https://localhost:8080/"
        },
        "id": "8xM0X_yzwZsv",
        "outputId": "aff3b1aa-2e62-435a-82da-4950705a8a19"
      },
      "execution_count": null,
      "outputs": [
        {
          "output_type": "execute_result",
          "data": {
            "text/plain": [
              "[34, 56, 84, 54, 20, 27, 70, 46, 10, 99]"
            ]
          },
          "metadata": {},
          "execution_count": 27
        }
      ]
    },
    {
      "cell_type": "markdown",
      "source": [
        "##11.5. min e max\n",
        "Funções para retornar os valores mínimo e máximo de uma lista"
      ],
      "metadata": {
        "id": "d7xxhoc4x2W-"
      }
    },
    {
      "cell_type": "code",
      "source": [
        "min(list_rand)"
      ],
      "metadata": {
        "colab": {
          "base_uri": "https://localhost:8080/"
        },
        "id": "OoW93ZRLx7Bl",
        "outputId": "55b9e49e-4420-4d6e-ed03-0c9cf781b399"
      },
      "execution_count": null,
      "outputs": [
        {
          "output_type": "execute_result",
          "data": {
            "text/plain": [
              "10"
            ]
          },
          "metadata": {},
          "execution_count": 28
        }
      ]
    },
    {
      "cell_type": "code",
      "source": [
        "max(list_rand)"
      ],
      "metadata": {
        "colab": {
          "base_uri": "https://localhost:8080/"
        },
        "id": "i5qXZoFIx6_H",
        "outputId": "0846342e-109c-42fe-8511-6c724c1a2e2b"
      },
      "execution_count": null,
      "outputs": [
        {
          "output_type": "execute_result",
          "data": {
            "text/plain": [
              "99"
            ]
          },
          "metadata": {},
          "execution_count": 29
        }
      ]
    },
    {
      "cell_type": "markdown",
      "source": [
        "##11.6. input\n",
        "Função que permite que o usuário inpute algum valor de acordo com o que é pedido por um texto e armazene isso na\n",
        "memória de uma variável"
      ],
      "metadata": {
        "id": "5A6QnmgjyNU1"
      }
    },
    {
      "cell_type": "code",
      "source": [
        "acao = input('Por favor insira a ação que deseja comprar: ')"
      ],
      "metadata": {
        "colab": {
          "base_uri": "https://localhost:8080/"
        },
        "id": "ZTdtvTIsx68Q",
        "outputId": "a32a88c5-7a24-4268-d349-9fee0d852ced"
      },
      "execution_count": null,
      "outputs": [
        {
          "name": "stdout",
          "output_type": "stream",
          "text": [
            "Por favor insira a ação que deseja comprar: PETR4\n"
          ]
        }
      ]
    },
    {
      "cell_type": "code",
      "source": [
        "acao"
      ],
      "metadata": {
        "colab": {
          "base_uri": "https://localhost:8080/",
          "height": 35
        },
        "id": "yvvp0jbdx65X",
        "outputId": "43d6b439-004f-44f0-b230-b829dc9df8ab"
      },
      "execution_count": null,
      "outputs": [
        {
          "output_type": "execute_result",
          "data": {
            "text/plain": [
              "'PETR4'"
            ],
            "application/vnd.google.colaboratory.intrinsic+json": {
              "type": "string"
            }
          },
          "metadata": {},
          "execution_count": 34
        }
      ]
    },
    {
      "cell_type": "code",
      "source": [
        "print(f'O cliente deseja comprar o papel {acao} ')"
      ],
      "metadata": {
        "colab": {
          "base_uri": "https://localhost:8080/"
        },
        "id": "Jp4nqzUZx6rN",
        "outputId": "1b885675-b792-4437-f064-96ca48a92b6d"
      },
      "execution_count": null,
      "outputs": [
        {
          "output_type": "stream",
          "name": "stdout",
          "text": [
            "O cliente deseja comprar o papel PETR4 \n"
          ]
        }
      ]
    },
    {
      "cell_type": "markdown",
      "source": [
        "#12. List Comprehension (Compreensão de Lista)\n",
        "Forma de executar loops com uma estrutura de código mais resumida do que os \"for\" tradicionais"
      ],
      "metadata": {
        "id": "5KwxmBeyzLoH"
      }
    },
    {
      "cell_type": "code",
      "source": [
        "acao = 'MGLU3'"
      ],
      "metadata": {
        "id": "NgXyD_3pzOX8"
      },
      "execution_count": null,
      "outputs": []
    },
    {
      "cell_type": "markdown",
      "source": [
        "Imagine que precisamos realizar a tarefa de transformar cada caractere na string acima em um item separado dentro de uma\n",
        "nova lista.\n",
        "\n",
        "Como feríamos isso com nosso conhecimento em Python até agora?\n"
      ],
      "metadata": {
        "id": "0IH-po8118us"
      }
    },
    {
      "cell_type": "markdown",
      "source": [
        "**Exemplo 01**\n",
        "\n",
        "Na forma tradicional usando \"for\", faríamos assim:"
      ],
      "metadata": {
        "id": "fDVpo0ry2EIU"
      }
    },
    {
      "cell_type": "code",
      "source": [
        "lista_caracteres = []"
      ],
      "metadata": {
        "id": "juzVIbnkzOeX"
      },
      "execution_count": null,
      "outputs": []
    },
    {
      "cell_type": "code",
      "source": [
        "for caractere in acao:\n",
        "    lista_caracteres.append(caractere)"
      ],
      "metadata": {
        "id": "ANLa84pT0kCN"
      },
      "execution_count": null,
      "outputs": []
    },
    {
      "cell_type": "code",
      "source": [
        "lista_caracteres"
      ],
      "metadata": {
        "colab": {
          "base_uri": "https://localhost:8080/"
        },
        "id": "M3spvUQw0j_F",
        "outputId": "03002cba-921f-4542-eb34-29306218343a"
      },
      "execution_count": null,
      "outputs": [
        {
          "output_type": "execute_result",
          "data": {
            "text/plain": [
              "['M', 'G', 'L', 'U', '3']"
            ]
          },
          "metadata": {},
          "execution_count": 60
        }
      ]
    },
    {
      "cell_type": "code",
      "source": [
        "# Podemos usar o indexing para retornar algum caractere específico\n",
        "\n",
        "lista_caracteres[1]"
      ],
      "metadata": {
        "colab": {
          "base_uri": "https://localhost:8080/",
          "height": 35
        },
        "id": "-Qc-3fam0j7O",
        "outputId": "f38321e5-f5b0-42d6-e9db-fa4aed1a82d3"
      },
      "execution_count": null,
      "outputs": [
        {
          "output_type": "execute_result",
          "data": {
            "text/plain": [
              "'G'"
            ],
            "application/vnd.google.colaboratory.intrinsic+json": {
              "type": "string"
            }
          },
          "metadata": {},
          "execution_count": 62
        }
      ]
    },
    {
      "cell_type": "markdown",
      "source": [
        "**E como fazer isso utilizando a compreensão de lista?**"
      ],
      "metadata": {
        "id": "ffdDFVO52-7b"
      }
    },
    {
      "cell_type": "code",
      "source": [
        "# Perceba que o comando ficou bem mais simples\n",
        "\n",
        "\n",
        "[caractere for caractere in acao]"
      ],
      "metadata": {
        "colab": {
          "base_uri": "https://localhost:8080/"
        },
        "id": "sEhgcKdj2thB",
        "outputId": "9806c6ba-0494-41fc-9ae1-54813e6deee9"
      },
      "execution_count": null,
      "outputs": [
        {
          "output_type": "execute_result",
          "data": {
            "text/plain": [
              "['M', 'G', 'L', 'U', '3']"
            ]
          },
          "metadata": {},
          "execution_count": 63
        }
      ]
    },
    {
      "cell_type": "markdown",
      "source": [
        "O output da compreensão de lista é uma nova lista"
      ],
      "metadata": {
        "id": "ehOrlzuP7rRf"
      }
    },
    {
      "cell_type": "markdown",
      "source": [
        "**Exemplo 02**\n",
        "Imagine que você recebeu uma série de tickers que vieram incompletos. Antes de realizar sua rotina, precisa adicionar um\n",
        "número '3' aos nomes dos papéis. Como você faria?"
      ],
      "metadata": {
        "id": "e9BskkXD7sMZ"
      }
    },
    {
      "cell_type": "code",
      "source": [
        "ativos = ['MGLU', 'VALE', 'WEGE', 'LREN']"
      ],
      "metadata": {
        "id": "Ci7ZzGB-2tel"
      },
      "execution_count": null,
      "outputs": []
    },
    {
      "cell_type": "code",
      "source": [
        "# Criamos uma lista vazia que será populada com os novos nomes dos ativos\n",
        "lista_ativos = []"
      ],
      "metadata": {
        "id": "AvD_KeoF2tbu"
      },
      "execution_count": null,
      "outputs": []
    },
    {
      "cell_type": "code",
      "source": [
        "ativos"
      ],
      "metadata": {
        "colab": {
          "base_uri": "https://localhost:8080/"
        },
        "id": "qD7rOTk32tY7",
        "outputId": "b915f05c-f577-434a-e757-0dbf37ef1c8a"
      },
      "execution_count": null,
      "outputs": [
        {
          "output_type": "execute_result",
          "data": {
            "text/plain": [
              "['MGLU', 'VALE', 'WEGE', 'LREN']"
            ]
          },
          "metadata": {},
          "execution_count": 11
        }
      ]
    },
    {
      "cell_type": "code",
      "source": [
        "# Para cada ativo, vamos adicionar o caractere '3' no final\n",
        "for ativo in ativos:\n",
        "    lista_ativos.append(ativo + '3')"
      ],
      "metadata": {
        "id": "lsKJx5qA2tVz"
      },
      "execution_count": null,
      "outputs": []
    },
    {
      "cell_type": "code",
      "source": [
        "lista_ativos"
      ],
      "metadata": {
        "colab": {
          "base_uri": "https://localhost:8080/"
        },
        "id": "TP06gNTF2tSr",
        "outputId": "35ec7f54-a01f-4104-c852-3eebdbc53d27"
      },
      "execution_count": null,
      "outputs": [
        {
          "output_type": "execute_result",
          "data": {
            "text/plain": [
              "['MGLU3', 'VALE3', 'WEGE3', 'LREN3']"
            ]
          },
          "metadata": {},
          "execution_count": 21
        }
      ]
    },
    {
      "cell_type": "markdown",
      "source": [
        "Podemos realizar essa tarefa com uma compreensão de lista de uma forma mais rápida."
      ],
      "metadata": {
        "id": "NIXfqvPwA3fJ"
      }
    },
    {
      "cell_type": "code",
      "source": [
        "[ativo + '3' for ativo in ativos]"
      ],
      "metadata": {
        "colab": {
          "base_uri": "https://localhost:8080/"
        },
        "id": "46sVBH45Aq1Q",
        "outputId": "efacb62c-0c4f-44c4-c6b7-59453b7ffcb2"
      },
      "execution_count": null,
      "outputs": [
        {
          "output_type": "execute_result",
          "data": {
            "text/plain": [
              "['MGLU3', 'VALE3', 'WEGE3', 'LREN3']"
            ]
          },
          "metadata": {},
          "execution_count": 22
        }
      ]
    },
    {
      "cell_type": "markdown",
      "source": [
        "**Exemplo 03**\n",
        "Imagine que quiséssemos elevar todos os números de 0 a 10 ao quadrado."
      ],
      "metadata": {
        "id": "6ErVPUglBL2H"
      }
    },
    {
      "cell_type": "markdown",
      "source": [
        "Da forma tradicional, faríamos:"
      ],
      "metadata": {
        "id": "5AsOZg6ir2JZ"
      }
    },
    {
      "cell_type": "code",
      "source": [
        "range(0,11)"
      ],
      "metadata": {
        "colab": {
          "base_uri": "https://localhost:8080/"
        },
        "id": "aRr4DSiUBNWP",
        "outputId": "9d0ef222-e3ff-4a54-82ea-c1a8ee4e686d"
      },
      "execution_count": null,
      "outputs": [
        {
          "output_type": "execute_result",
          "data": {
            "text/plain": [
              "range(0, 11)"
            ]
          },
          "metadata": {},
          "execution_count": 45
        }
      ]
    },
    {
      "cell_type": "code",
      "source": [
        "# Resultado\n",
        "\n",
        "list_num = []"
      ],
      "metadata": {
        "id": "YocT3ljHBoqj"
      },
      "execution_count": null,
      "outputs": []
    },
    {
      "cell_type": "code",
      "source": [
        "for numero in range(0,11):\n",
        " list_num.append(numero**2)"
      ],
      "metadata": {
        "id": "Wdvie4oJBonx"
      },
      "execution_count": null,
      "outputs": []
    },
    {
      "cell_type": "code",
      "source": [
        "list_num"
      ],
      "metadata": {
        "colab": {
          "base_uri": "https://localhost:8080/"
        },
        "id": "ZEHHirU6Boky",
        "outputId": "d86b2002-6913-4bc1-8dde-a36b46ac8dcc"
      },
      "execution_count": null,
      "outputs": [
        {
          "output_type": "execute_result",
          "data": {
            "text/plain": [
              "[0, 1, 4, 9, 16, 25, 36, 49, 64, 81, 100]"
            ]
          },
          "metadata": {},
          "execution_count": 48
        }
      ]
    },
    {
      "cell_type": "markdown",
      "source": [
        "Com a compreensão de lista, podemos fazer"
      ],
      "metadata": {
        "id": "hH6OssD4r-_A"
      }
    },
    {
      "cell_type": "code",
      "source": [
        "[numero**2 for numero in range(0,11)]"
      ],
      "metadata": {
        "colab": {
          "base_uri": "https://localhost:8080/"
        },
        "id": "U1S9HQOLBoh5",
        "outputId": "dd9227b1-787a-415f-f1ea-37c5a1f2aaeb"
      },
      "execution_count": null,
      "outputs": [
        {
          "output_type": "execute_result",
          "data": {
            "text/plain": [
              "[0, 1, 4, 9, 16, 25, 36, 49, 64, 81, 100]"
            ]
          },
          "metadata": {},
          "execution_count": 3
        }
      ]
    },
    {
      "cell_type": "markdown",
      "source": [
        "#13. Funções e métodos\n",
        "Uma função é um comando capaz de realizar uma tarefa, de acordo com critérios que determinamos.\n",
        "A função só é executada de fato quando é chamada, e executa atividades que foram especificadas pelo usuário.\n",
        "\n",
        "Por exemplo: abaixo estamos criando uma função chamada \"tempo_hoje\", que é executada quando chamada. Seu propósito\n",
        "é imprimir a mensagem \"Hoje faz sol\" quando chamada."
      ],
      "metadata": {
        "id": "KytZGMgFsCtH"
      }
    },
    {
      "cell_type": "code",
      "source": [
        "def tempo_hoje():\n",
        "    print('Hoje faz sol')\n",
        "   "
      ],
      "metadata": {
        "id": "lGBjSCmoBodv"
      },
      "execution_count": null,
      "outputs": []
    },
    {
      "cell_type": "code",
      "source": [
        "tempo_hoje()"
      ],
      "metadata": {
        "colab": {
          "base_uri": "https://localhost:8080/"
        },
        "id": "G-EIpEk4vQYT",
        "outputId": "935fdc2f-a5f6-40ca-9a67-b91ec1c6f391"
      },
      "execution_count": null,
      "outputs": [
        {
          "output_type": "stream",
          "name": "stdout",
          "text": [
            "Hoje faz sol\n"
          ]
        }
      ]
    },
    {
      "cell_type": "markdown",
      "source": [
        "Vamos criar agora uma nova função que vai retornar a soma de dois números, sendo estes determinados pelo usuário."
      ],
      "metadata": {
        "id": "_8noq_myv9_m"
      }
    },
    {
      "cell_type": "code",
      "source": [
        "def soma_numeros (num1, num2):\n",
        "    soma = num1 + num2\n",
        "    return soma"
      ],
      "metadata": {
        "id": "IJyUlDqXvQWC"
      },
      "execution_count": null,
      "outputs": []
    },
    {
      "cell_type": "markdown",
      "source": [
        "Vamos passar nessa função os números"
      ],
      "metadata": {
        "id": "XRJIP33Sx7gW"
      }
    },
    {
      "cell_type": "code",
      "source": [
        "soma_numeros(10,15)"
      ],
      "metadata": {
        "colab": {
          "base_uri": "https://localhost:8080/"
        },
        "id": "H5JOM88nvQTG",
        "outputId": "f6a91b0a-6807-40ee-f82a-b41f91bea2d7"
      },
      "execution_count": null,
      "outputs": [
        {
          "output_type": "execute_result",
          "data": {
            "text/plain": [
              "25"
            ]
          },
          "metadata": {},
          "execution_count": 29
        }
      ]
    },
    {
      "cell_type": "code",
      "source": [
        "novo_objeto = soma_numeros(1000, 3050)"
      ],
      "metadata": {
        "id": "EGB3cHoXvQQX"
      },
      "execution_count": null,
      "outputs": []
    },
    {
      "cell_type": "code",
      "source": [
        "novo_objeto"
      ],
      "metadata": {
        "colab": {
          "base_uri": "https://localhost:8080/"
        },
        "id": "6LDXthqWx0Aw",
        "outputId": "eb098750-fcf8-4620-f5ff-82f06867006c"
      },
      "execution_count": null,
      "outputs": [
        {
          "output_type": "execute_result",
          "data": {
            "text/plain": [
              "4050"
            ]
          },
          "metadata": {},
          "execution_count": 31
        }
      ]
    },
    {
      "cell_type": "markdown",
      "source": [
        "Vamos criar agora uma nova função chamada \"preco\" que basicamente retorna a cotação de um papel, de acordo com o que\n",
        "for especificado pelo usuário."
      ],
      "metadata": {
        "id": "lL9hl_ttx_T4"
      }
    },
    {
      "cell_type": "code",
      "source": [
        "def preco(acao):\n",
        "    if (acao == 'PETR4'):\n",
        "        print('O preço agora é R$ 30,89')\n",
        "    elif (acao == 'VALE3'):\n",
        "        print('O preço agora é R$ 112')\n",
        "    elif (acao == 'WEGE3'):\n",
        "        print('O preço agora é R$ 32')\n",
        "    elif (acao == 'MGLU3'):\n",
        "        print('O preço agora é R$ 6,79')\n",
        "    else:\n",
        "        print('Papel desconhecido')"
      ],
      "metadata": {
        "id": "mpFGty28xz-t"
      },
      "execution_count": null,
      "outputs": []
    },
    {
      "cell_type": "code",
      "source": [
        "preco('FLY3')"
      ],
      "metadata": {
        "colab": {
          "base_uri": "https://localhost:8080/"
        },
        "id": "y_QhqQ5lxz8V",
        "outputId": "c6b24133-f84b-4038-f35e-73cf818be59a"
      },
      "execution_count": null,
      "outputs": [
        {
          "output_type": "stream",
          "name": "stdout",
          "text": [
            "Papel desconhecido\n"
          ]
        }
      ]
    },
    {
      "cell_type": "code",
      "source": [
        "preco('MGLU3')"
      ],
      "metadata": {
        "colab": {
          "base_uri": "https://localhost:8080/"
        },
        "id": "92YrBTkrxz5W",
        "outputId": "2da47581-978c-4408-cabc-40136953dd4b"
      },
      "execution_count": null,
      "outputs": [
        {
          "output_type": "stream",
          "name": "stdout",
          "text": [
            "O preço agora é R$ 6,79\n"
          ]
        }
      ]
    },
    {
      "cell_type": "markdown",
      "source": [
        "**Criando Docstring da função**\n",
        "\n",
        "O que é?\n",
        "\n",
        "\"Docstring\" é a documentação da função, ou seja, a mensagem que aparece quando o usuário consulta a ajuda da função."
      ],
      "metadata": {
        "id": "Oo5mtW-D0dq0"
      }
    },
    {
      "cell_type": "code",
      "source": [
        "def preco(acao):\n",
        "\n",
        "    ''' ESSA FUNÇÃO DEVE SER UTILIZADA PARA RETORNAR A COTAÇÃO EM TEMPO REAL DE UM PAPEL'''\n",
        "\n",
        "\n",
        "    if (acao == 'PETR4'):\n",
        "        print('O preço agora é R$ 30,89')\n",
        "    elif (acao == 'VALE3'):\n",
        "        print('O preço agora é R$ 112')\n",
        "    elif (acao == 'WEGE3'):\n",
        "        print('O preço agora é R$ 32')\n",
        "    elif (acao == 'MGLU3'):\n",
        "        print('O preço agora é R$ 6,79')\n",
        "    else:\n",
        "        print('Papel desconhecido')"
      ],
      "metadata": {
        "id": "44UxrRby03FT"
      },
      "execution_count": null,
      "outputs": []
    },
    {
      "cell_type": "code",
      "source": [
        "preco()"
      ],
      "metadata": {
        "id": "hWN1_2dv1p5l"
      },
      "execution_count": null,
      "outputs": []
    },
    {
      "cell_type": "markdown",
      "source": [
        "###Métodos"
      ],
      "metadata": {
        "id": "patL3cl419cL"
      }
    },
    {
      "cell_type": "markdown",
      "source": [
        "Métodos são funções aplicáveis apenas a determinados tipos de objetos. Todos os métodos são funções, mas nem todas as\n",
        "funções são métodos. \n",
        "\n",
        "Os métodos são executados ao fim dos objetos e separados com um ponto."
      ],
      "metadata": {
        "id": "QObydG0x2FeD"
      }
    },
    {
      "cell_type": "code",
      "source": [
        "numeros = [1, 2, 4, 6, 10]"
      ],
      "metadata": {
        "id": "KP8S4NSL1p2Q"
      },
      "execution_count": null,
      "outputs": []
    },
    {
      "cell_type": "markdown",
      "source": [
        "Perceba que a função append() abaixo é um método."
      ],
      "metadata": {
        "id": "xilN6umJ3GPk"
      }
    },
    {
      "cell_type": "code",
      "source": [
        "numeros.append(5)"
      ],
      "metadata": {
        "id": "gdKvo18b1pzt"
      },
      "execution_count": null,
      "outputs": []
    },
    {
      "cell_type": "code",
      "source": [
        "numeros"
      ],
      "metadata": {
        "colab": {
          "base_uri": "https://localhost:8080/"
        },
        "id": "YF15uqQD1pxS",
        "outputId": "0f166826-f7c8-45dc-db8c-12693f317910"
      },
      "execution_count": null,
      "outputs": [
        {
          "output_type": "execute_result",
          "data": {
            "text/plain": [
              "[1, 2, 4, 6, 10, 5]"
            ]
          },
          "metadata": {},
          "execution_count": 40
        }
      ]
    },
    {
      "cell_type": "markdown",
      "source": [
        "#14. Funções embutidas"
      ],
      "metadata": {
        "id": "6jXUIaRb3M2D"
      }
    },
    {
      "cell_type": "markdown",
      "source": [
        "Também conhecidas como \"built-in functions\" são funções nativas do Python que não necessitam de nenhuma biblioteca\n",
        "para sua execução."
      ],
      "metadata": {
        "id": "g9gGMtEW3OvX"
      }
    },
    {
      "cell_type": "markdown",
      "source": [
        "##14.1. Map"
      ],
      "metadata": {
        "id": "DDid3yEB3UAk"
      }
    },
    {
      "cell_type": "markdown",
      "source": [
        "A funçã map() aplica um comando (função) a vários elementos de uma lista, de uma vez.\n",
        "\n",
        "Confira alguns exemplos:"
      ],
      "metadata": {
        "id": "z4SBAfXv3Ykc"
      }
    },
    {
      "cell_type": "code",
      "source": [
        "def potencia(num, pot = 2):\n",
        "    return num**pot"
      ],
      "metadata": {
        "id": "kRo8mDWq3klB"
      },
      "execution_count": null,
      "outputs": []
    },
    {
      "cell_type": "code",
      "source": [
        "potencia(3,4)"
      ],
      "metadata": {
        "colab": {
          "base_uri": "https://localhost:8080/"
        },
        "id": "jeNWxmgv3khl",
        "outputId": "1108151f-8594-4fcd-fab2-3111b507f9e9"
      },
      "execution_count": null,
      "outputs": [
        {
          "output_type": "execute_result",
          "data": {
            "text/plain": [
              "81"
            ]
          },
          "metadata": {},
          "execution_count": 55
        }
      ]
    },
    {
      "cell_type": "code",
      "source": [
        "lista_numeros = [1, 2, 3, 4, 5]"
      ],
      "metadata": {
        "id": "ZZP7oiJ63ket"
      },
      "execution_count": null,
      "outputs": []
    },
    {
      "cell_type": "code",
      "source": [
        "map(potencia, lista_numeros)"
      ],
      "metadata": {
        "colab": {
          "base_uri": "https://localhost:8080/"
        },
        "id": "wRyDnd0s56Xd",
        "outputId": "48bff5e6-8041-4c99-e556-ae1cc31367bb"
      },
      "execution_count": null,
      "outputs": [
        {
          "output_type": "execute_result",
          "data": {
            "text/plain": [
              "<map at 0x7f60c18913d0>"
            ]
          },
          "metadata": {},
          "execution_count": 57
        }
      ]
    },
    {
      "cell_type": "code",
      "source": [
        "list(map(potencia, lista_numeros))"
      ],
      "metadata": {
        "colab": {
          "base_uri": "https://localhost:8080/"
        },
        "id": "wJXxSBDk56UR",
        "outputId": "8b248f80-ee05-4fe8-f6cf-2421d876b7dd"
      },
      "execution_count": null,
      "outputs": [
        {
          "output_type": "execute_result",
          "data": {
            "text/plain": [
              "[1, 4, 9, 16, 25]"
            ]
          },
          "metadata": {},
          "execution_count": 58
        }
      ]
    },
    {
      "cell_type": "code",
      "source": [
        ""
      ],
      "metadata": {
        "id": "OCgQqjXo56RJ"
      },
      "execution_count": null,
      "outputs": []
    },
    {
      "cell_type": "markdown",
      "source": [
        "##14.2. Filter"
      ],
      "metadata": {
        "id": "io-J9yLo3iQ1"
      }
    },
    {
      "cell_type": "markdown",
      "source": [
        "De forma análoga, a função \"filter\" aplica um filtro a vários elementos de uma lista de uma só vez."
      ],
      "metadata": {
        "id": "eL2V7Djg6U1i"
      }
    },
    {
      "cell_type": "code",
      "source": [
        "# Vamos criar uma função que retorna uma condição lógica, dizendo se um número é par (True) ou não (False)\n",
        "\n",
        "def checa_par(num):\n",
        "    return num%2 == 0\n",
        "\n",
        "\n"
      ],
      "metadata": {
        "id": "vhHwATkO1puT"
      },
      "execution_count": null,
      "outputs": []
    },
    {
      "cell_type": "code",
      "source": [
        "checa_par(10)"
      ],
      "metadata": {
        "colab": {
          "base_uri": "https://localhost:8080/"
        },
        "id": "XttI0KQC6vb6",
        "outputId": "a0fc58c8-ed67-41f3-aec0-ec31f1b50425"
      },
      "execution_count": null,
      "outputs": [
        {
          "output_type": "execute_result",
          "data": {
            "text/plain": [
              "True"
            ]
          },
          "metadata": {},
          "execution_count": 71
        }
      ]
    },
    {
      "cell_type": "code",
      "source": [
        "checa_par(9)"
      ],
      "metadata": {
        "colab": {
          "base_uri": "https://localhost:8080/"
        },
        "id": "8uq8e67f6vZF",
        "outputId": "a49c8323-29cc-4912-9362-faadb3499282"
      },
      "execution_count": null,
      "outputs": [
        {
          "output_type": "execute_result",
          "data": {
            "text/plain": [
              "False"
            ]
          },
          "metadata": {},
          "execution_count": 72
        }
      ]
    },
    {
      "cell_type": "markdown",
      "source": [
        "Se aplicarmos essa função à lista criada no item anterior, ela vai trazer apenas os números que são pares."
      ],
      "metadata": {
        "id": "Zs4Xrkgn7nKp"
      }
    },
    {
      "cell_type": "code",
      "source": [
        "filter(checa_par, lista_numeros)"
      ],
      "metadata": {
        "colab": {
          "base_uri": "https://localhost:8080/"
        },
        "id": "wN9s7fth7oNn",
        "outputId": "623536da-7857-4d67-90e0-11beefe6294b"
      },
      "execution_count": null,
      "outputs": [
        {
          "output_type": "execute_result",
          "data": {
            "text/plain": [
              "<filter at 0x7f60c1846690>"
            ]
          },
          "metadata": {},
          "execution_count": 73
        }
      ]
    },
    {
      "cell_type": "code",
      "source": [
        "list(filter(checa_par, lista_numeros))"
      ],
      "metadata": {
        "colab": {
          "base_uri": "https://localhost:8080/"
        },
        "id": "dr3IDISJ7oT5",
        "outputId": "be34e70c-ef4c-4a42-fcc3-057dc3650352"
      },
      "execution_count": null,
      "outputs": [
        {
          "output_type": "execute_result",
          "data": {
            "text/plain": [
              "[2, 4]"
            ]
          },
          "metadata": {},
          "execution_count": 74
        }
      ]
    },
    {
      "cell_type": "markdown",
      "source": [
        "#15. Funções anônimas: lambda"
      ],
      "metadata": {
        "id": "BBWLzcCg8Asb"
      }
    },
    {
      "cell_type": "markdown",
      "source": [
        "São funções que não precisam de definição forma (explícita) podendo ser chamadas em apenas uma linha."
      ],
      "metadata": {
        "id": "C4dnjy058Ed5"
      }
    },
    {
      "cell_type": "markdown",
      "source": [
        "Suponha que queremos criar uma função que eleva os números ao quadrado:"
      ],
      "metadata": {
        "id": "E0RhTZ3v8ILI"
      }
    },
    {
      "cell_type": "code",
      "source": [
        "def quadrado(num):\n",
        "    return num**2"
      ],
      "metadata": {
        "id": "68hbhx0Z8Cif"
      },
      "execution_count": null,
      "outputs": []
    },
    {
      "cell_type": "code",
      "source": [
        "quadrado(3)"
      ],
      "metadata": {
        "colab": {
          "base_uri": "https://localhost:8080/"
        },
        "id": "QWKUKoLp8Wvr",
        "outputId": "835109b2-7b81-4b86-adca-36c771b0450a"
      },
      "execution_count": null,
      "outputs": [
        {
          "output_type": "execute_result",
          "data": {
            "text/plain": [
              "9"
            ]
          },
          "metadata": {},
          "execution_count": 76
        }
      ]
    },
    {
      "cell_type": "markdown",
      "source": [
        "Com o comando lambda, não precisamos dar um nome a essa função nem defini-la, basta especificar qual a tarefa que\n",
        "precisamos executar"
      ],
      "metadata": {
        "id": "hbk7xJRP9Azg"
      }
    },
    {
      "cell_type": "code",
      "source": [
        "lambda num: num**2"
      ],
      "metadata": {
        "colab": {
          "base_uri": "https://localhost:8080/"
        },
        "id": "tdbQNcEY8WtC",
        "outputId": "48e5150a-e5f2-4239-97a3-9414ac395429"
      },
      "execution_count": null,
      "outputs": [
        {
          "output_type": "execute_result",
          "data": {
            "text/plain": [
              "<function __main__.<lambda>>"
            ]
          },
          "metadata": {},
          "execution_count": 77
        }
      ]
    },
    {
      "cell_type": "markdown",
      "source": [
        "Caso seja do nosso interesse, podemos criar uma variável que recebe a operação realizada pela função lambda."
      ],
      "metadata": {
        "id": "OqUpBLiJ9G4w"
      }
    },
    {
      "cell_type": "code",
      "source": [
        "quadrado_lambda = lambda num: num**2"
      ],
      "metadata": {
        "id": "8HLaAcgU8WqF"
      },
      "execution_count": null,
      "outputs": []
    },
    {
      "cell_type": "code",
      "source": [
        "quadrado_lambda(2)"
      ],
      "metadata": {
        "colab": {
          "base_uri": "https://localhost:8080/"
        },
        "id": "-SdMx8Ss8WnB",
        "outputId": "fba3332b-1b6c-4e00-fe78-026a630a16e3"
      },
      "execution_count": null,
      "outputs": [
        {
          "output_type": "execute_result",
          "data": {
            "text/plain": [
              "4"
            ]
          },
          "metadata": {},
          "execution_count": 81
        }
      ]
    },
    {
      "cell_type": "code",
      "source": [
        "list(map(lambda num:num**2, lista_numeros))"
      ],
      "metadata": {
        "colab": {
          "base_uri": "https://localhost:8080/"
        },
        "id": "_8A9Eb_i9Snl",
        "outputId": "bddeccfa-4285-4782-f64f-cc2ed5d26cdc"
      },
      "execution_count": null,
      "outputs": [
        {
          "output_type": "execute_result",
          "data": {
            "text/plain": [
              "[1, 4, 9, 16, 25]"
            ]
          },
          "metadata": {},
          "execution_count": 82
        }
      ]
    },
    {
      "cell_type": "code",
      "source": [
        "list(filter(lambda num: num%2 == 0, lista_numeros))"
      ],
      "metadata": {
        "colab": {
          "base_uri": "https://localhost:8080/"
        },
        "id": "iGjMFUaB9Slw",
        "outputId": "5cfb136b-1d81-4db5-ef18-eb2452a240b6"
      },
      "execution_count": null,
      "outputs": [
        {
          "output_type": "execute_result",
          "data": {
            "text/plain": [
              "[2, 4]"
            ]
          },
          "metadata": {},
          "execution_count": 83
        }
      ]
    },
    {
      "cell_type": "markdown",
      "source": [
        "#16. Escopo das variáveis"
      ],
      "metadata": {
        "id": "3aomr89h-EyZ"
      }
    },
    {
      "cell_type": "markdown",
      "source": [
        "Podemos entender o escopo como a \"área de atuação\" de uma variável."
      ],
      "metadata": {
        "id": "taua3vkQ-GrQ"
      }
    },
    {
      "cell_type": "code",
      "source": [
        "# escopo global\n",
        "\n",
        "x = 25"
      ],
      "metadata": {
        "id": "BKfu0tZN9Sh4"
      },
      "execution_count": null,
      "outputs": []
    },
    {
      "cell_type": "code",
      "source": [
        "def printer():\n",
        "    x = 50\n",
        "    return x"
      ],
      "metadata": {
        "id": "kWHtTiL89SfQ"
      },
      "execution_count": null,
      "outputs": []
    },
    {
      "cell_type": "code",
      "source": [
        "x"
      ],
      "metadata": {
        "colab": {
          "base_uri": "https://localhost:8080/"
        },
        "id": "UNwMUmZN-lNw",
        "outputId": "af9eb842-741e-40d4-f88b-192e1e7a28b9"
      },
      "execution_count": null,
      "outputs": [
        {
          "output_type": "execute_result",
          "data": {
            "text/plain": [
              "25"
            ]
          },
          "metadata": {},
          "execution_count": 88
        }
      ]
    },
    {
      "cell_type": "code",
      "source": [
        "printer()"
      ],
      "metadata": {
        "colab": {
          "base_uri": "https://localhost:8080/"
        },
        "id": "wgMDK1CY-_eg",
        "outputId": "ce43c005-ba8c-4120-b1ff-82ad3bef6294"
      },
      "execution_count": null,
      "outputs": [
        {
          "output_type": "execute_result",
          "data": {
            "text/plain": [
              "50"
            ]
          },
          "metadata": {},
          "execution_count": 89
        }
      ]
    },
    {
      "cell_type": "markdown",
      "source": [
        "#17. Args"
      ],
      "metadata": {
        "id": "GQNs-4eoAOPr"
      }
    },
    {
      "cell_type": "markdown",
      "source": [
        "Imagine que criamos uma função nova e especificamos a quantidade de argumentos que precisam ser passados nessa\n",
        "função:"
      ],
      "metadata": {
        "id": "baEEW_qUAQr6"
      }
    },
    {
      "cell_type": "code",
      "source": [
        "# Neste caso estamos criando uma função que recebe três argumentos: a, b e c\n",
        "\n",
        "def soma_varios(a,b,c):\n",
        "    soma = sum((a,b,c))\n",
        "    return soma"
      ],
      "metadata": {
        "id": "jnuauEi3_ENC"
      },
      "execution_count": null,
      "outputs": []
    },
    {
      "cell_type": "code",
      "source": [
        "soma_varios(1,2,5)"
      ],
      "metadata": {
        "colab": {
          "base_uri": "https://localhost:8080/"
        },
        "id": "Hz9QzD43_EFv",
        "outputId": "99512711-0dce-4f65-95d8-064ffc848036"
      },
      "execution_count": null,
      "outputs": [
        {
          "output_type": "execute_result",
          "data": {
            "text/plain": [
              "8"
            ]
          },
          "metadata": {},
          "execution_count": 92
        }
      ]
    },
    {
      "cell_type": "code",
      "source": [
        "# com 5 argumentos\n",
        "\n",
        "def soma_varios(a,b,c,d,e):\n",
        "    soma = sum((a,b,c,d,e))\n",
        "    return soma"
      ],
      "metadata": {
        "id": "hNmE21pz_ECi"
      },
      "execution_count": null,
      "outputs": []
    },
    {
      "cell_type": "code",
      "source": [
        "soma_varios(1,2,3,4,5)"
      ],
      "metadata": {
        "colab": {
          "base_uri": "https://localhost:8080/"
        },
        "id": "t8A8JMF0_D-r",
        "outputId": "a404534e-0449-44bc-8683-3cb38d52fb3c"
      },
      "execution_count": null,
      "outputs": [
        {
          "output_type": "execute_result",
          "data": {
            "text/plain": [
              "15"
            ]
          },
          "metadata": {},
          "execution_count": 94
        }
      ]
    },
    {
      "cell_type": "code",
      "source": [
        "# E num caso de ter N argumentos (número indefinido), como seria?\n",
        "# Graças ao argumento *args, podemos dar a opção da função receber inúmeros argumentos\n",
        "\n",
        "def soma_varios(*args):\n",
        "    soma = sum(args)\n",
        "    return soma"
      ],
      "metadata": {
        "id": "fpmYPGHh_D7X"
      },
      "execution_count": null,
      "outputs": []
    },
    {
      "cell_type": "code",
      "source": [
        "soma_varios(1,2,3,4,5,6,7,8,9)"
      ],
      "metadata": {
        "colab": {
          "base_uri": "https://localhost:8080/"
        },
        "id": "eES_f-Ve_D4M",
        "outputId": "93809e03-b6d2-4bbc-fc92-f7adc1fc8b2c"
      },
      "execution_count": null,
      "outputs": [
        {
          "output_type": "execute_result",
          "data": {
            "text/plain": [
              "45"
            ]
          },
          "metadata": {},
          "execution_count": 98
        }
      ]
    },
    {
      "cell_type": "markdown",
      "source": [
        "#18. Kwargs"
      ],
      "metadata": {
        "id": "ffCJFqfrFnH_"
      }
    },
    {
      "cell_type": "markdown",
      "source": [
        "De forma análoga ao *args, o **kwargs torna a função capaz de receber argumentos que tem um nome"
      ],
      "metadata": {
        "id": "RbzoeYNvFpnX"
      }
    },
    {
      "cell_type": "code",
      "source": [
        "def compra_de_acoes(**kwargs):\n",
        "    if 'acao' in kwargs:\n",
        "        print('A ação comprada foi ', kwargs['acao'])\n",
        "    else:\n",
        "        print('O cliente não investe em ações')"
      ],
      "metadata": {
        "id": "7vIzIgMoFs73"
      },
      "execution_count": null,
      "outputs": []
    },
    {
      "cell_type": "code",
      "source": [
        "compra_de_acoes(acao = 'PETR4')"
      ],
      "metadata": {
        "colab": {
          "base_uri": "https://localhost:8080/"
        },
        "id": "CYSoZzuyFt9g",
        "outputId": "040d08e5-37bd-4890-ba65-89c93bb14a62"
      },
      "execution_count": null,
      "outputs": [
        {
          "output_type": "stream",
          "name": "stdout",
          "text": [
            "A ação comprada foi  PETR4\n"
          ]
        }
      ]
    },
    {
      "cell_type": "code",
      "source": [
        "compra_de_acoes()"
      ],
      "metadata": {
        "colab": {
          "base_uri": "https://localhost:8080/"
        },
        "id": "5iTqSbzXFt3z",
        "outputId": "dca01c13-de82-4ca5-a291-1d702e8273a6"
      },
      "execution_count": null,
      "outputs": [
        {
          "output_type": "stream",
          "name": "stdout",
          "text": [
            "O cliente não investe em ações\n"
          ]
        }
      ]
    },
    {
      "cell_type": "code",
      "source": [
        "# No caso abaixo, temos dois argumentos do tipo kwargs que pedem um nome: 'acao' e 'lote'\n",
        "\n",
        "\n",
        "def montagem_posicao(*args,**kwargs):\n",
        "    if 'acao' and 'lote' in kwargs:\n",
        "      print('O cliente montou uma posição de ', ' e '.join(kwargs['acao']))\n",
        "      print('Ele comprou ', ' e '.join(args), 'papéis, respectivamente')\n",
        "      print('Todas elas foram compradas no lote', kwargs['lote'])"
      ],
      "metadata": {
        "id": "lsZyUj5TFtwv"
      },
      "execution_count": null,
      "outputs": []
    },
    {
      "cell_type": "code",
      "source": [
        "montagem_posicao('100', '200', '20', acao = ('PETR4', 'VALE3', 'MGLU3'), lote = 'inteiro')"
      ],
      "metadata": {
        "colab": {
          "base_uri": "https://localhost:8080/"
        },
        "id": "D7LTDPZVKdxr",
        "outputId": "92763b5a-d66a-49f3-a9a7-69c01a043f21"
      },
      "execution_count": null,
      "outputs": [
        {
          "output_type": "stream",
          "name": "stdout",
          "text": [
            "O cliente montou uma posição de  PETR4 e VALE3 e MGLU3\n",
            "Ele comprou  100 e 200 e 20 papéis, respectivamente\n",
            "Todas elas foram compradas no lote inteiro\n"
          ]
        }
      ]
    },
    {
      "cell_type": "markdown",
      "source": [
        "#19. Trabalhando com bibliotecas"
      ],
      "metadata": {
        "id": "O81VbrfNY-do"
      }
    },
    {
      "cell_type": "markdown",
      "source": [
        "1. O que são bibliotecas\n",
        "2. Importância de se utilizar bibliotecas"
      ],
      "metadata": {
        "id": "3eIgeWBqZFRy"
      }
    },
    {
      "cell_type": "markdown",
      "source": [
        "##19.1. Importando as bibliotecas"
      ],
      "metadata": {
        "id": "x44TIY_AZK4O"
      }
    },
    {
      "cell_type": "markdown",
      "source": [
        "Nessa seção, vamos estudar as duas bibliotecas mais importantes do Python: pandas e numpy"
      ],
      "metadata": {
        "id": "V8KfAxInZNHn"
      }
    },
    {
      "cell_type": "code",
      "source": [
        "import numpy as np\n",
        "import pandas as pd"
      ],
      "metadata": {
        "id": "_bI-crRAKdpc"
      },
      "execution_count": null,
      "outputs": []
    },
    {
      "cell_type": "markdown",
      "source": [
        "##19.2. Numpy"
      ],
      "metadata": {
        "id": "uXZuF81lZ2RN"
      }
    },
    {
      "cell_type": "markdown",
      "source": [
        "O principal tipo de objeto que criamos com a numpy é o 'array'.\n",
        "\n",
        "Para criar arrays, temos diversas funções diferentes, cada um servindo a um propósito específico.\n",
        "\n",
        "Por exemplo, podemos criar arrays que contém apenas zeros"
      ],
      "metadata": {
        "id": "FvIEWIpMZ8E9"
      }
    },
    {
      "cell_type": "code",
      "source": [
        "a = np.zeros(3)"
      ],
      "metadata": {
        "id": "eM58UdghZy7G"
      },
      "execution_count": null,
      "outputs": []
    },
    {
      "cell_type": "code",
      "source": [
        "a"
      ],
      "metadata": {
        "colab": {
          "base_uri": "https://localhost:8080/"
        },
        "id": "Rv25wXdtZyxW",
        "outputId": "5284cbfa-2067-4823-e05e-d6d6b86443b3"
      },
      "execution_count": null,
      "outputs": [
        {
          "output_type": "execute_result",
          "data": {
            "text/plain": [
              "array([0., 0., 0.])"
            ]
          },
          "metadata": {},
          "execution_count": 123
        }
      ]
    },
    {
      "cell_type": "code",
      "source": [
        "# O atributo .shape retorna as dimensões do array\n",
        "\n",
        "a.shape"
      ],
      "metadata": {
        "colab": {
          "base_uri": "https://localhost:8080/"
        },
        "id": "mgxu-w8jaYW2",
        "outputId": "390ff677-d9dc-4000-dfa6-6ca877700388"
      },
      "execution_count": null,
      "outputs": [
        {
          "output_type": "execute_result",
          "data": {
            "text/plain": [
              "(3, 1)"
            ]
          },
          "metadata": {},
          "execution_count": 128
        }
      ]
    },
    {
      "cell_type": "code",
      "source": [
        "# As dimensões são manipuláveis. Logo, podemos especificar o número de linhas e colunas:\n",
        "\n",
        "a.shape = (3,1)"
      ],
      "metadata": {
        "id": "hnLZDIK1aYMB"
      },
      "execution_count": null,
      "outputs": []
    },
    {
      "cell_type": "code",
      "source": [
        "a"
      ],
      "metadata": {
        "colab": {
          "base_uri": "https://localhost:8080/"
        },
        "id": "a-37Wb7iaYIO",
        "outputId": "f35ec21b-bad5-4830-9305-8d123085762c"
      },
      "execution_count": null,
      "outputs": [
        {
          "output_type": "execute_result",
          "data": {
            "text/plain": [
              "array([[0.],\n",
              "       [0.],\n",
              "       [0.]])"
            ]
          },
          "metadata": {},
          "execution_count": 131
        }
      ]
    },
    {
      "cell_type": "code",
      "source": [
        "# Array só com 1\n",
        "\n",
        "b = np.ones(10)"
      ],
      "metadata": {
        "id": "eYwCufKJaYEW"
      },
      "execution_count": null,
      "outputs": []
    },
    {
      "cell_type": "code",
      "source": [
        "\n",
        "b"
      ],
      "metadata": {
        "colab": {
          "base_uri": "https://localhost:8080/"
        },
        "id": "xaBUDCmKbN7h",
        "outputId": "23a85f92-023d-4c2f-cf79-59efcbff229b"
      },
      "execution_count": null,
      "outputs": [
        {
          "output_type": "execute_result",
          "data": {
            "text/plain": [
              "array([1., 1., 1., 1., 1., 1., 1., 1., 1., 1.])"
            ]
          },
          "metadata": {},
          "execution_count": 133
        }
      ]
    },
    {
      "cell_type": "code",
      "source": [
        "# Array vazio\n",
        "\n",
        "c = np.empty(4)"
      ],
      "metadata": {
        "id": "UKBnykJ5bN3X"
      },
      "execution_count": null,
      "outputs": []
    },
    {
      "cell_type": "code",
      "source": [
        "# veja que mesmo sendo próximo a 'vazio', os elementos da lista são não-nulos\n",
        "\n",
        "c"
      ],
      "metadata": {
        "colab": {
          "base_uri": "https://localhost:8080/"
        },
        "id": "Eq3iNFXUbNyH",
        "outputId": "2f61e097-45de-4c42-a4f0-91fc35a26113"
      },
      "execution_count": null,
      "outputs": [
        {
          "output_type": "execute_result",
          "data": {
            "text/plain": [
              "array([5.e-324, 5.e-324, 5.e-324, 0.e+000])"
            ]
          },
          "metadata": {},
          "execution_count": 135
        }
      ]
    },
    {
      "cell_type": "code",
      "source": [
        "# Podemos criar um array determinando início, fim e número de componentes\n",
        "\n",
        "d = np.linspace(3, 15, 10)"
      ],
      "metadata": {
        "id": "Bf3JFQlKbNvG"
      },
      "execution_count": null,
      "outputs": []
    },
    {
      "cell_type": "code",
      "source": [
        "d"
      ],
      "metadata": {
        "colab": {
          "base_uri": "https://localhost:8080/"
        },
        "id": "GK05S6PAclYh",
        "outputId": "b44f4f9b-29b0-4ad5-a870-4172eafd8a62"
      },
      "execution_count": null,
      "outputs": [
        {
          "output_type": "execute_result",
          "data": {
            "text/plain": [
              "array([ 3.        ,  4.33333333,  5.66666667,  7.        ,  8.33333333,\n",
              "        9.66666667, 11.        , 12.33333333, 13.66666667, 15.        ])"
            ]
          },
          "metadata": {},
          "execution_count": 138
        }
      ]
    },
    {
      "cell_type": "code",
      "source": [
        "# Podemos especificar manualmente os elementos do array\n",
        "\n",
        "e = np.array(10)"
      ],
      "metadata": {
        "id": "QqlnYMidclVd"
      },
      "execution_count": null,
      "outputs": []
    },
    {
      "cell_type": "code",
      "source": [
        "e"
      ],
      "metadata": {
        "colab": {
          "base_uri": "https://localhost:8080/"
        },
        "id": "7ZzIXxHAcpB8",
        "outputId": "2c4b0a83-ce08-4036-d1f5-73ea2370bee4"
      },
      "execution_count": null,
      "outputs": [
        {
          "output_type": "execute_result",
          "data": {
            "text/plain": [
              "array(10)"
            ]
          },
          "metadata": {},
          "execution_count": 140
        }
      ]
    },
    {
      "cell_type": "code",
      "source": [
        "f = np.array([1,2,3,4,5])"
      ],
      "metadata": {
        "id": "PgbKhulEco6F"
      },
      "execution_count": null,
      "outputs": []
    },
    {
      "cell_type": "code",
      "source": [
        "f\n"
      ],
      "metadata": {
        "id": "_NWAHLQydHG0",
        "outputId": "9c1d7a48-c303-427c-cd8a-640ce2450008",
        "colab": {
          "base_uri": "https://localhost:8080/"
        }
      },
      "execution_count": null,
      "outputs": [
        {
          "output_type": "execute_result",
          "data": {
            "text/plain": [
              "array([1, 2, 3, 4, 5])"
            ]
          },
          "metadata": {},
          "execution_count": 142
        }
      ]
    },
    {
      "cell_type": "code",
      "source": [
        "# Uma lista pode virar um array!\n",
        "\n",
        "lista = [4,5,6,7,8,9]"
      ],
      "metadata": {
        "id": "4sxnb-Fc4ztH"
      },
      "execution_count": null,
      "outputs": []
    },
    {
      "cell_type": "code",
      "source": [
        "g = np.array(lista)"
      ],
      "metadata": {
        "id": "DiQhp9sP4zqO"
      },
      "execution_count": null,
      "outputs": []
    },
    {
      "cell_type": "code",
      "source": [
        "g"
      ],
      "metadata": {
        "colab": {
          "base_uri": "https://localhost:8080/"
        },
        "id": "LVkVLpKe4znd",
        "outputId": "150ca8c2-ae9d-44a7-c379-7a07c143698e"
      },
      "execution_count": null,
      "outputs": [
        {
          "output_type": "execute_result",
          "data": {
            "text/plain": [
              "array([4, 5, 6, 7, 8, 9])"
            ]
          },
          "metadata": {},
          "execution_count": 6
        }
      ]
    },
    {
      "cell_type": "code",
      "source": [
        "type (g)"
      ],
      "metadata": {
        "colab": {
          "base_uri": "https://localhost:8080/"
        },
        "id": "SzyhId1F5YyT",
        "outputId": "d2664ffc-d9de-4b3a-b77a-6e92a88f0a89"
      },
      "execution_count": null,
      "outputs": [
        {
          "output_type": "execute_result",
          "data": {
            "text/plain": [
              "numpy.ndarray"
            ]
          },
          "metadata": {},
          "execution_count": 7
        }
      ]
    },
    {
      "cell_type": "code",
      "source": [
        "lista_lista = [[1,2,3,4,5], [4,5,6,7,8]]"
      ],
      "metadata": {
        "id": "EveGGngm5YvU"
      },
      "execution_count": null,
      "outputs": []
    },
    {
      "cell_type": "code",
      "source": [
        "# Podemos usar mais de uma lista na construção do array:\n",
        "\n",
        "h = np.array(lista_lista)"
      ],
      "metadata": {
        "id": "joSbGMdZ6pWh"
      },
      "execution_count": null,
      "outputs": []
    },
    {
      "cell_type": "code",
      "source": [
        "h"
      ],
      "metadata": {
        "colab": {
          "base_uri": "https://localhost:8080/"
        },
        "id": "TTQStYyg6pTY",
        "outputId": "57382025-65be-4cda-9461-8ff5606c6016"
      },
      "execution_count": null,
      "outputs": [
        {
          "output_type": "execute_result",
          "data": {
            "text/plain": [
              "array([[1, 2, 3, 4, 5],\n",
              "       [4, 5, 6, 7, 8]])"
            ]
          },
          "metadata": {},
          "execution_count": 13
        }
      ]
    },
    {
      "cell_type": "code",
      "source": [
        "np.random.seed(0)"
      ],
      "metadata": {
        "id": "IgHZmlvb7hyH"
      },
      "execution_count": null,
      "outputs": []
    },
    {
      "cell_type": "code",
      "source": [
        "np.random.seed(0)\n",
        "np.random.randint(10, size = 6)"
      ],
      "metadata": {
        "colab": {
          "base_uri": "https://localhost:8080/"
        },
        "id": "51o9mrO16pQF",
        "outputId": "fd9ee359-2307-4582-b071-d0617cd16711"
      },
      "execution_count": null,
      "outputs": [
        {
          "output_type": "execute_result",
          "data": {
            "text/plain": [
              "array([5, 0, 3, 3, 7, 9])"
            ]
          },
          "metadata": {},
          "execution_count": 39
        }
      ]
    },
    {
      "cell_type": "code",
      "source": [
        "i = np.random.randint(10, size = 6)"
      ],
      "metadata": {
        "id": "CL0D5m1Q6pN1"
      },
      "execution_count": null,
      "outputs": []
    },
    {
      "cell_type": "code",
      "source": [
        "i"
      ],
      "metadata": {
        "colab": {
          "base_uri": "https://localhost:8080/"
        },
        "id": "w4RRZ2oP6-e9",
        "outputId": "b7591f81-1696-430d-be89-553e3ed7c718"
      },
      "execution_count": null,
      "outputs": [
        {
          "output_type": "execute_result",
          "data": {
            "text/plain": [
              "array([5, 0, 3, 3, 7, 9])"
            ]
          },
          "metadata": {},
          "execution_count": 45
        }
      ]
    },
    {
      "cell_type": "code",
      "source": [
        "i[0]"
      ],
      "metadata": {
        "colab": {
          "base_uri": "https://localhost:8080/"
        },
        "id": "exp2NkOz6-ZM",
        "outputId": "0f9d6c36-6e35-456b-fa1a-4e814285eeec"
      },
      "execution_count": null,
      "outputs": [
        {
          "output_type": "execute_result",
          "data": {
            "text/plain": [
              "5"
            ]
          },
          "metadata": {},
          "execution_count": 46
        }
      ]
    },
    {
      "cell_type": "code",
      "source": [
        "i[-1]"
      ],
      "metadata": {
        "colab": {
          "base_uri": "https://localhost:8080/"
        },
        "id": "5O60EOPh8lGg",
        "outputId": "e103206a-0ae0-4a86-a323-d8e4fbfab275"
      },
      "execution_count": null,
      "outputs": [
        {
          "output_type": "execute_result",
          "data": {
            "text/plain": [
              "9"
            ]
          },
          "metadata": {},
          "execution_count": 48
        }
      ]
    },
    {
      "cell_type": "markdown",
      "source": [
        "Muito parecido com listas\n",
        "\n",
        "Operações matemáticas"
      ],
      "metadata": {
        "id": "pu7y_DvU8wtM"
      }
    },
    {
      "cell_type": "code",
      "source": [
        "a = np.array([10,20,100,200,500])\n",
        "b = np.array([3,4,5,6,7])\n",
        "\n",
        "np.add(a, b)"
      ],
      "metadata": {
        "colab": {
          "base_uri": "https://localhost:8080/"
        },
        "id": "6WvXPRec8lDT",
        "outputId": "c2236918-a1f3-4d84-a0e6-552530255fa3"
      },
      "execution_count": null,
      "outputs": [
        {
          "output_type": "execute_result",
          "data": {
            "text/plain": [
              "array([ 13,  24, 105, 206, 507])"
            ]
          },
          "metadata": {},
          "execution_count": 50
        }
      ]
    },
    {
      "cell_type": "code",
      "source": [
        "a + b"
      ],
      "metadata": {
        "colab": {
          "base_uri": "https://localhost:8080/"
        },
        "id": "_SxQzqOp8k_7",
        "outputId": "f095e933-be74-443d-a27e-2c099977806d"
      },
      "execution_count": null,
      "outputs": [
        {
          "output_type": "execute_result",
          "data": {
            "text/plain": [
              "array([ 13,  24, 105, 206, 507])"
            ]
          },
          "metadata": {},
          "execution_count": 51
        }
      ]
    },
    {
      "cell_type": "code",
      "source": [
        "np.subtract(a,b)"
      ],
      "metadata": {
        "colab": {
          "base_uri": "https://localhost:8080/"
        },
        "id": "63LYNuhI8k6c",
        "outputId": "85d07691-e703-4d06-eed3-d49cdad05231"
      },
      "execution_count": null,
      "outputs": [
        {
          "output_type": "execute_result",
          "data": {
            "text/plain": [
              "array([  7,  16,  95, 194, 493])"
            ]
          },
          "metadata": {},
          "execution_count": 52
        }
      ]
    },
    {
      "cell_type": "code",
      "source": [
        "a - b"
      ],
      "metadata": {
        "colab": {
          "base_uri": "https://localhost:8080/"
        },
        "id": "-clVgOG-9aXr",
        "outputId": "06c5292f-8964-4e86-c829-6132916c3e66"
      },
      "execution_count": null,
      "outputs": [
        {
          "output_type": "execute_result",
          "data": {
            "text/plain": [
              "array([  7,  16,  95, 194, 493])"
            ]
          },
          "metadata": {},
          "execution_count": 53
        }
      ]
    },
    {
      "cell_type": "code",
      "source": [
        "np.multiply(a,b)"
      ],
      "metadata": {
        "colab": {
          "base_uri": "https://localhost:8080/"
        },
        "id": "5xVulHPN9aUj",
        "outputId": "a716420e-d69f-4894-902b-2ba16cc4fd1b"
      },
      "execution_count": null,
      "outputs": [
        {
          "output_type": "execute_result",
          "data": {
            "text/plain": [
              "array([  30,   80,  500, 1200, 3500])"
            ]
          },
          "metadata": {},
          "execution_count": 54
        }
      ]
    },
    {
      "cell_type": "code",
      "source": [
        "a*b"
      ],
      "metadata": {
        "colab": {
          "base_uri": "https://localhost:8080/"
        },
        "id": "attu-1Zh9aR2",
        "outputId": "81cb89ff-00f0-46fd-b2e5-0bb866a873ea"
      },
      "execution_count": null,
      "outputs": [
        {
          "output_type": "execute_result",
          "data": {
            "text/plain": [
              "array([  30,   80,  500, 1200, 3500])"
            ]
          },
          "metadata": {},
          "execution_count": 55
        }
      ]
    },
    {
      "cell_type": "code",
      "source": [
        "np.divide(a,b)"
      ],
      "metadata": {
        "colab": {
          "base_uri": "https://localhost:8080/"
        },
        "id": "7iX2csqd9tfw",
        "outputId": "4ea0cdc2-23ec-44d4-97a1-48eb59e8c149"
      },
      "execution_count": null,
      "outputs": [
        {
          "output_type": "execute_result",
          "data": {
            "text/plain": [
              "array([ 3.33333333,  5.        , 20.        , 33.33333333, 71.42857143])"
            ]
          },
          "metadata": {},
          "execution_count": 56
        }
      ]
    },
    {
      "cell_type": "code",
      "source": [
        "a/b"
      ],
      "metadata": {
        "colab": {
          "base_uri": "https://localhost:8080/"
        },
        "id": "z-iv9V0f9tcE",
        "outputId": "2369a47b-8288-4c8b-fbd6-a47b0c90142d"
      },
      "execution_count": null,
      "outputs": [
        {
          "output_type": "execute_result",
          "data": {
            "text/plain": [
              "array([ 3.33333333,  5.        , 20.        , 33.33333333, 71.42857143])"
            ]
          },
          "metadata": {},
          "execution_count": 57
        }
      ]
    },
    {
      "cell_type": "markdown",
      "source": [
        "##19.3. Pandas"
      ],
      "metadata": {
        "id": "m7sADxwk95gL"
      }
    },
    {
      "cell_type": "markdown",
      "source": [
        "Mostrar aqui como baixar os dados de WEGE3 do Yahoo Finance"
      ],
      "metadata": {
        "id": "TjZNfQNz982r"
      }
    },
    {
      "cell_type": "markdown",
      "source": [
        "Temos um arquivo .csv que foi disponibilizado junto com o material do curso"
      ],
      "metadata": {
        "id": "MUN9mzK69-bT"
      }
    },
    {
      "cell_type": "code",
      "source": [
        "dados = pd.read_csv('WEGE3.SA.csv')"
      ],
      "metadata": {
        "id": "CdIhzcWy9tZE"
      },
      "execution_count": null,
      "outputs": []
    },
    {
      "cell_type": "markdown",
      "source": [
        "Com o atributo shape podemos verificar as dimensões"
      ],
      "metadata": {
        "id": "b_ID_3_u_Iw8"
      }
    },
    {
      "cell_type": "code",
      "source": [
        "dados.shape"
      ],
      "metadata": {
        "colab": {
          "base_uri": "https://localhost:8080/"
        },
        "id": "Er4HGT9B-CHF",
        "outputId": "1687f757-d391-4905-b6d5-103f2a354643"
      },
      "execution_count": null,
      "outputs": [
        {
          "output_type": "execute_result",
          "data": {
            "text/plain": [
              "(993, 7)"
            ]
          },
          "metadata": {},
          "execution_count": 60
        }
      ]
    },
    {
      "cell_type": "markdown",
      "source": [
        "Com o atributo dtypes podemos verificar o tipo das variáveis"
      ],
      "metadata": {
        "id": "hI3oqxty_VHj"
      }
    },
    {
      "cell_type": "code",
      "source": [
        "dados.dtypes"
      ],
      "metadata": {
        "colab": {
          "base_uri": "https://localhost:8080/"
        },
        "id": "n07Uyt7U-CWo",
        "outputId": "b7874a19-5663-4ede-a7d9-f3ba5007ff4a"
      },
      "execution_count": null,
      "outputs": [
        {
          "output_type": "execute_result",
          "data": {
            "text/plain": [
              "Date          object\n",
              "Open         float64\n",
              "High         float64\n",
              "Low          float64\n",
              "Close        float64\n",
              "Adj Close    float64\n",
              "Volume       float64\n",
              "dtype: object"
            ]
          },
          "metadata": {},
          "execution_count": 61
        }
      ]
    },
    {
      "cell_type": "code",
      "source": [
        "# Tipo do objeto dados\n",
        "\n",
        "type(dados)"
      ],
      "metadata": {
        "colab": {
          "base_uri": "https://localhost:8080/"
        },
        "id": "pJ88S7-v-CTt",
        "outputId": "4d6f93b9-15ac-478e-8b0d-2b88d8db35d1"
      },
      "execution_count": null,
      "outputs": [
        {
          "output_type": "execute_result",
          "data": {
            "text/plain": [
              "pandas.core.frame.DataFrame"
            ]
          },
          "metadata": {},
          "execution_count": 63
        }
      ]
    },
    {
      "cell_type": "code",
      "source": [
        "# Mostra as 5 primeiras linhas, posso definir quantas linhas quero ver usando o()\n",
        "# por padrão são 5 linhas\n",
        "\n",
        "dados.head()"
      ],
      "metadata": {
        "colab": {
          "base_uri": "https://localhost:8080/",
          "height": 206
        },
        "id": "YzBGDKWZ-CQb",
        "outputId": "88b94a9c-9fa4-4e16-8128-da72f5791783"
      },
      "execution_count": null,
      "outputs": [
        {
          "output_type": "execute_result",
          "data": {
            "text/plain": [
              "         Date      Open      High       Low     Close  Adj Close     Volume\n",
              "0  2017-07-24  7.392307  7.473076  7.261538  7.426923   7.051007  2638220.0\n",
              "1  2017-07-25  7.476923  7.476923  7.307692  7.369230   6.996235  2505880.0\n",
              "2  2017-07-26  7.323076  7.442307  7.276923  7.326923   6.956069  2112240.0\n",
              "3  2017-07-27  7.388461  7.419230  7.223076  7.269230   6.901296  1910480.0\n",
              "4  2017-07-28  7.261538  7.296153  7.165384  7.200000   6.835570  2866760.0"
            ],
            "text/html": [
              "\n",
              "  <div id=\"df-2f498f10-0014-45db-8714-450b2cbd1130\">\n",
              "    <div class=\"colab-df-container\">\n",
              "      <div>\n",
              "<style scoped>\n",
              "    .dataframe tbody tr th:only-of-type {\n",
              "        vertical-align: middle;\n",
              "    }\n",
              "\n",
              "    .dataframe tbody tr th {\n",
              "        vertical-align: top;\n",
              "    }\n",
              "\n",
              "    .dataframe thead th {\n",
              "        text-align: right;\n",
              "    }\n",
              "</style>\n",
              "<table border=\"1\" class=\"dataframe\">\n",
              "  <thead>\n",
              "    <tr style=\"text-align: right;\">\n",
              "      <th></th>\n",
              "      <th>Date</th>\n",
              "      <th>Open</th>\n",
              "      <th>High</th>\n",
              "      <th>Low</th>\n",
              "      <th>Close</th>\n",
              "      <th>Adj Close</th>\n",
              "      <th>Volume</th>\n",
              "    </tr>\n",
              "  </thead>\n",
              "  <tbody>\n",
              "    <tr>\n",
              "      <th>0</th>\n",
              "      <td>2017-07-24</td>\n",
              "      <td>7.392307</td>\n",
              "      <td>7.473076</td>\n",
              "      <td>7.261538</td>\n",
              "      <td>7.426923</td>\n",
              "      <td>7.051007</td>\n",
              "      <td>2638220.0</td>\n",
              "    </tr>\n",
              "    <tr>\n",
              "      <th>1</th>\n",
              "      <td>2017-07-25</td>\n",
              "      <td>7.476923</td>\n",
              "      <td>7.476923</td>\n",
              "      <td>7.307692</td>\n",
              "      <td>7.369230</td>\n",
              "      <td>6.996235</td>\n",
              "      <td>2505880.0</td>\n",
              "    </tr>\n",
              "    <tr>\n",
              "      <th>2</th>\n",
              "      <td>2017-07-26</td>\n",
              "      <td>7.323076</td>\n",
              "      <td>7.442307</td>\n",
              "      <td>7.276923</td>\n",
              "      <td>7.326923</td>\n",
              "      <td>6.956069</td>\n",
              "      <td>2112240.0</td>\n",
              "    </tr>\n",
              "    <tr>\n",
              "      <th>3</th>\n",
              "      <td>2017-07-27</td>\n",
              "      <td>7.388461</td>\n",
              "      <td>7.419230</td>\n",
              "      <td>7.223076</td>\n",
              "      <td>7.269230</td>\n",
              "      <td>6.901296</td>\n",
              "      <td>1910480.0</td>\n",
              "    </tr>\n",
              "    <tr>\n",
              "      <th>4</th>\n",
              "      <td>2017-07-28</td>\n",
              "      <td>7.261538</td>\n",
              "      <td>7.296153</td>\n",
              "      <td>7.165384</td>\n",
              "      <td>7.200000</td>\n",
              "      <td>6.835570</td>\n",
              "      <td>2866760.0</td>\n",
              "    </tr>\n",
              "  </tbody>\n",
              "</table>\n",
              "</div>\n",
              "      <button class=\"colab-df-convert\" onclick=\"convertToInteractive('df-2f498f10-0014-45db-8714-450b2cbd1130')\"\n",
              "              title=\"Convert this dataframe to an interactive table.\"\n",
              "              style=\"display:none;\">\n",
              "        \n",
              "  <svg xmlns=\"http://www.w3.org/2000/svg\" height=\"24px\"viewBox=\"0 0 24 24\"\n",
              "       width=\"24px\">\n",
              "    <path d=\"M0 0h24v24H0V0z\" fill=\"none\"/>\n",
              "    <path d=\"M18.56 5.44l.94 2.06.94-2.06 2.06-.94-2.06-.94-.94-2.06-.94 2.06-2.06.94zm-11 1L8.5 8.5l.94-2.06 2.06-.94-2.06-.94L8.5 2.5l-.94 2.06-2.06.94zm10 10l.94 2.06.94-2.06 2.06-.94-2.06-.94-.94-2.06-.94 2.06-2.06.94z\"/><path d=\"M17.41 7.96l-1.37-1.37c-.4-.4-.92-.59-1.43-.59-.52 0-1.04.2-1.43.59L10.3 9.45l-7.72 7.72c-.78.78-.78 2.05 0 2.83L4 21.41c.39.39.9.59 1.41.59.51 0 1.02-.2 1.41-.59l7.78-7.78 2.81-2.81c.8-.78.8-2.07 0-2.86zM5.41 20L4 18.59l7.72-7.72 1.47 1.35L5.41 20z\"/>\n",
              "  </svg>\n",
              "      </button>\n",
              "      \n",
              "  <style>\n",
              "    .colab-df-container {\n",
              "      display:flex;\n",
              "      flex-wrap:wrap;\n",
              "      gap: 12px;\n",
              "    }\n",
              "\n",
              "    .colab-df-convert {\n",
              "      background-color: #E8F0FE;\n",
              "      border: none;\n",
              "      border-radius: 50%;\n",
              "      cursor: pointer;\n",
              "      display: none;\n",
              "      fill: #1967D2;\n",
              "      height: 32px;\n",
              "      padding: 0 0 0 0;\n",
              "      width: 32px;\n",
              "    }\n",
              "\n",
              "    .colab-df-convert:hover {\n",
              "      background-color: #E2EBFA;\n",
              "      box-shadow: 0px 1px 2px rgba(60, 64, 67, 0.3), 0px 1px 3px 1px rgba(60, 64, 67, 0.15);\n",
              "      fill: #174EA6;\n",
              "    }\n",
              "\n",
              "    [theme=dark] .colab-df-convert {\n",
              "      background-color: #3B4455;\n",
              "      fill: #D2E3FC;\n",
              "    }\n",
              "\n",
              "    [theme=dark] .colab-df-convert:hover {\n",
              "      background-color: #434B5C;\n",
              "      box-shadow: 0px 1px 3px 1px rgba(0, 0, 0, 0.15);\n",
              "      filter: drop-shadow(0px 1px 2px rgba(0, 0, 0, 0.3));\n",
              "      fill: #FFFFFF;\n",
              "    }\n",
              "  </style>\n",
              "\n",
              "      <script>\n",
              "        const buttonEl =\n",
              "          document.querySelector('#df-2f498f10-0014-45db-8714-450b2cbd1130 button.colab-df-convert');\n",
              "        buttonEl.style.display =\n",
              "          google.colab.kernel.accessAllowed ? 'block' : 'none';\n",
              "\n",
              "        async function convertToInteractive(key) {\n",
              "          const element = document.querySelector('#df-2f498f10-0014-45db-8714-450b2cbd1130');\n",
              "          const dataTable =\n",
              "            await google.colab.kernel.invokeFunction('convertToInteractive',\n",
              "                                                     [key], {});\n",
              "          if (!dataTable) return;\n",
              "\n",
              "          const docLinkHtml = 'Like what you see? Visit the ' +\n",
              "            '<a target=\"_blank\" href=https://colab.research.google.com/notebooks/data_table.ipynb>data table notebook</a>'\n",
              "            + ' to learn more about interactive tables.';\n",
              "          element.innerHTML = '';\n",
              "          dataTable['output_type'] = 'display_data';\n",
              "          await google.colab.output.renderOutput(dataTable, element);\n",
              "          const docLink = document.createElement('div');\n",
              "          docLink.innerHTML = docLinkHtml;\n",
              "          element.appendChild(docLink);\n",
              "        }\n",
              "      </script>\n",
              "    </div>\n",
              "  </div>\n",
              "  "
            ]
          },
          "metadata": {},
          "execution_count": 67
        }
      ]
    },
    {
      "cell_type": "code",
      "source": [
        "# Mostra as 5 últimas linhas, posso definir quantas linhas quero ver usando o()\n",
        "# por padrão são 5 linhas\n",
        "\n",
        "dados.tail()"
      ],
      "metadata": {
        "colab": {
          "base_uri": "https://localhost:8080/",
          "height": 206
        },
        "id": "blWkUyD__3eS",
        "outputId": "fac08e06-3596-4358-d0eb-b0ab5789c0f4"
      },
      "execution_count": null,
      "outputs": [
        {
          "output_type": "execute_result",
          "data": {
            "text/plain": [
              "           Date       Open       High        Low      Close  Adj Close  \\\n",
              "988  2021-07-15  35.000000  35.590000  34.900002  34.919998  34.919998   \n",
              "989  2021-07-16  35.040001  35.259998  34.209999  34.290001  34.290001   \n",
              "990  2021-07-19  34.000000  34.369999  33.599998  34.180000  34.180000   \n",
              "991  2021-07-20  34.049999  34.830002  33.869999  34.549999  34.549999   \n",
              "992  2021-07-21  34.750000  34.970001  34.099998  34.450001  34.450001   \n",
              "\n",
              "        Volume  \n",
              "988  4807000.0  \n",
              "989  5380000.0  \n",
              "990  4756600.0  \n",
              "991  4042300.0  \n",
              "992  4315700.0  "
            ],
            "text/html": [
              "\n",
              "  <div id=\"df-fbb289c8-565c-496d-9bb6-2285dbd22e89\">\n",
              "    <div class=\"colab-df-container\">\n",
              "      <div>\n",
              "<style scoped>\n",
              "    .dataframe tbody tr th:only-of-type {\n",
              "        vertical-align: middle;\n",
              "    }\n",
              "\n",
              "    .dataframe tbody tr th {\n",
              "        vertical-align: top;\n",
              "    }\n",
              "\n",
              "    .dataframe thead th {\n",
              "        text-align: right;\n",
              "    }\n",
              "</style>\n",
              "<table border=\"1\" class=\"dataframe\">\n",
              "  <thead>\n",
              "    <tr style=\"text-align: right;\">\n",
              "      <th></th>\n",
              "      <th>Date</th>\n",
              "      <th>Open</th>\n",
              "      <th>High</th>\n",
              "      <th>Low</th>\n",
              "      <th>Close</th>\n",
              "      <th>Adj Close</th>\n",
              "      <th>Volume</th>\n",
              "    </tr>\n",
              "  </thead>\n",
              "  <tbody>\n",
              "    <tr>\n",
              "      <th>988</th>\n",
              "      <td>2021-07-15</td>\n",
              "      <td>35.000000</td>\n",
              "      <td>35.590000</td>\n",
              "      <td>34.900002</td>\n",
              "      <td>34.919998</td>\n",
              "      <td>34.919998</td>\n",
              "      <td>4807000.0</td>\n",
              "    </tr>\n",
              "    <tr>\n",
              "      <th>989</th>\n",
              "      <td>2021-07-16</td>\n",
              "      <td>35.040001</td>\n",
              "      <td>35.259998</td>\n",
              "      <td>34.209999</td>\n",
              "      <td>34.290001</td>\n",
              "      <td>34.290001</td>\n",
              "      <td>5380000.0</td>\n",
              "    </tr>\n",
              "    <tr>\n",
              "      <th>990</th>\n",
              "      <td>2021-07-19</td>\n",
              "      <td>34.000000</td>\n",
              "      <td>34.369999</td>\n",
              "      <td>33.599998</td>\n",
              "      <td>34.180000</td>\n",
              "      <td>34.180000</td>\n",
              "      <td>4756600.0</td>\n",
              "    </tr>\n",
              "    <tr>\n",
              "      <th>991</th>\n",
              "      <td>2021-07-20</td>\n",
              "      <td>34.049999</td>\n",
              "      <td>34.830002</td>\n",
              "      <td>33.869999</td>\n",
              "      <td>34.549999</td>\n",
              "      <td>34.549999</td>\n",
              "      <td>4042300.0</td>\n",
              "    </tr>\n",
              "    <tr>\n",
              "      <th>992</th>\n",
              "      <td>2021-07-21</td>\n",
              "      <td>34.750000</td>\n",
              "      <td>34.970001</td>\n",
              "      <td>34.099998</td>\n",
              "      <td>34.450001</td>\n",
              "      <td>34.450001</td>\n",
              "      <td>4315700.0</td>\n",
              "    </tr>\n",
              "  </tbody>\n",
              "</table>\n",
              "</div>\n",
              "      <button class=\"colab-df-convert\" onclick=\"convertToInteractive('df-fbb289c8-565c-496d-9bb6-2285dbd22e89')\"\n",
              "              title=\"Convert this dataframe to an interactive table.\"\n",
              "              style=\"display:none;\">\n",
              "        \n",
              "  <svg xmlns=\"http://www.w3.org/2000/svg\" height=\"24px\"viewBox=\"0 0 24 24\"\n",
              "       width=\"24px\">\n",
              "    <path d=\"M0 0h24v24H0V0z\" fill=\"none\"/>\n",
              "    <path d=\"M18.56 5.44l.94 2.06.94-2.06 2.06-.94-2.06-.94-.94-2.06-.94 2.06-2.06.94zm-11 1L8.5 8.5l.94-2.06 2.06-.94-2.06-.94L8.5 2.5l-.94 2.06-2.06.94zm10 10l.94 2.06.94-2.06 2.06-.94-2.06-.94-.94-2.06-.94 2.06-2.06.94z\"/><path d=\"M17.41 7.96l-1.37-1.37c-.4-.4-.92-.59-1.43-.59-.52 0-1.04.2-1.43.59L10.3 9.45l-7.72 7.72c-.78.78-.78 2.05 0 2.83L4 21.41c.39.39.9.59 1.41.59.51 0 1.02-.2 1.41-.59l7.78-7.78 2.81-2.81c.8-.78.8-2.07 0-2.86zM5.41 20L4 18.59l7.72-7.72 1.47 1.35L5.41 20z\"/>\n",
              "  </svg>\n",
              "      </button>\n",
              "      \n",
              "  <style>\n",
              "    .colab-df-container {\n",
              "      display:flex;\n",
              "      flex-wrap:wrap;\n",
              "      gap: 12px;\n",
              "    }\n",
              "\n",
              "    .colab-df-convert {\n",
              "      background-color: #E8F0FE;\n",
              "      border: none;\n",
              "      border-radius: 50%;\n",
              "      cursor: pointer;\n",
              "      display: none;\n",
              "      fill: #1967D2;\n",
              "      height: 32px;\n",
              "      padding: 0 0 0 0;\n",
              "      width: 32px;\n",
              "    }\n",
              "\n",
              "    .colab-df-convert:hover {\n",
              "      background-color: #E2EBFA;\n",
              "      box-shadow: 0px 1px 2px rgba(60, 64, 67, 0.3), 0px 1px 3px 1px rgba(60, 64, 67, 0.15);\n",
              "      fill: #174EA6;\n",
              "    }\n",
              "\n",
              "    [theme=dark] .colab-df-convert {\n",
              "      background-color: #3B4455;\n",
              "      fill: #D2E3FC;\n",
              "    }\n",
              "\n",
              "    [theme=dark] .colab-df-convert:hover {\n",
              "      background-color: #434B5C;\n",
              "      box-shadow: 0px 1px 3px 1px rgba(0, 0, 0, 0.15);\n",
              "      filter: drop-shadow(0px 1px 2px rgba(0, 0, 0, 0.3));\n",
              "      fill: #FFFFFF;\n",
              "    }\n",
              "  </style>\n",
              "\n",
              "      <script>\n",
              "        const buttonEl =\n",
              "          document.querySelector('#df-fbb289c8-565c-496d-9bb6-2285dbd22e89 button.colab-df-convert');\n",
              "        buttonEl.style.display =\n",
              "          google.colab.kernel.accessAllowed ? 'block' : 'none';\n",
              "\n",
              "        async function convertToInteractive(key) {\n",
              "          const element = document.querySelector('#df-fbb289c8-565c-496d-9bb6-2285dbd22e89');\n",
              "          const dataTable =\n",
              "            await google.colab.kernel.invokeFunction('convertToInteractive',\n",
              "                                                     [key], {});\n",
              "          if (!dataTable) return;\n",
              "\n",
              "          const docLinkHtml = 'Like what you see? Visit the ' +\n",
              "            '<a target=\"_blank\" href=https://colab.research.google.com/notebooks/data_table.ipynb>data table notebook</a>'\n",
              "            + ' to learn more about interactive tables.';\n",
              "          element.innerHTML = '';\n",
              "          dataTable['output_type'] = 'display_data';\n",
              "          await google.colab.output.renderOutput(dataTable, element);\n",
              "          const docLink = document.createElement('div');\n",
              "          docLink.innerHTML = docLinkHtml;\n",
              "          element.appendChild(docLink);\n",
              "        }\n",
              "      </script>\n",
              "    </div>\n",
              "  </div>\n",
              "  "
            ]
          },
          "metadata": {},
          "execution_count": 71
        }
      ]
    },
    {
      "cell_type": "code",
      "source": [
        "# Usamos o comando .loc para extração pelo index\n",
        "\n",
        "dados.loc[0]\n",
        "\n",
        "\n"
      ],
      "metadata": {
        "colab": {
          "base_uri": "https://localhost:8080/"
        },
        "id": "m4as_xur_3br",
        "outputId": "669e00e3-5494-43cb-b666-a1f5e9029c5c"
      },
      "execution_count": null,
      "outputs": [
        {
          "output_type": "execute_result",
          "data": {
            "text/plain": [
              "Date         2017-07-24\n",
              "Open           7.392307\n",
              "High           7.473076\n",
              "Low            7.261538\n",
              "Close          7.426923\n",
              "Adj Close      7.051007\n",
              "Volume        2638220.0\n",
              "Name: 0, dtype: object"
            ]
          },
          "metadata": {},
          "execution_count": 72
        }
      ]
    },
    {
      "cell_type": "code",
      "source": [
        "# Usamos o comando .iloc para extração pela posição da linha\n",
        "\n",
        "dados.iloc[0]"
      ],
      "metadata": {
        "colab": {
          "base_uri": "https://localhost:8080/"
        },
        "id": "ESRsgXU4_3Y9",
        "outputId": "00493054-4daf-4107-d579-b517536b599d"
      },
      "execution_count": null,
      "outputs": [
        {
          "output_type": "execute_result",
          "data": {
            "text/plain": [
              "Date         2017-07-24\n",
              "Open           7.392307\n",
              "High           7.473076\n",
              "Low            7.261538\n",
              "Close          7.426923\n",
              "Adj Close      7.051007\n",
              "Volume        2638220.0\n",
              "Name: 0, dtype: object"
            ]
          },
          "metadata": {},
          "execution_count": 73
        }
      ]
    },
    {
      "cell_type": "code",
      "source": [
        "# Além de filtrar uma linha, podemos filtrar células\n",
        "\n",
        "dados.iloc[0,0]"
      ],
      "metadata": {
        "colab": {
          "base_uri": "https://localhost:8080/",
          "height": 35
        },
        "id": "UIjmEzH3_3WK",
        "outputId": "10c235c6-8251-4384-eb31-0850913f0ac2"
      },
      "execution_count": null,
      "outputs": [
        {
          "output_type": "execute_result",
          "data": {
            "text/plain": [
              "'2017-07-24'"
            ],
            "application/vnd.google.colaboratory.intrinsic+json": {
              "type": "string"
            }
          },
          "metadata": {},
          "execution_count": 74
        }
      ]
    },
    {
      "cell_type": "code",
      "source": [
        "# Ou podemos filtrar colunas de nome específico, traz os primeiros e útimas 5 linhas\n",
        "\n",
        "dados['Open']"
      ],
      "metadata": {
        "colab": {
          "base_uri": "https://localhost:8080/"
        },
        "id": "7zJ6OcnsBqjz",
        "outputId": "f9b5b446-52d2-408a-d9a7-3cfe42063db6"
      },
      "execution_count": null,
      "outputs": [
        {
          "output_type": "execute_result",
          "data": {
            "text/plain": [
              "0       7.392307\n",
              "1       7.476923\n",
              "2       7.323076\n",
              "3       7.388461\n",
              "4       7.261538\n",
              "         ...    \n",
              "988    35.000000\n",
              "989    35.040001\n",
              "990    34.000000\n",
              "991    34.049999\n",
              "992    34.750000\n",
              "Name: Open, Length: 993, dtype: float64"
            ]
          },
          "metadata": {},
          "execution_count": 75
        }
      ]
    },
    {
      "cell_type": "code",
      "source": [
        "#Podemos plotar apenas uma coluna\n",
        "\n",
        "dados['Open'].plot()"
      ],
      "metadata": {
        "colab": {
          "base_uri": "https://localhost:8080/",
          "height": 282
        },
        "id": "NJ_D0xQBBqhC",
        "outputId": "9b7a5de0-57d7-4baa-8659-7dc1579ef936"
      },
      "execution_count": null,
      "outputs": [
        {
          "output_type": "execute_result",
          "data": {
            "text/plain": [
              "<matplotlib.axes._subplots.AxesSubplot at 0x7fc41b173f50>"
            ]
          },
          "metadata": {},
          "execution_count": 79
        },
        {
          "output_type": "display_data",
          "data": {
            "text/plain": [
              "<Figure size 432x288 with 1 Axes>"
            ],
            "image/png": "[encoded data removed]"
          },
          "metadata": {
            "needs_background": "light"
          }
        }
      ]
    },
    {
      "cell_type": "code",
      "source": [
        "# Retira a mensagem antes do gráfico\n",
        "# Estrutura de ponto não pode ser utilizado quando o nome da coluna tem espaços\n",
        "dados.Open.plot();"
      ],
      "metadata": {
        "colab": {
          "base_uri": "https://localhost:8080/",
          "height": 265
        },
        "id": "iCuzBqCZBqeK",
        "outputId": "61baf43c-d661-4868-d686-9a0bdc476d19"
      },
      "execution_count": null,
      "outputs": [
        {
          "output_type": "display_data",
          "data": {
            "text/plain": [
              "<Figure size 432x288 with 1 Axes>"
            ],
            "image/png": "[encoded data removed]"
          },
          "metadata": {
            "needs_background": "light"
          }
        }
      ]
    },
    {
      "cell_type": "code",
      "source": [
        "# Podemos plotar um segmento de uma coluna. No exemplo abaixo, estamos plotando da linha 0 até a 500.\n",
        "\n",
        "dados.iloc[0:500].Close.plot();"
      ],
      "metadata": {
        "colab": {
          "base_uri": "https://localhost:8080/",
          "height": 266
        },
        "id": "Q3V-uNMVBqbd",
        "outputId": "fc3ff730-8c2c-4354-c7b5-1748071fe317"
      },
      "execution_count": null,
      "outputs": [
        {
          "output_type": "display_data",
          "data": {
            "text/plain": [
              "<Figure size 432x288 with 1 Axes>"
            ],
            "image/png": "[encoded data removed]"
          },
          "metadata": {
            "needs_background": "light"
          }
        }
      ]
    },
    {
      "cell_type": "code",
      "source": [
        "# Abaixo, estamos passando os valores da coluna 'Date' para o índice,\n",
        "# de tal forma que o índice do dataframe se torne a própria data\n",
        "\n",
        "dados.index = dados.Date"
      ],
      "metadata": {
        "id": "7Hb5d0aDDBxP"
      },
      "execution_count": null,
      "outputs": []
    },
    {
      "cell_type": "code",
      "source": [
        "dados.head()"
      ],
      "metadata": {
        "colab": {
          "base_uri": "https://localhost:8080/",
          "height": 238
        },
        "id": "LZXee9wUDBty",
        "outputId": "d1e5135f-6df0-48f8-fd94-892088781ca9"
      },
      "execution_count": null,
      "outputs": [
        {
          "output_type": "execute_result",
          "data": {
            "text/plain": [
              "                  Date      Open      High       Low     Close  Adj Close  \\\n",
              "Date                                                                        \n",
              "2017-07-24  2017-07-24  7.392307  7.473076  7.261538  7.426923   7.051007   \n",
              "2017-07-25  2017-07-25  7.476923  7.476923  7.307692  7.369230   6.996235   \n",
              "2017-07-26  2017-07-26  7.323076  7.442307  7.276923  7.326923   6.956069   \n",
              "2017-07-27  2017-07-27  7.388461  7.419230  7.223076  7.269230   6.901296   \n",
              "2017-07-28  2017-07-28  7.261538  7.296153  7.165384  7.200000   6.835570   \n",
              "\n",
              "               Volume  \n",
              "Date                   \n",
              "2017-07-24  2638220.0  \n",
              "2017-07-25  2505880.0  \n",
              "2017-07-26  2112240.0  \n",
              "2017-07-27  1910480.0  \n",
              "2017-07-28  2866760.0  "
            ],
            "text/html": [
              "\n",
              "  <div id=\"df-a96e28f3-150a-4463-a486-324e12f413ea\">\n",
              "    <div class=\"colab-df-container\">\n",
              "      <div>\n",
              "<style scoped>\n",
              "    .dataframe tbody tr th:only-of-type {\n",
              "        vertical-align: middle;\n",
              "    }\n",
              "\n",
              "    .dataframe tbody tr th {\n",
              "        vertical-align: top;\n",
              "    }\n",
              "\n",
              "    .dataframe thead th {\n",
              "        text-align: right;\n",
              "    }\n",
              "</style>\n",
              "<table border=\"1\" class=\"dataframe\">\n",
              "  <thead>\n",
              "    <tr style=\"text-align: right;\">\n",
              "      <th></th>\n",
              "      <th>Date</th>\n",
              "      <th>Open</th>\n",
              "      <th>High</th>\n",
              "      <th>Low</th>\n",
              "      <th>Close</th>\n",
              "      <th>Adj Close</th>\n",
              "      <th>Volume</th>\n",
              "    </tr>\n",
              "    <tr>\n",
              "      <th>Date</th>\n",
              "      <th></th>\n",
              "      <th></th>\n",
              "      <th></th>\n",
              "      <th></th>\n",
              "      <th></th>\n",
              "      <th></th>\n",
              "      <th></th>\n",
              "    </tr>\n",
              "  </thead>\n",
              "  <tbody>\n",
              "    <tr>\n",
              "      <th>2017-07-24</th>\n",
              "      <td>2017-07-24</td>\n",
              "      <td>7.392307</td>\n",
              "      <td>7.473076</td>\n",
              "      <td>7.261538</td>\n",
              "      <td>7.426923</td>\n",
              "      <td>7.051007</td>\n",
              "      <td>2638220.0</td>\n",
              "    </tr>\n",
              "    <tr>\n",
              "      <th>2017-07-25</th>\n",
              "      <td>2017-07-25</td>\n",
              "      <td>7.476923</td>\n",
              "      <td>7.476923</td>\n",
              "      <td>7.307692</td>\n",
              "      <td>7.369230</td>\n",
              "      <td>6.996235</td>\n",
              "      <td>2505880.0</td>\n",
              "    </tr>\n",
              "    <tr>\n",
              "      <th>2017-07-26</th>\n",
              "      <td>2017-07-26</td>\n",
              "      <td>7.323076</td>\n",
              "      <td>7.442307</td>\n",
              "      <td>7.276923</td>\n",
              "      <td>7.326923</td>\n",
              "      <td>6.956069</td>\n",
              "      <td>2112240.0</td>\n",
              "    </tr>\n",
              "    <tr>\n",
              "      <th>2017-07-27</th>\n",
              "      <td>2017-07-27</td>\n",
              "      <td>7.388461</td>\n",
              "      <td>7.419230</td>\n",
              "      <td>7.223076</td>\n",
              "      <td>7.269230</td>\n",
              "      <td>6.901296</td>\n",
              "      <td>1910480.0</td>\n",
              "    </tr>\n",
              "    <tr>\n",
              "      <th>2017-07-28</th>\n",
              "      <td>2017-07-28</td>\n",
              "      <td>7.261538</td>\n",
              "      <td>7.296153</td>\n",
              "      <td>7.165384</td>\n",
              "      <td>7.200000</td>\n",
              "      <td>6.835570</td>\n",
              "      <td>2866760.0</td>\n",
              "    </tr>\n",
              "  </tbody>\n",
              "</table>\n",
              "</div>\n",
              "      <button class=\"colab-df-convert\" onclick=\"convertToInteractive('df-a96e28f3-150a-4463-a486-324e12f413ea')\"\n",
              "              title=\"Convert this dataframe to an interactive table.\"\n",
              "              style=\"display:none;\">\n",
              "        \n",
              "  <svg xmlns=\"http://www.w3.org/2000/svg\" height=\"24px\"viewBox=\"0 0 24 24\"\n",
              "       width=\"24px\">\n",
              "    <path d=\"M0 0h24v24H0V0z\" fill=\"none\"/>\n",
              "    <path d=\"M18.56 5.44l.94 2.06.94-2.06 2.06-.94-2.06-.94-.94-2.06-.94 2.06-2.06.94zm-11 1L8.5 8.5l.94-2.06 2.06-.94-2.06-.94L8.5 2.5l-.94 2.06-2.06.94zm10 10l.94 2.06.94-2.06 2.06-.94-2.06-.94-.94-2.06-.94 2.06-2.06.94z\"/><path d=\"M17.41 7.96l-1.37-1.37c-.4-.4-.92-.59-1.43-.59-.52 0-1.04.2-1.43.59L10.3 9.45l-7.72 7.72c-.78.78-.78 2.05 0 2.83L4 21.41c.39.39.9.59 1.41.59.51 0 1.02-.2 1.41-.59l7.78-7.78 2.81-2.81c.8-.78.8-2.07 0-2.86zM5.41 20L4 18.59l7.72-7.72 1.47 1.35L5.41 20z\"/>\n",
              "  </svg>\n",
              "      </button>\n",
              "      \n",
              "  <style>\n",
              "    .colab-df-container {\n",
              "      display:flex;\n",
              "      flex-wrap:wrap;\n",
              "      gap: 12px;\n",
              "    }\n",
              "\n",
              "    .colab-df-convert {\n",
              "      background-color: #E8F0FE;\n",
              "      border: none;\n",
              "      border-radius: 50%;\n",
              "      cursor: pointer;\n",
              "      display: none;\n",
              "      fill: #1967D2;\n",
              "      height: 32px;\n",
              "      padding: 0 0 0 0;\n",
              "      width: 32px;\n",
              "    }\n",
              "\n",
              "    .colab-df-convert:hover {\n",
              "      background-color: #E2EBFA;\n",
              "      box-shadow: 0px 1px 2px rgba(60, 64, 67, 0.3), 0px 1px 3px 1px rgba(60, 64, 67, 0.15);\n",
              "      fill: #174EA6;\n",
              "    }\n",
              "\n",
              "    [theme=dark] .colab-df-convert {\n",
              "      background-color: #3B4455;\n",
              "      fill: #D2E3FC;\n",
              "    }\n",
              "\n",
              "    [theme=dark] .colab-df-convert:hover {\n",
              "      background-color: #434B5C;\n",
              "      box-shadow: 0px 1px 3px 1px rgba(0, 0, 0, 0.15);\n",
              "      filter: drop-shadow(0px 1px 2px rgba(0, 0, 0, 0.3));\n",
              "      fill: #FFFFFF;\n",
              "    }\n",
              "  </style>\n",
              "\n",
              "      <script>\n",
              "        const buttonEl =\n",
              "          document.querySelector('#df-a96e28f3-150a-4463-a486-324e12f413ea button.colab-df-convert');\n",
              "        buttonEl.style.display =\n",
              "          google.colab.kernel.accessAllowed ? 'block' : 'none';\n",
              "\n",
              "        async function convertToInteractive(key) {\n",
              "          const element = document.querySelector('#df-a96e28f3-150a-4463-a486-324e12f413ea');\n",
              "          const dataTable =\n",
              "            await google.colab.kernel.invokeFunction('convertToInteractive',\n",
              "                                                     [key], {});\n",
              "          if (!dataTable) return;\n",
              "\n",
              "          const docLinkHtml = 'Like what you see? Visit the ' +\n",
              "            '<a target=\"_blank\" href=https://colab.research.google.com/notebooks/data_table.ipynb>data table notebook</a>'\n",
              "            + ' to learn more about interactive tables.';\n",
              "          element.innerHTML = '';\n",
              "          dataTable['output_type'] = 'display_data';\n",
              "          await google.colab.output.renderOutput(dataTable, element);\n",
              "          const docLink = document.createElement('div');\n",
              "          docLink.innerHTML = docLinkHtml;\n",
              "          element.appendChild(docLink);\n",
              "        }\n",
              "      </script>\n",
              "    </div>\n",
              "  </div>\n",
              "  "
            ]
          },
          "metadata": {},
          "execution_count": 89
        }
      ]
    },
    {
      "cell_type": "code",
      "source": [
        "# Isso nos permite agora filtrar linhas de acordo com uma data específica\n",
        "\n",
        "dados.loc['2017-07-24']"
      ],
      "metadata": {
        "colab": {
          "base_uri": "https://localhost:8080/"
        },
        "id": "5h5xNEVUDBrD",
        "outputId": "6fe32439-6aa7-4874-d14f-e72ad2cee9a8"
      },
      "execution_count": null,
      "outputs": [
        {
          "output_type": "execute_result",
          "data": {
            "text/plain": [
              "Date         2017-07-24\n",
              "Open           7.392307\n",
              "High           7.473076\n",
              "Low            7.261538\n",
              "Close          7.426923\n",
              "Adj Close      7.051007\n",
              "Volume        2638220.0\n",
              "Name: 2017-07-24, dtype: object"
            ]
          },
          "metadata": {},
          "execution_count": 91
        }
      ]
    },
    {
      "cell_type": "code",
      "source": [
        "dados.iloc[0]"
      ],
      "metadata": {
        "colab": {
          "base_uri": "https://localhost:8080/"
        },
        "id": "BvjP2fpkD7JS",
        "outputId": "7b850972-d880-40b4-8c91-8d02d0f80c68"
      },
      "execution_count": null,
      "outputs": [
        {
          "output_type": "execute_result",
          "data": {
            "text/plain": [
              "Date         2017-07-24\n",
              "Open           7.392307\n",
              "High           7.473076\n",
              "Low            7.261538\n",
              "Close          7.426923\n",
              "Adj Close      7.051007\n",
              "Volume        2638220.0\n",
              "Name: 2017-07-24, dtype: object"
            ]
          },
          "metadata": {},
          "execution_count": 93
        }
      ]
    },
    {
      "cell_type": "code",
      "source": [
        ""
      ],
      "metadata": {
        "id": "aJY7h9ImD7F7"
      },
      "execution_count": null,
      "outputs": []
    },
    {
      "cell_type": "markdown",
      "source": [
        "Vamos trabalhar agora com diretórios diferentes"
      ],
      "metadata": {
        "id": "2KK7N9HmER6a"
      }
    },
    {
      "cell_type": "code",
      "source": [
        "import os"
      ],
      "metadata": {
        "id": "Y-aGMD22EBQT"
      },
      "execution_count": null,
      "outputs": []
    },
    {
      "cell_type": "markdown",
      "source": [
        "Qual o diretório que estamos trabalhando neste momento?"
      ],
      "metadata": {
        "id": "qV5lxxAsElsB"
      }
    },
    {
      "cell_type": "code",
      "source": [
        "os.getcwd()"
      ],
      "metadata": {
        "colab": {
          "base_uri": "https://localhost:8080/",
          "height": 35
        },
        "id": "cNpCyScqEBNg",
        "outputId": "a3e9e6c5-5a85-45d4-c2bb-10672a8a239c"
      },
      "execution_count": null,
      "outputs": [
        {
          "output_type": "execute_result",
          "data": {
            "text/plain": [
              "'/content'"
            ],
            "application/vnd.google.colaboratory.intrinsic+json": {
              "type": "string"
            }
          },
          "metadata": {},
          "execution_count": 95
        }
      ]
    },
    {
      "cell_type": "code",
      "source": [
        "housting = pd.read_csv('/content/sample_data/california_housing_train.csv')"
      ],
      "metadata": {
        "id": "ppLkK9rXEBKT"
      },
      "execution_count": null,
      "outputs": []
    },
    {
      "cell_type": "code",
      "source": [
        "housting.head()"
      ],
      "metadata": {
        "colab": {
          "base_uri": "https://localhost:8080/",
          "height": 270
        },
        "id": "rnVAsm6xEBGx",
        "outputId": "e976b10e-4256-4455-dec3-272c3a62c062"
      },
      "execution_count": null,
      "outputs": [
        {
          "output_type": "execute_result",
          "data": {
            "text/plain": [
              "   longitude  latitude  housing_median_age  total_rooms  total_bedrooms  \\\n",
              "0    -114.31     34.19                15.0       5612.0          1283.0   \n",
              "1    -114.47     34.40                19.0       7650.0          1901.0   \n",
              "2    -114.56     33.69                17.0        720.0           174.0   \n",
              "3    -114.57     33.64                14.0       1501.0           337.0   \n",
              "4    -114.57     33.57                20.0       1454.0           326.0   \n",
              "\n",
              "   population  households  median_income  median_house_value  \n",
              "0      1015.0       472.0         1.4936             66900.0  \n",
              "1      1129.0       463.0         1.8200             80100.0  \n",
              "2       333.0       117.0         1.6509             85700.0  \n",
              "3       515.0       226.0         3.1917             73400.0  \n",
              "4       624.0       262.0         1.9250             65500.0  "
            ],
            "text/html": [
              "\n",
              "  <div id=\"df-f05bbf64-bf25-4e92-bdd2-b785fbd86627\">\n",
              "    <div class=\"colab-df-container\">\n",
              "      <div>\n",
              "<style scoped>\n",
              "    .dataframe tbody tr th:only-of-type {\n",
              "        vertical-align: middle;\n",
              "    }\n",
              "\n",
              "    .dataframe tbody tr th {\n",
              "        vertical-align: top;\n",
              "    }\n",
              "\n",
              "    .dataframe thead th {\n",
              "        text-align: right;\n",
              "    }\n",
              "</style>\n",
              "<table border=\"1\" class=\"dataframe\">\n",
              "  <thead>\n",
              "    <tr style=\"text-align: right;\">\n",
              "      <th></th>\n",
              "      <th>longitude</th>\n",
              "      <th>latitude</th>\n",
              "      <th>housing_median_age</th>\n",
              "      <th>total_rooms</th>\n",
              "      <th>total_bedrooms</th>\n",
              "      <th>population</th>\n",
              "      <th>households</th>\n",
              "      <th>median_income</th>\n",
              "      <th>median_house_value</th>\n",
              "    </tr>\n",
              "  </thead>\n",
              "  <tbody>\n",
              "    <tr>\n",
              "      <th>0</th>\n",
              "      <td>-114.31</td>\n",
              "      <td>34.19</td>\n",
              "      <td>15.0</td>\n",
              "      <td>5612.0</td>\n",
              "      <td>1283.0</td>\n",
              "      <td>1015.0</td>\n",
              "      <td>472.0</td>\n",
              "      <td>1.4936</td>\n",
              "      <td>66900.0</td>\n",
              "    </tr>\n",
              "    <tr>\n",
              "      <th>1</th>\n",
              "      <td>-114.47</td>\n",
              "      <td>34.40</td>\n",
              "      <td>19.0</td>\n",
              "      <td>7650.0</td>\n",
              "      <td>1901.0</td>\n",
              "      <td>1129.0</td>\n",
              "      <td>463.0</td>\n",
              "      <td>1.8200</td>\n",
              "      <td>80100.0</td>\n",
              "    </tr>\n",
              "    <tr>\n",
              "      <th>2</th>\n",
              "      <td>-114.56</td>\n",
              "      <td>33.69</td>\n",
              "      <td>17.0</td>\n",
              "      <td>720.0</td>\n",
              "      <td>174.0</td>\n",
              "      <td>333.0</td>\n",
              "      <td>117.0</td>\n",
              "      <td>1.6509</td>\n",
              "      <td>85700.0</td>\n",
              "    </tr>\n",
              "    <tr>\n",
              "      <th>3</th>\n",
              "      <td>-114.57</td>\n",
              "      <td>33.64</td>\n",
              "      <td>14.0</td>\n",
              "      <td>1501.0</td>\n",
              "      <td>337.0</td>\n",
              "      <td>515.0</td>\n",
              "      <td>226.0</td>\n",
              "      <td>3.1917</td>\n",
              "      <td>73400.0</td>\n",
              "    </tr>\n",
              "    <tr>\n",
              "      <th>4</th>\n",
              "      <td>-114.57</td>\n",
              "      <td>33.57</td>\n",
              "      <td>20.0</td>\n",
              "      <td>1454.0</td>\n",
              "      <td>326.0</td>\n",
              "      <td>624.0</td>\n",
              "      <td>262.0</td>\n",
              "      <td>1.9250</td>\n",
              "      <td>65500.0</td>\n",
              "    </tr>\n",
              "  </tbody>\n",
              "</table>\n",
              "</div>\n",
              "      <button class=\"colab-df-convert\" onclick=\"convertToInteractive('df-f05bbf64-bf25-4e92-bdd2-b785fbd86627')\"\n",
              "              title=\"Convert this dataframe to an interactive table.\"\n",
              "              style=\"display:none;\">\n",
              "        \n",
              "  <svg xmlns=\"http://www.w3.org/2000/svg\" height=\"24px\"viewBox=\"0 0 24 24\"\n",
              "       width=\"24px\">\n",
              "    <path d=\"M0 0h24v24H0V0z\" fill=\"none\"/>\n",
              "    <path d=\"M18.56 5.44l.94 2.06.94-2.06 2.06-.94-2.06-.94-.94-2.06-.94 2.06-2.06.94zm-11 1L8.5 8.5l.94-2.06 2.06-.94-2.06-.94L8.5 2.5l-.94 2.06-2.06.94zm10 10l.94 2.06.94-2.06 2.06-.94-2.06-.94-.94-2.06-.94 2.06-2.06.94z\"/><path d=\"M17.41 7.96l-1.37-1.37c-.4-.4-.92-.59-1.43-.59-.52 0-1.04.2-1.43.59L10.3 9.45l-7.72 7.72c-.78.78-.78 2.05 0 2.83L4 21.41c.39.39.9.59 1.41.59.51 0 1.02-.2 1.41-.59l7.78-7.78 2.81-2.81c.8-.78.8-2.07 0-2.86zM5.41 20L4 18.59l7.72-7.72 1.47 1.35L5.41 20z\"/>\n",
              "  </svg>\n",
              "      </button>\n",
              "      \n",
              "  <style>\n",
              "    .colab-df-container {\n",
              "      display:flex;\n",
              "      flex-wrap:wrap;\n",
              "      gap: 12px;\n",
              "    }\n",
              "\n",
              "    .colab-df-convert {\n",
              "      background-color: #E8F0FE;\n",
              "      border: none;\n",
              "      border-radius: 50%;\n",
              "      cursor: pointer;\n",
              "      display: none;\n",
              "      fill: #1967D2;\n",
              "      height: 32px;\n",
              "      padding: 0 0 0 0;\n",
              "      width: 32px;\n",
              "    }\n",
              "\n",
              "    .colab-df-convert:hover {\n",
              "      background-color: #E2EBFA;\n",
              "      box-shadow: 0px 1px 2px rgba(60, 64, 67, 0.3), 0px 1px 3px 1px rgba(60, 64, 67, 0.15);\n",
              "      fill: #174EA6;\n",
              "    }\n",
              "\n",
              "    [theme=dark] .colab-df-convert {\n",
              "      background-color: #3B4455;\n",
              "      fill: #D2E3FC;\n",
              "    }\n",
              "\n",
              "    [theme=dark] .colab-df-convert:hover {\n",
              "      background-color: #434B5C;\n",
              "      box-shadow: 0px 1px 3px 1px rgba(0, 0, 0, 0.15);\n",
              "      filter: drop-shadow(0px 1px 2px rgba(0, 0, 0, 0.3));\n",
              "      fill: #FFFFFF;\n",
              "    }\n",
              "  </style>\n",
              "\n",
              "      <script>\n",
              "        const buttonEl =\n",
              "          document.querySelector('#df-f05bbf64-bf25-4e92-bdd2-b785fbd86627 button.colab-df-convert');\n",
              "        buttonEl.style.display =\n",
              "          google.colab.kernel.accessAllowed ? 'block' : 'none';\n",
              "\n",
              "        async function convertToInteractive(key) {\n",
              "          const element = document.querySelector('#df-f05bbf64-bf25-4e92-bdd2-b785fbd86627');\n",
              "          const dataTable =\n",
              "            await google.colab.kernel.invokeFunction('convertToInteractive',\n",
              "                                                     [key], {});\n",
              "          if (!dataTable) return;\n",
              "\n",
              "          const docLinkHtml = 'Like what you see? Visit the ' +\n",
              "            '<a target=\"_blank\" href=https://colab.research.google.com/notebooks/data_table.ipynb>data table notebook</a>'\n",
              "            + ' to learn more about interactive tables.';\n",
              "          element.innerHTML = '';\n",
              "          dataTable['output_type'] = 'display_data';\n",
              "          await google.colab.output.renderOutput(dataTable, element);\n",
              "          const docLink = document.createElement('div');\n",
              "          docLink.innerHTML = docLinkHtml;\n",
              "          element.appendChild(docLink);\n",
              "        }\n",
              "      </script>\n",
              "    </div>\n",
              "  </div>\n",
              "  "
            ]
          },
          "metadata": {},
          "execution_count": 100
        }
      ]
    },
    {
      "cell_type": "code",
      "source": [
        "# Caso você estivesse trabalhando com o Jupyter, ou algum outro IDE na sua máquina\n",
        "\n",
        "os.chdir('/content/sample_data/')"
      ],
      "metadata": {
        "id": "8yH2aXmlF0ml"
      },
      "execution_count": null,
      "outputs": []
    },
    {
      "cell_type": "code",
      "source": [
        "os.getcwd()"
      ],
      "metadata": {
        "colab": {
          "base_uri": "https://localhost:8080/",
          "height": 35
        },
        "id": "9z98TFqOF0jL",
        "outputId": "63f9cf9e-6053-483e-e1ca-fa1174f67564"
      },
      "execution_count": null,
      "outputs": [
        {
          "output_type": "execute_result",
          "data": {
            "text/plain": [
              "'/content/sample_data'"
            ],
            "application/vnd.google.colaboratory.intrinsic+json": {
              "type": "string"
            }
          },
          "metadata": {},
          "execution_count": 102
        }
      ]
    },
    {
      "cell_type": "code",
      "source": [
        "housting = pd.read_csv('california_housing_train.csv')"
      ],
      "metadata": {
        "id": "OqdyBypgF0a-"
      },
      "execution_count": null,
      "outputs": []
    },
    {
      "cell_type": "code",
      "source": [
        "housting"
      ],
      "metadata": {
        "colab": {
          "base_uri": "https://localhost:8080/",
          "height": 488
        },
        "id": "n1-iZTGkF0Ye",
        "outputId": "cf19c109-341d-4062-d89f-36049743de4a"
      },
      "execution_count": null,
      "outputs": [
        {
          "output_type": "execute_result",
          "data": {
            "text/plain": [
              "       longitude  latitude  housing_median_age  total_rooms  total_bedrooms  \\\n",
              "0        -114.31     34.19                15.0       5612.0          1283.0   \n",
              "1        -114.47     34.40                19.0       7650.0          1901.0   \n",
              "2        -114.56     33.69                17.0        720.0           174.0   \n",
              "3        -114.57     33.64                14.0       1501.0           337.0   \n",
              "4        -114.57     33.57                20.0       1454.0           326.0   \n",
              "...          ...       ...                 ...          ...             ...   \n",
              "16995    -124.26     40.58                52.0       2217.0           394.0   \n",
              "16996    -124.27     40.69                36.0       2349.0           528.0   \n",
              "16997    -124.30     41.84                17.0       2677.0           531.0   \n",
              "16998    -124.30     41.80                19.0       2672.0           552.0   \n",
              "16999    -124.35     40.54                52.0       1820.0           300.0   \n",
              "\n",
              "       population  households  median_income  median_house_value  \n",
              "0          1015.0       472.0         1.4936             66900.0  \n",
              "1          1129.0       463.0         1.8200             80100.0  \n",
              "2           333.0       117.0         1.6509             85700.0  \n",
              "3           515.0       226.0         3.1917             73400.0  \n",
              "4           624.0       262.0         1.9250             65500.0  \n",
              "...           ...         ...            ...                 ...  \n",
              "16995       907.0       369.0         2.3571            111400.0  \n",
              "16996      1194.0       465.0         2.5179             79000.0  \n",
              "16997      1244.0       456.0         3.0313            103600.0  \n",
              "16998      1298.0       478.0         1.9797             85800.0  \n",
              "16999       806.0       270.0         3.0147             94600.0  \n",
              "\n",
              "[17000 rows x 9 columns]"
            ],
            "text/html": [
              "\n",
              "  <div id=\"df-c8e02598-7bf7-4b28-8b49-96bf4fc50226\">\n",
              "    <div class=\"colab-df-container\">\n",
              "      <div>\n",
              "<style scoped>\n",
              "    .dataframe tbody tr th:only-of-type {\n",
              "        vertical-align: middle;\n",
              "    }\n",
              "\n",
              "    .dataframe tbody tr th {\n",
              "        vertical-align: top;\n",
              "    }\n",
              "\n",
              "    .dataframe thead th {\n",
              "        text-align: right;\n",
              "    }\n",
              "</style>\n",
              "<table border=\"1\" class=\"dataframe\">\n",
              "  <thead>\n",
              "    <tr style=\"text-align: right;\">\n",
              "      <th></th>\n",
              "      <th>longitude</th>\n",
              "      <th>latitude</th>\n",
              "      <th>housing_median_age</th>\n",
              "      <th>total_rooms</th>\n",
              "      <th>total_bedrooms</th>\n",
              "      <th>population</th>\n",
              "      <th>households</th>\n",
              "      <th>median_income</th>\n",
              "      <th>median_house_value</th>\n",
              "    </tr>\n",
              "  </thead>\n",
              "  <tbody>\n",
              "    <tr>\n",
              "      <th>0</th>\n",
              "      <td>-114.31</td>\n",
              "      <td>34.19</td>\n",
              "      <td>15.0</td>\n",
              "      <td>5612.0</td>\n",
              "      <td>1283.0</td>\n",
              "      <td>1015.0</td>\n",
              "      <td>472.0</td>\n",
              "      <td>1.4936</td>\n",
              "      <td>66900.0</td>\n",
              "    </tr>\n",
              "    <tr>\n",
              "      <th>1</th>\n",
              "      <td>-114.47</td>\n",
              "      <td>34.40</td>\n",
              "      <td>19.0</td>\n",
              "      <td>7650.0</td>\n",
              "      <td>1901.0</td>\n",
              "      <td>1129.0</td>\n",
              "      <td>463.0</td>\n",
              "      <td>1.8200</td>\n",
              "      <td>80100.0</td>\n",
              "    </tr>\n",
              "    <tr>\n",
              "      <th>2</th>\n",
              "      <td>-114.56</td>\n",
              "      <td>33.69</td>\n",
              "      <td>17.0</td>\n",
              "      <td>720.0</td>\n",
              "      <td>174.0</td>\n",
              "      <td>333.0</td>\n",
              "      <td>117.0</td>\n",
              "      <td>1.6509</td>\n",
              "      <td>85700.0</td>\n",
              "    </tr>\n",
              "    <tr>\n",
              "      <th>3</th>\n",
              "      <td>-114.57</td>\n",
              "      <td>33.64</td>\n",
              "      <td>14.0</td>\n",
              "      <td>1501.0</td>\n",
              "      <td>337.0</td>\n",
              "      <td>515.0</td>\n",
              "      <td>226.0</td>\n",
              "      <td>3.1917</td>\n",
              "      <td>73400.0</td>\n",
              "    </tr>\n",
              "    <tr>\n",
              "      <th>4</th>\n",
              "      <td>-114.57</td>\n",
              "      <td>33.57</td>\n",
              "      <td>20.0</td>\n",
              "      <td>1454.0</td>\n",
              "      <td>326.0</td>\n",
              "      <td>624.0</td>\n",
              "      <td>262.0</td>\n",
              "      <td>1.9250</td>\n",
              "      <td>65500.0</td>\n",
              "    </tr>\n",
              "    <tr>\n",
              "      <th>...</th>\n",
              "      <td>...</td>\n",
              "      <td>...</td>\n",
              "      <td>...</td>\n",
              "      <td>...</td>\n",
              "      <td>...</td>\n",
              "      <td>...</td>\n",
              "      <td>...</td>\n",
              "      <td>...</td>\n",
              "      <td>...</td>\n",
              "    </tr>\n",
              "    <tr>\n",
              "      <th>16995</th>\n",
              "      <td>-124.26</td>\n",
              "      <td>40.58</td>\n",
              "      <td>52.0</td>\n",
              "      <td>2217.0</td>\n",
              "      <td>394.0</td>\n",
              "      <td>907.0</td>\n",
              "      <td>369.0</td>\n",
              "      <td>2.3571</td>\n",
              "      <td>111400.0</td>\n",
              "    </tr>\n",
              "    <tr>\n",
              "      <th>16996</th>\n",
              "      <td>-124.27</td>\n",
              "      <td>40.69</td>\n",
              "      <td>36.0</td>\n",
              "      <td>2349.0</td>\n",
              "      <td>528.0</td>\n",
              "      <td>1194.0</td>\n",
              "      <td>465.0</td>\n",
              "      <td>2.5179</td>\n",
              "      <td>79000.0</td>\n",
              "    </tr>\n",
              "    <tr>\n",
              "      <th>16997</th>\n",
              "      <td>-124.30</td>\n",
              "      <td>41.84</td>\n",
              "      <td>17.0</td>\n",
              "      <td>2677.0</td>\n",
              "      <td>531.0</td>\n",
              "      <td>1244.0</td>\n",
              "      <td>456.0</td>\n",
              "      <td>3.0313</td>\n",
              "      <td>103600.0</td>\n",
              "    </tr>\n",
              "    <tr>\n",
              "      <th>16998</th>\n",
              "      <td>-124.30</td>\n",
              "      <td>41.80</td>\n",
              "      <td>19.0</td>\n",
              "      <td>2672.0</td>\n",
              "      <td>552.0</td>\n",
              "      <td>1298.0</td>\n",
              "      <td>478.0</td>\n",
              "      <td>1.9797</td>\n",
              "      <td>85800.0</td>\n",
              "    </tr>\n",
              "    <tr>\n",
              "      <th>16999</th>\n",
              "      <td>-124.35</td>\n",
              "      <td>40.54</td>\n",
              "      <td>52.0</td>\n",
              "      <td>1820.0</td>\n",
              "      <td>300.0</td>\n",
              "      <td>806.0</td>\n",
              "      <td>270.0</td>\n",
              "      <td>3.0147</td>\n",
              "      <td>94600.0</td>\n",
              "    </tr>\n",
              "  </tbody>\n",
              "</table>\n",
              "<p>17000 rows × 9 columns</p>\n",
              "</div>\n",
              "      <button class=\"colab-df-convert\" onclick=\"convertToInteractive('df-c8e02598-7bf7-4b28-8b49-96bf4fc50226')\"\n",
              "              title=\"Convert this dataframe to an interactive table.\"\n",
              "              style=\"display:none;\">\n",
              "        \n",
              "  <svg xmlns=\"http://www.w3.org/2000/svg\" height=\"24px\"viewBox=\"0 0 24 24\"\n",
              "       width=\"24px\">\n",
              "    <path d=\"M0 0h24v24H0V0z\" fill=\"none\"/>\n",
              "    <path d=\"M18.56 5.44l.94 2.06.94-2.06 2.06-.94-2.06-.94-.94-2.06-.94 2.06-2.06.94zm-11 1L8.5 8.5l.94-2.06 2.06-.94-2.06-.94L8.5 2.5l-.94 2.06-2.06.94zm10 10l.94 2.06.94-2.06 2.06-.94-2.06-.94-.94-2.06-.94 2.06-2.06.94z\"/><path d=\"M17.41 7.96l-1.37-1.37c-.4-.4-.92-.59-1.43-.59-.52 0-1.04.2-1.43.59L10.3 9.45l-7.72 7.72c-.78.78-.78 2.05 0 2.83L4 21.41c.39.39.9.59 1.41.59.51 0 1.02-.2 1.41-.59l7.78-7.78 2.81-2.81c.8-.78.8-2.07 0-2.86zM5.41 20L4 18.59l7.72-7.72 1.47 1.35L5.41 20z\"/>\n",
              "  </svg>\n",
              "      </button>\n",
              "      \n",
              "  <style>\n",
              "    .colab-df-container {\n",
              "      display:flex;\n",
              "      flex-wrap:wrap;\n",
              "      gap: 12px;\n",
              "    }\n",
              "\n",
              "    .colab-df-convert {\n",
              "      background-color: #E8F0FE;\n",
              "      border: none;\n",
              "      border-radius: 50%;\n",
              "      cursor: pointer;\n",
              "      display: none;\n",
              "      fill: #1967D2;\n",
              "      height: 32px;\n",
              "      padding: 0 0 0 0;\n",
              "      width: 32px;\n",
              "    }\n",
              "\n",
              "    .colab-df-convert:hover {\n",
              "      background-color: #E2EBFA;\n",
              "      box-shadow: 0px 1px 2px rgba(60, 64, 67, 0.3), 0px 1px 3px 1px rgba(60, 64, 67, 0.15);\n",
              "      fill: #174EA6;\n",
              "    }\n",
              "\n",
              "    [theme=dark] .colab-df-convert {\n",
              "      background-color: #3B4455;\n",
              "      fill: #D2E3FC;\n",
              "    }\n",
              "\n",
              "    [theme=dark] .colab-df-convert:hover {\n",
              "      background-color: #434B5C;\n",
              "      box-shadow: 0px 1px 3px 1px rgba(0, 0, 0, 0.15);\n",
              "      filter: drop-shadow(0px 1px 2px rgba(0, 0, 0, 0.3));\n",
              "      fill: #FFFFFF;\n",
              "    }\n",
              "  </style>\n",
              "\n",
              "      <script>\n",
              "        const buttonEl =\n",
              "          document.querySelector('#df-c8e02598-7bf7-4b28-8b49-96bf4fc50226 button.colab-df-convert');\n",
              "        buttonEl.style.display =\n",
              "          google.colab.kernel.accessAllowed ? 'block' : 'none';\n",
              "\n",
              "        async function convertToInteractive(key) {\n",
              "          const element = document.querySelector('#df-c8e02598-7bf7-4b28-8b49-96bf4fc50226');\n",
              "          const dataTable =\n",
              "            await google.colab.kernel.invokeFunction('convertToInteractive',\n",
              "                                                     [key], {});\n",
              "          if (!dataTable) return;\n",
              "\n",
              "          const docLinkHtml = 'Like what you see? Visit the ' +\n",
              "            '<a target=\"_blank\" href=https://colab.research.google.com/notebooks/data_table.ipynb>data table notebook</a>'\n",
              "            + ' to learn more about interactive tables.';\n",
              "          element.innerHTML = '';\n",
              "          dataTable['output_type'] = 'display_data';\n",
              "          await google.colab.output.renderOutput(dataTable, element);\n",
              "          const docLink = document.createElement('div');\n",
              "          docLink.innerHTML = docLinkHtml;\n",
              "          element.appendChild(docLink);\n",
              "        }\n",
              "      </script>\n",
              "    </div>\n",
              "  </div>\n",
              "  "
            ]
          },
          "metadata": {},
          "execution_count": 104
        }
      ]
    },
    {
      "cell_type": "markdown",
      "source": [
        "Como renomear e renomear colunas"
      ],
      "metadata": {
        "id": "R0x1aECLGXs5"
      }
    },
    {
      "cell_type": "code",
      "source": [
        "# Para alterar usa a estrutura de dicionário e usa o inplace = true para gravar a troca realizada\n",
        "\n",
        "dados.rename(columns = {'Date':'Data', 'Adj Close': 'WEGE3'}, inplace = True)"
      ],
      "metadata": {
        "id": "McIMHb0pF0VO"
      },
      "execution_count": null,
      "outputs": []
    },
    {
      "cell_type": "code",
      "source": [
        "dados.head()"
      ],
      "metadata": {
        "colab": {
          "base_uri": "https://localhost:8080/",
          "height": 238
        },
        "id": "VQfza1GSF0SZ",
        "outputId": "597ba05d-c473-4ed0-9299-5ab349f410bc"
      },
      "execution_count": null,
      "outputs": [
        {
          "output_type": "execute_result",
          "data": {
            "text/plain": [
              "                  Data      Open      High       Low     Close     WEGE3  \\\n",
              "Date                                                                       \n",
              "2017-07-24  2017-07-24  7.392307  7.473076  7.261538  7.426923  7.051007   \n",
              "2017-07-25  2017-07-25  7.476923  7.476923  7.307692  7.369230  6.996235   \n",
              "2017-07-26  2017-07-26  7.323076  7.442307  7.276923  7.326923  6.956069   \n",
              "2017-07-27  2017-07-27  7.388461  7.419230  7.223076  7.269230  6.901296   \n",
              "2017-07-28  2017-07-28  7.261538  7.296153  7.165384  7.200000  6.835570   \n",
              "\n",
              "               Volume  \n",
              "Date                   \n",
              "2017-07-24  2638220.0  \n",
              "2017-07-25  2505880.0  \n",
              "2017-07-26  2112240.0  \n",
              "2017-07-27  1910480.0  \n",
              "2017-07-28  2866760.0  "
            ],
            "text/html": [
              "\n",
              "  <div id=\"df-0b27416c-d05d-4608-87d5-1d9e0d1ed64d\">\n",
              "    <div class=\"colab-df-container\">\n",
              "      <div>\n",
              "<style scoped>\n",
              "    .dataframe tbody tr th:only-of-type {\n",
              "        vertical-align: middle;\n",
              "    }\n",
              "\n",
              "    .dataframe tbody tr th {\n",
              "        vertical-align: top;\n",
              "    }\n",
              "\n",
              "    .dataframe thead th {\n",
              "        text-align: right;\n",
              "    }\n",
              "</style>\n",
              "<table border=\"1\" class=\"dataframe\">\n",
              "  <thead>\n",
              "    <tr style=\"text-align: right;\">\n",
              "      <th></th>\n",
              "      <th>Data</th>\n",
              "      <th>Open</th>\n",
              "      <th>High</th>\n",
              "      <th>Low</th>\n",
              "      <th>Close</th>\n",
              "      <th>WEGE3</th>\n",
              "      <th>Volume</th>\n",
              "    </tr>\n",
              "    <tr>\n",
              "      <th>Date</th>\n",
              "      <th></th>\n",
              "      <th></th>\n",
              "      <th></th>\n",
              "      <th></th>\n",
              "      <th></th>\n",
              "      <th></th>\n",
              "      <th></th>\n",
              "    </tr>\n",
              "  </thead>\n",
              "  <tbody>\n",
              "    <tr>\n",
              "      <th>2017-07-24</th>\n",
              "      <td>2017-07-24</td>\n",
              "      <td>7.392307</td>\n",
              "      <td>7.473076</td>\n",
              "      <td>7.261538</td>\n",
              "      <td>7.426923</td>\n",
              "      <td>7.051007</td>\n",
              "      <td>2638220.0</td>\n",
              "    </tr>\n",
              "    <tr>\n",
              "      <th>2017-07-25</th>\n",
              "      <td>2017-07-25</td>\n",
              "      <td>7.476923</td>\n",
              "      <td>7.476923</td>\n",
              "      <td>7.307692</td>\n",
              "      <td>7.369230</td>\n",
              "      <td>6.996235</td>\n",
              "      <td>2505880.0</td>\n",
              "    </tr>\n",
              "    <tr>\n",
              "      <th>2017-07-26</th>\n",
              "      <td>2017-07-26</td>\n",
              "      <td>7.323076</td>\n",
              "      <td>7.442307</td>\n",
              "      <td>7.276923</td>\n",
              "      <td>7.326923</td>\n",
              "      <td>6.956069</td>\n",
              "      <td>2112240.0</td>\n",
              "    </tr>\n",
              "    <tr>\n",
              "      <th>2017-07-27</th>\n",
              "      <td>2017-07-27</td>\n",
              "      <td>7.388461</td>\n",
              "      <td>7.419230</td>\n",
              "      <td>7.223076</td>\n",
              "      <td>7.269230</td>\n",
              "      <td>6.901296</td>\n",
              "      <td>1910480.0</td>\n",
              "    </tr>\n",
              "    <tr>\n",
              "      <th>2017-07-28</th>\n",
              "      <td>2017-07-28</td>\n",
              "      <td>7.261538</td>\n",
              "      <td>7.296153</td>\n",
              "      <td>7.165384</td>\n",
              "      <td>7.200000</td>\n",
              "      <td>6.835570</td>\n",
              "      <td>2866760.0</td>\n",
              "    </tr>\n",
              "  </tbody>\n",
              "</table>\n",
              "</div>\n",
              "      <button class=\"colab-df-convert\" onclick=\"convertToInteractive('df-0b27416c-d05d-4608-87d5-1d9e0d1ed64d')\"\n",
              "              title=\"Convert this dataframe to an interactive table.\"\n",
              "              style=\"display:none;\">\n",
              "        \n",
              "  <svg xmlns=\"http://www.w3.org/2000/svg\" height=\"24px\"viewBox=\"0 0 24 24\"\n",
              "       width=\"24px\">\n",
              "    <path d=\"M0 0h24v24H0V0z\" fill=\"none\"/>\n",
              "    <path d=\"M18.56 5.44l.94 2.06.94-2.06 2.06-.94-2.06-.94-.94-2.06-.94 2.06-2.06.94zm-11 1L8.5 8.5l.94-2.06 2.06-.94-2.06-.94L8.5 2.5l-.94 2.06-2.06.94zm10 10l.94 2.06.94-2.06 2.06-.94-2.06-.94-.94-2.06-.94 2.06-2.06.94z\"/><path d=\"M17.41 7.96l-1.37-1.37c-.4-.4-.92-.59-1.43-.59-.52 0-1.04.2-1.43.59L10.3 9.45l-7.72 7.72c-.78.78-.78 2.05 0 2.83L4 21.41c.39.39.9.59 1.41.59.51 0 1.02-.2 1.41-.59l7.78-7.78 2.81-2.81c.8-.78.8-2.07 0-2.86zM5.41 20L4 18.59l7.72-7.72 1.47 1.35L5.41 20z\"/>\n",
              "  </svg>\n",
              "      </button>\n",
              "      \n",
              "  <style>\n",
              "    .colab-df-container {\n",
              "      display:flex;\n",
              "      flex-wrap:wrap;\n",
              "      gap: 12px;\n",
              "    }\n",
              "\n",
              "    .colab-df-convert {\n",
              "      background-color: #E8F0FE;\n",
              "      border: none;\n",
              "      border-radius: 50%;\n",
              "      cursor: pointer;\n",
              "      display: none;\n",
              "      fill: #1967D2;\n",
              "      height: 32px;\n",
              "      padding: 0 0 0 0;\n",
              "      width: 32px;\n",
              "    }\n",
              "\n",
              "    .colab-df-convert:hover {\n",
              "      background-color: #E2EBFA;\n",
              "      box-shadow: 0px 1px 2px rgba(60, 64, 67, 0.3), 0px 1px 3px 1px rgba(60, 64, 67, 0.15);\n",
              "      fill: #174EA6;\n",
              "    }\n",
              "\n",
              "    [theme=dark] .colab-df-convert {\n",
              "      background-color: #3B4455;\n",
              "      fill: #D2E3FC;\n",
              "    }\n",
              "\n",
              "    [theme=dark] .colab-df-convert:hover {\n",
              "      background-color: #434B5C;\n",
              "      box-shadow: 0px 1px 3px 1px rgba(0, 0, 0, 0.15);\n",
              "      filter: drop-shadow(0px 1px 2px rgba(0, 0, 0, 0.3));\n",
              "      fill: #FFFFFF;\n",
              "    }\n",
              "  </style>\n",
              "\n",
              "      <script>\n",
              "        const buttonEl =\n",
              "          document.querySelector('#df-0b27416c-d05d-4608-87d5-1d9e0d1ed64d button.colab-df-convert');\n",
              "        buttonEl.style.display =\n",
              "          google.colab.kernel.accessAllowed ? 'block' : 'none';\n",
              "\n",
              "        async function convertToInteractive(key) {\n",
              "          const element = document.querySelector('#df-0b27416c-d05d-4608-87d5-1d9e0d1ed64d');\n",
              "          const dataTable =\n",
              "            await google.colab.kernel.invokeFunction('convertToInteractive',\n",
              "                                                     [key], {});\n",
              "          if (!dataTable) return;\n",
              "\n",
              "          const docLinkHtml = 'Like what you see? Visit the ' +\n",
              "            '<a target=\"_blank\" href=https://colab.research.google.com/notebooks/data_table.ipynb>data table notebook</a>'\n",
              "            + ' to learn more about interactive tables.';\n",
              "          element.innerHTML = '';\n",
              "          dataTable['output_type'] = 'display_data';\n",
              "          await google.colab.output.renderOutput(dataTable, element);\n",
              "          const docLink = document.createElement('div');\n",
              "          docLink.innerHTML = docLinkHtml;\n",
              "          element.appendChild(docLink);\n",
              "        }\n",
              "      </script>\n",
              "    </div>\n",
              "  </div>\n",
              "  "
            ]
          },
          "metadata": {},
          "execution_count": 106
        }
      ]
    },
    {
      "cell_type": "markdown",
      "source": [
        "Como remover um coluna"
      ],
      "metadata": {
        "id": "dD1lj4l-HkSn"
      }
    },
    {
      "cell_type": "code",
      "source": [
        "dados.drop(['Data', 'Volume'], axis = 1, inplace = True)"
      ],
      "metadata": {
        "id": "Rj2MEpKwF0Pp"
      },
      "execution_count": null,
      "outputs": []
    },
    {
      "cell_type": "code",
      "source": [
        "dados.head()"
      ],
      "metadata": {
        "colab": {
          "base_uri": "https://localhost:8080/",
          "height": 238
        },
        "id": "TGQTvd6qIKsm",
        "outputId": "b1b75109-22cb-4e8b-c8c5-886cd1ecc2cc"
      },
      "execution_count": null,
      "outputs": [
        {
          "output_type": "execute_result",
          "data": {
            "text/plain": [
              "                Open      High       Low     Close     WEGE3\n",
              "Date                                                        \n",
              "2017-07-24  7.392307  7.473076  7.261538  7.426923  7.051007\n",
              "2017-07-25  7.476923  7.476923  7.307692  7.369230  6.996235\n",
              "2017-07-26  7.323076  7.442307  7.276923  7.326923  6.956069\n",
              "2017-07-27  7.388461  7.419230  7.223076  7.269230  6.901296\n",
              "2017-07-28  7.261538  7.296153  7.165384  7.200000  6.835570"
            ],
            "text/html": [
              "\n",
              "  <div id=\"df-82bbcc4e-fcea-4acf-b84e-f8aca58a9883\">\n",
              "    <div class=\"colab-df-container\">\n",
              "      <div>\n",
              "<style scoped>\n",
              "    .dataframe tbody tr th:only-of-type {\n",
              "        vertical-align: middle;\n",
              "    }\n",
              "\n",
              "    .dataframe tbody tr th {\n",
              "        vertical-align: top;\n",
              "    }\n",
              "\n",
              "    .dataframe thead th {\n",
              "        text-align: right;\n",
              "    }\n",
              "</style>\n",
              "<table border=\"1\" class=\"dataframe\">\n",
              "  <thead>\n",
              "    <tr style=\"text-align: right;\">\n",
              "      <th></th>\n",
              "      <th>Open</th>\n",
              "      <th>High</th>\n",
              "      <th>Low</th>\n",
              "      <th>Close</th>\n",
              "      <th>WEGE3</th>\n",
              "    </tr>\n",
              "    <tr>\n",
              "      <th>Date</th>\n",
              "      <th></th>\n",
              "      <th></th>\n",
              "      <th></th>\n",
              "      <th></th>\n",
              "      <th></th>\n",
              "    </tr>\n",
              "  </thead>\n",
              "  <tbody>\n",
              "    <tr>\n",
              "      <th>2017-07-24</th>\n",
              "      <td>7.392307</td>\n",
              "      <td>7.473076</td>\n",
              "      <td>7.261538</td>\n",
              "      <td>7.426923</td>\n",
              "      <td>7.051007</td>\n",
              "    </tr>\n",
              "    <tr>\n",
              "      <th>2017-07-25</th>\n",
              "      <td>7.476923</td>\n",
              "      <td>7.476923</td>\n",
              "      <td>7.307692</td>\n",
              "      <td>7.369230</td>\n",
              "      <td>6.996235</td>\n",
              "    </tr>\n",
              "    <tr>\n",
              "      <th>2017-07-26</th>\n",
              "      <td>7.323076</td>\n",
              "      <td>7.442307</td>\n",
              "      <td>7.276923</td>\n",
              "      <td>7.326923</td>\n",
              "      <td>6.956069</td>\n",
              "    </tr>\n",
              "    <tr>\n",
              "      <th>2017-07-27</th>\n",
              "      <td>7.388461</td>\n",
              "      <td>7.419230</td>\n",
              "      <td>7.223076</td>\n",
              "      <td>7.269230</td>\n",
              "      <td>6.901296</td>\n",
              "    </tr>\n",
              "    <tr>\n",
              "      <th>2017-07-28</th>\n",
              "      <td>7.261538</td>\n",
              "      <td>7.296153</td>\n",
              "      <td>7.165384</td>\n",
              "      <td>7.200000</td>\n",
              "      <td>6.835570</td>\n",
              "    </tr>\n",
              "  </tbody>\n",
              "</table>\n",
              "</div>\n",
              "      <button class=\"colab-df-convert\" onclick=\"convertToInteractive('df-82bbcc4e-fcea-4acf-b84e-f8aca58a9883')\"\n",
              "              title=\"Convert this dataframe to an interactive table.\"\n",
              "              style=\"display:none;\">\n",
              "        \n",
              "  <svg xmlns=\"http://www.w3.org/2000/svg\" height=\"24px\"viewBox=\"0 0 24 24\"\n",
              "       width=\"24px\">\n",
              "    <path d=\"M0 0h24v24H0V0z\" fill=\"none\"/>\n",
              "    <path d=\"M18.56 5.44l.94 2.06.94-2.06 2.06-.94-2.06-.94-.94-2.06-.94 2.06-2.06.94zm-11 1L8.5 8.5l.94-2.06 2.06-.94-2.06-.94L8.5 2.5l-.94 2.06-2.06.94zm10 10l.94 2.06.94-2.06 2.06-.94-2.06-.94-.94-2.06-.94 2.06-2.06.94z\"/><path d=\"M17.41 7.96l-1.37-1.37c-.4-.4-.92-.59-1.43-.59-.52 0-1.04.2-1.43.59L10.3 9.45l-7.72 7.72c-.78.78-.78 2.05 0 2.83L4 21.41c.39.39.9.59 1.41.59.51 0 1.02-.2 1.41-.59l7.78-7.78 2.81-2.81c.8-.78.8-2.07 0-2.86zM5.41 20L4 18.59l7.72-7.72 1.47 1.35L5.41 20z\"/>\n",
              "  </svg>\n",
              "      </button>\n",
              "      \n",
              "  <style>\n",
              "    .colab-df-container {\n",
              "      display:flex;\n",
              "      flex-wrap:wrap;\n",
              "      gap: 12px;\n",
              "    }\n",
              "\n",
              "    .colab-df-convert {\n",
              "      background-color: #E8F0FE;\n",
              "      border: none;\n",
              "      border-radius: 50%;\n",
              "      cursor: pointer;\n",
              "      display: none;\n",
              "      fill: #1967D2;\n",
              "      height: 32px;\n",
              "      padding: 0 0 0 0;\n",
              "      width: 32px;\n",
              "    }\n",
              "\n",
              "    .colab-df-convert:hover {\n",
              "      background-color: #E2EBFA;\n",
              "      box-shadow: 0px 1px 2px rgba(60, 64, 67, 0.3), 0px 1px 3px 1px rgba(60, 64, 67, 0.15);\n",
              "      fill: #174EA6;\n",
              "    }\n",
              "\n",
              "    [theme=dark] .colab-df-convert {\n",
              "      background-color: #3B4455;\n",
              "      fill: #D2E3FC;\n",
              "    }\n",
              "\n",
              "    [theme=dark] .colab-df-convert:hover {\n",
              "      background-color: #434B5C;\n",
              "      box-shadow: 0px 1px 3px 1px rgba(0, 0, 0, 0.15);\n",
              "      filter: drop-shadow(0px 1px 2px rgba(0, 0, 0, 0.3));\n",
              "      fill: #FFFFFF;\n",
              "    }\n",
              "  </style>\n",
              "\n",
              "      <script>\n",
              "        const buttonEl =\n",
              "          document.querySelector('#df-82bbcc4e-fcea-4acf-b84e-f8aca58a9883 button.colab-df-convert');\n",
              "        buttonEl.style.display =\n",
              "          google.colab.kernel.accessAllowed ? 'block' : 'none';\n",
              "\n",
              "        async function convertToInteractive(key) {\n",
              "          const element = document.querySelector('#df-82bbcc4e-fcea-4acf-b84e-f8aca58a9883');\n",
              "          const dataTable =\n",
              "            await google.colab.kernel.invokeFunction('convertToInteractive',\n",
              "                                                     [key], {});\n",
              "          if (!dataTable) return;\n",
              "\n",
              "          const docLinkHtml = 'Like what you see? Visit the ' +\n",
              "            '<a target=\"_blank\" href=https://colab.research.google.com/notebooks/data_table.ipynb>data table notebook</a>'\n",
              "            + ' to learn more about interactive tables.';\n",
              "          element.innerHTML = '';\n",
              "          dataTable['output_type'] = 'display_data';\n",
              "          await google.colab.output.renderOutput(dataTable, element);\n",
              "          const docLink = document.createElement('div');\n",
              "          docLink.innerHTML = docLinkHtml;\n",
              "          element.appendChild(docLink);\n",
              "        }\n",
              "      </script>\n",
              "    </div>\n",
              "  </div>\n",
              "  "
            ]
          },
          "metadata": {},
          "execution_count": 108
        }
      ]
    },
    {
      "cell_type": "code",
      "source": [
        "# Plotando todas as colunas\n",
        "\n",
        "dados.plot();"
      ],
      "metadata": {
        "colab": {
          "base_uri": "https://localhost:8080/",
          "height": 279
        },
        "id": "_3AON6mHIKpJ",
        "outputId": "088e0e0d-0b95-4aa5-ddfa-4f0e826fa299"
      },
      "execution_count": null,
      "outputs": [
        {
          "output_type": "display_data",
          "data": {
            "text/plain": [
              "<Figure size 432x288 with 1 Axes>"
            ],
            "image/png": "[encoded data removed]"
          },
          "metadata": {
            "needs_background": "light"
          }
        }
      ]
    },
    {
      "cell_type": "code",
      "source": [
        "#Quantas linhas e colunas tem o dataframe?\n",
        "\n",
        "dados.shape"
      ],
      "metadata": {
        "colab": {
          "base_uri": "https://localhost:8080/"
        },
        "id": "GFDg6S2vIKmg",
        "outputId": "c739c166-a88c-4e3d-f421-25867c822dcf"
      },
      "execution_count": null,
      "outputs": [
        {
          "output_type": "execute_result",
          "data": {
            "text/plain": [
              "(993, 5)"
            ]
          },
          "metadata": {},
          "execution_count": 112
        }
      ]
    },
    {
      "cell_type": "code",
      "source": [
        "#Filtrando apenas algumas linhas específicas\n",
        "\n",
        "dados.iloc[943:994].plot()"
      ],
      "metadata": {
        "colab": {
          "base_uri": "https://localhost:8080/",
          "height": 296
        },
        "id": "pai_qrKbI63e",
        "outputId": "df4700e7-0006-494b-e1ab-5c03598b4567"
      },
      "execution_count": null,
      "outputs": [
        {
          "output_type": "execute_result",
          "data": {
            "text/plain": [
              "<matplotlib.axes._subplots.AxesSubplot at 0x7fc41a824410>"
            ]
          },
          "metadata": {},
          "execution_count": 113
        },
        {
          "output_type": "display_data",
          "data": {
            "text/plain": [
              "<Figure size 432x288 with 1 Axes>"
            ],
            "image/png": "[encoded data removed]"
          },
          "metadata": {
            "needs_background": "light"
          }
        }
      ]
    },
    {
      "cell_type": "code",
      "source": [
        "# Aumentando o tamanho do gráfico\n",
        "\n",
        "dados.iloc[943:994].plot(figsize = (10,10));"
      ],
      "metadata": {
        "colab": {
          "base_uri": "https://localhost:8080/",
          "height": 606
        },
        "id": "aVQRjIxhI60D",
        "outputId": "54b3209d-2900-4f23-942d-771dff65ee78"
      },
      "execution_count": null,
      "outputs": [
        {
          "output_type": "display_data",
          "data": {
            "text/plain": [
              "<Figure size 720x720 with 1 Axes>"
            ],
            "image/png": "[encoded data removed]"
          },
          "metadata": {
            "needs_background": "light"
          }
        }
      ]
    },
    {
      "cell_type": "code",
      "source": [
        ""
      ],
      "metadata": {
        "id": "IlbKabpFI6xF"
      },
      "execution_count": null,
      "outputs": []
    }
  ]
}